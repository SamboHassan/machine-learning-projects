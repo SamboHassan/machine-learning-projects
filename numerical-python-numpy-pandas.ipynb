{
 "cells": [
  {
   "cell_type": "markdown",
   "id": "aeaeb33a",
   "metadata": {},
   "source": [
    "### Vector, matrices and multidimentional arrays"
   ]
  },
  {
   "cell_type": "code",
   "execution_count": 1,
   "id": "dc679d78",
   "metadata": {},
   "outputs": [],
   "source": [
    "import numpy as np\n",
    "import pandas"
   ]
  },
  {
   "cell_type": "code",
   "execution_count": null,
   "id": "cf83a178",
   "metadata": {},
   "outputs": [],
   "source": []
  },
  {
   "cell_type": "code",
   "execution_count": 4,
   "id": "7c3012e2",
   "metadata": {},
   "outputs": [
    {
     "name": "stdout",
     "output_type": "stream",
     "text": [
      "[ 1  3  5  7  9 11 13]\n"
     ]
    }
   ],
   "source": [
    "a = np.arange(1,15,2)\n",
    "print(a)"
   ]
  },
  {
   "cell_type": "code",
   "execution_count": 5,
   "id": "775655f7",
   "metadata": {},
   "outputs": [],
   "source": [
    "#sqrt\n",
    "b = np.sqrt(a)"
   ]
  },
  {
   "cell_type": "code",
   "execution_count": 6,
   "id": "85af70bd",
   "metadata": {},
   "outputs": [
    {
     "data": {
      "text/plain": [
       "array([2.71828183e+00, 2.00855369e+01, 1.48413159e+02, 1.09663316e+03,\n",
       "       8.10308393e+03, 5.98741417e+04, 4.42413392e+05])"
      ]
     },
     "execution_count": 6,
     "metadata": {},
     "output_type": "execute_result"
    }
   ],
   "source": [
    "np.exp(a)"
   ]
  },
  {
   "cell_type": "code",
   "execution_count": 7,
   "id": "6cee01f2",
   "metadata": {},
   "outputs": [
    {
     "data": {
      "text/plain": [
       "array([ 2.        ,  4.73205081,  7.23606798,  9.64575131, 12.        ,\n",
       "       14.31662479, 16.60555128])"
      ]
     },
     "execution_count": 7,
     "metadata": {},
     "output_type": "execute_result"
    }
   ],
   "source": [
    "np.add(a,b)"
   ]
  },
  {
   "cell_type": "markdown",
   "id": "257e6d29",
   "metadata": {},
   "source": [
    "### Conditional Clause and Boolean Operation"
   ]
  },
  {
   "cell_type": "code",
   "execution_count": 8,
   "id": "de4110e1",
   "metadata": {},
   "outputs": [],
   "source": [
    "x = np.array([100,400,500,600]) # let each data item be 'a'\n",
    "y = np.array([10,15,20,25]) # let each data item be 'b'\n",
    "\n",
    "condition = np.array([True, True, False, False])"
   ]
  },
  {
   "cell_type": "code",
   "execution_count": 9,
   "id": "f2652a9a",
   "metadata": {},
   "outputs": [],
   "source": [
    "# use loop indirectly to perform this\n",
    "z = [a if cond else b for a, cond, b in zip(x, condition,y)]"
   ]
  },
  {
   "cell_type": "code",
   "execution_count": 10,
   "id": "3f7b0ec6",
   "metadata": {},
   "outputs": [
    {
     "name": "stdout",
     "output_type": "stream",
     "text": [
      "[100, 400, 20, 25]\n"
     ]
    }
   ],
   "source": [
    "print(z)"
   ]
  },
  {
   "cell_type": "code",
   "execution_count": 11,
   "id": "002feea2",
   "metadata": {},
   "outputs": [],
   "source": [
    "# np.where(condition, value-for-yes, value-for-no)\n",
    "z2 = np.where(condition, x, y)"
   ]
  },
  {
   "cell_type": "code",
   "execution_count": 12,
   "id": "37782262",
   "metadata": {},
   "outputs": [
    {
     "name": "stdout",
     "output_type": "stream",
     "text": [
      "[100 400  20  25]\n"
     ]
    }
   ],
   "source": [
    "print(z2)"
   ]
  },
  {
   "cell_type": "code",
   "execution_count": 13,
   "id": "cc051234",
   "metadata": {},
   "outputs": [
    {
     "data": {
      "text/plain": [
       "545"
      ]
     },
     "execution_count": 13,
     "metadata": {},
     "output_type": "execute_result"
    }
   ],
   "source": [
    "# Standard function\n",
    "z2.sum()"
   ]
  },
  {
   "cell_type": "code",
   "execution_count": 14,
   "id": "355f8d70",
   "metadata": {},
   "outputs": [
    {
     "name": "stdout",
     "output_type": "stream",
     "text": [
      "[[1 2]\n",
      " [3 4]]\n"
     ]
    }
   ],
   "source": [
    "#Sum column\n",
    "\n",
    "n = np.array([[1,2],[3,4]])\n",
    "print(n)"
   ]
  },
  {
   "cell_type": "code",
   "execution_count": 15,
   "id": "ac49dd03",
   "metadata": {},
   "outputs": [
    {
     "name": "stdout",
     "output_type": "stream",
     "text": [
      "[4 6]\n"
     ]
    }
   ],
   "source": [
    "# column sum\n",
    "print(n.sum(0))"
   ]
  },
  {
   "cell_type": "code",
   "execution_count": 16,
   "id": "feaf03c8",
   "metadata": {},
   "outputs": [
    {
     "name": "stdout",
     "output_type": "stream",
     "text": [
      "[3 7]\n"
     ]
    }
   ],
   "source": [
    "# row sum\n",
    "print(n.sum(1))"
   ]
  },
  {
   "cell_type": "code",
   "execution_count": 17,
   "id": "21921e1d",
   "metadata": {},
   "outputs": [
    {
     "name": "stdout",
     "output_type": "stream",
     "text": [
      "2.5\n",
      "1.118033988749895\n",
      "1.25\n"
     ]
    }
   ],
   "source": [
    "print(n.mean())\n",
    "print(n.std())\n",
    "print(n.var())"
   ]
  },
  {
   "cell_type": "code",
   "execution_count": 18,
   "id": "b6b77aff",
   "metadata": {},
   "outputs": [],
   "source": [
    "condition2 = np.array([True, False, True])"
   ]
  },
  {
   "cell_type": "code",
   "execution_count": 19,
   "id": "87b40505",
   "metadata": {},
   "outputs": [
    {
     "data": {
      "text/plain": [
       "False"
      ]
     },
     "execution_count": 19,
     "metadata": {},
     "output_type": "execute_result"
    }
   ],
   "source": [
    "# condition2.any() # or operator\n",
    "condition2.all() # and operator"
   ]
  },
  {
   "cell_type": "code",
   "execution_count": null,
   "id": "77d3d5da",
   "metadata": {},
   "outputs": [],
   "source": []
  },
  {
   "cell_type": "code",
   "execution_count": 20,
   "id": "edbab203",
   "metadata": {},
   "outputs": [],
   "source": [
    "array2 = np.array(['solid', 'solid', 'liquid', 'solid', 'liquid'])"
   ]
  },
  {
   "cell_type": "code",
   "execution_count": 21,
   "id": "cb9235dd",
   "metadata": {},
   "outputs": [
    {
     "name": "stdout",
     "output_type": "stream",
     "text": [
      "['liquid' 'solid']\n"
     ]
    }
   ],
   "source": [
    "print(np.unique(array2))"
   ]
  },
  {
   "cell_type": "code",
   "execution_count": 22,
   "id": "90b29440",
   "metadata": {},
   "outputs": [],
   "source": [
    "# Sorting in numpy array\n",
    "unsorted = np.array([1,2,8,10,7,9,4])"
   ]
  },
  {
   "cell_type": "code",
   "execution_count": 23,
   "id": "cd2f6fdd",
   "metadata": {},
   "outputs": [],
   "source": [
    "sorted_array = np.sort(unsorted)"
   ]
  },
  {
   "cell_type": "code",
   "execution_count": 24,
   "id": "59567a35",
   "metadata": {},
   "outputs": [
    {
     "name": "stdout",
     "output_type": "stream",
     "text": [
      "[ 1  2  4  7  8  9 10]\n"
     ]
    }
   ],
   "source": [
    "print(sorted_array)"
   ]
  },
  {
   "cell_type": "markdown",
   "id": "1ab0b07e",
   "metadata": {},
   "source": [
    "## 2. Data Manipulation with Pandas"
   ]
  },
  {
   "cell_type": "code",
   "execution_count": 25,
   "id": "32ba8e1d",
   "metadata": {},
   "outputs": [],
   "source": [
    "import pandas as pd\n",
    "from pandas import Series, DataFrame"
   ]
  },
  {
   "cell_type": "code",
   "execution_count": 26,
   "id": "3dc5052b",
   "metadata": {},
   "outputs": [],
   "source": [
    "obj1 = Series([5,10,15,20])"
   ]
  },
  {
   "cell_type": "code",
   "execution_count": 27,
   "id": "fc55e970",
   "metadata": {},
   "outputs": [
    {
     "name": "stdout",
     "output_type": "stream",
     "text": [
      "0     5\n",
      "1    10\n",
      "2    15\n",
      "3    20\n",
      "dtype: int64\n"
     ]
    }
   ],
   "source": [
    "print(obj1)"
   ]
  },
  {
   "cell_type": "code",
   "execution_count": 28,
   "id": "d0f2096e",
   "metadata": {},
   "outputs": [],
   "source": [
    "#use numpy array to series\n",
    "data_array = np.array(['a', 'b', 'c'])\n",
    "\n",
    "s = Series(data_array)"
   ]
  },
  {
   "cell_type": "code",
   "execution_count": 29,
   "id": "80db999e",
   "metadata": {},
   "outputs": [
    {
     "name": "stdout",
     "output_type": "stream",
     "text": [
      "100    a\n",
      "101    b\n",
      "102    c\n",
      "dtype: object\n"
     ]
    }
   ],
   "source": [
    "# custom index\n",
    "s = Series(data_array, index=[100,101,102])\n",
    "print(s)"
   ]
  },
  {
   "cell_type": "code",
   "execution_count": 30,
   "id": "284895e4",
   "metadata": {},
   "outputs": [
    {
     "name": "stdout",
     "output_type": "stream",
     "text": [
      "ola     20\n",
      "uber    80\n",
      "grab    40\n",
      "goje    35\n",
      "dtype: int64\n"
     ]
    }
   ],
   "source": [
    "revenue = Series([20,80,40,35], index=['ola', 'uber', 'grab','goje'])\n",
    "print(revenue)\n",
    "# print(revenue['ola'])\n",
    "# print(revenue[revenue>=34])"
   ]
  },
  {
   "cell_type": "code",
   "execution_count": 31,
   "id": "4781f25b",
   "metadata": {},
   "outputs": [
    {
     "name": "stdout",
     "output_type": "stream",
     "text": [
      "{'ola': 20, 'uber': 80, 'grab': 40, 'goje': 35}\n",
      "<class 'dict'>\n"
     ]
    }
   ],
   "source": [
    "revenue_dict = revenue.to_dict()\n",
    "print(revenue_dict)\n",
    "print(type(revenue_dict))"
   ]
  },
  {
   "cell_type": "code",
   "execution_count": 32,
   "id": "4d22a047",
   "metadata": {},
   "outputs": [
    {
     "data": {
      "text/plain": [
       "musa     True\n",
       "saleh    True\n",
       "isa      True\n",
       "modu     True\n",
       "tanko    True\n",
       "dtype: bool"
      ]
     },
     "execution_count": 32,
     "metadata": {},
     "output_type": "execute_result"
    }
   ],
   "source": [
    "index2 = ['musa', 'saleh', 'isa', 'modu', 'tanko']\n",
    "revenue2 = Series(revenue, index2)\n",
    "# print(revenue2)\n",
    "pd.isnull(revenue2)"
   ]
  },
  {
   "cell_type": "code",
   "execution_count": 33,
   "id": "0f6f1383",
   "metadata": {},
   "outputs": [
    {
     "name": "stdout",
     "output_type": "stream",
     "text": [
      "goje    NaN\n",
      "grab    NaN\n",
      "isa     NaN\n",
      "modu    NaN\n",
      "musa    NaN\n",
      "ola     NaN\n",
      "saleh   NaN\n",
      "tanko   NaN\n",
      "uber    NaN\n",
      "dtype: float64\n"
     ]
    }
   ],
   "source": [
    "print(revenue + revenue2)"
   ]
  },
  {
   "cell_type": "markdown",
   "id": "e05bbe67",
   "metadata": {},
   "source": [
    "### DATAFRAME"
   ]
  },
  {
   "cell_type": "code",
   "execution_count": 34,
   "id": "f443fbf1",
   "metadata": {},
   "outputs": [],
   "source": [
    "series_a = Series([100,200,300], index=['a', 'b', 'c'])\n",
    "series_b = Series([300,400,500,600], index=['a', 'b', 'c', 'd'])"
   ]
  },
  {
   "cell_type": "code",
   "execution_count": 35,
   "id": "dd758460",
   "metadata": {},
   "outputs": [
    {
     "name": "stdout",
     "output_type": "stream",
     "text": [
      "a    400.0\n",
      "b    600.0\n",
      "c    800.0\n",
      "d      NaN\n",
      "dtype: float64\n"
     ]
    }
   ],
   "source": [
    "#Sum of series\n",
    "print(series_a + series_b)"
   ]
  },
  {
   "cell_type": "code",
   "execution_count": 65,
   "id": "c1c3ad57",
   "metadata": {},
   "outputs": [],
   "source": [
    "df1 = DataFrame(np.arange(9).reshape(3,3), columns=['a','b', 'c'], index=['Rank', 'Name', 'Industry'])"
   ]
  },
  {
   "cell_type": "code",
   "execution_count": 66,
   "id": "35d23639",
   "metadata": {},
   "outputs": [
    {
     "name": "stdout",
     "output_type": "stream",
     "text": [
      "          a  b  c\n",
      "Rank      0  1  2\n",
      "Name      3  4  5\n",
      "Industry  6  7  8\n"
     ]
    }
   ],
   "source": [
    "print(df1)"
   ]
  },
  {
   "cell_type": "code",
   "execution_count": 67,
   "id": "f6887298",
   "metadata": {},
   "outputs": [
    {
     "name": "stdout",
     "output_type": "stream",
     "text": [
      "      a  b  c\n",
      "Rank  0  1  2\n"
     ]
    }
   ],
   "source": [
    "# head and tail\n",
    "print(df1.head(1))"
   ]
  },
  {
   "cell_type": "code",
   "execution_count": 68,
   "id": "1be1dab3",
   "metadata": {},
   "outputs": [
    {
     "name": "stdout",
     "output_type": "stream",
     "text": [
      "          a  b  c\n",
      "Industry  6  7  8\n"
     ]
    }
   ],
   "source": [
    "print(df1.tail(1))"
   ]
  },
  {
   "cell_type": "code",
   "execution_count": 70,
   "id": "c4c29444",
   "metadata": {},
   "outputs": [
    {
     "name": "stdout",
     "output_type": "stream",
     "text": [
      "          a  b  c   d\n",
      "Rank      0  1  2   9\n",
      "Name      3  4  5  10\n",
      "Industry  6  7  8  11\n"
     ]
    }
   ],
   "source": [
    "# assign values to df\n",
    "array1 = np.array([9,10,11])\n",
    "\n",
    "df1['d'] = array1\n",
    "\n",
    "print(df1)"
   ]
  },
  {
   "cell_type": "code",
   "execution_count": 80,
   "id": "9bccf3fa",
   "metadata": {},
   "outputs": [],
   "source": [
    "#deletion\n",
    "# del df1['d']\n",
    "# print(df1)"
   ]
  },
  {
   "cell_type": "code",
   "execution_count": 82,
   "id": "1715c6aa",
   "metadata": {},
   "outputs": [],
   "source": [
    "series_a = Series([100,200,300], index=['a', 'b', 'c'])\n",
    "series_b = Series([300, 400, 500, 600], index=['a', 'b', 'c', 'd'])"
   ]
  },
  {
   "cell_type": "code",
   "execution_count": 84,
   "id": "0a483b44",
   "metadata": {},
   "outputs": [
    {
     "name": "stdout",
     "output_type": "stream",
     "text": [
      "a    400.0\n",
      "b    600.0\n",
      "c    800.0\n",
      "d      NaN\n",
      "dtype: float64\n"
     ]
    }
   ],
   "source": [
    "# SUM of series\n",
    "print(series_a + series_b)"
   ]
  },
  {
   "cell_type": "code",
   "execution_count": 89,
   "id": "5ccb73a2",
   "metadata": {},
   "outputs": [],
   "source": [
    "df1 = DataFrame(np.arange(4).reshape(2,2), columns=['a','b'], index=['car', 'bike'])\n",
    "df2 = DataFrame(np.arange(9).reshape(3,3), columns=['a','b', 'c'], index=['car', 'bike', 'cycle'])"
   ]
  },
  {
   "cell_type": "code",
   "execution_count": 91,
   "id": "df7bd5aa",
   "metadata": {},
   "outputs": [
    {
     "name": "stdout",
     "output_type": "stream",
     "text": [
      "         a    b   c\n",
      "bike   5.0  7.0 NaN\n",
      "car    0.0  2.0 NaN\n",
      "cycle  NaN  NaN NaN\n"
     ]
    }
   ],
   "source": [
    "print(df1 + df2)"
   ]
  },
  {
   "cell_type": "code",
   "execution_count": 93,
   "id": "2fc502b3",
   "metadata": {},
   "outputs": [
    {
     "name": "stdout",
     "output_type": "stream",
     "text": [
      "          a     b     c\n",
      "bike    8.0  11.0  10.0\n",
      "car     0.0   3.0   4.0\n",
      "cycle  12.0  14.0  16.0\n"
     ]
    }
   ],
   "source": [
    "df1 = df1.add(df2, fill_value=0)\n",
    "print(df1)"
   ]
  }
 ],
 "metadata": {
  "kernelspec": {
   "display_name": ".venv",
   "language": "python",
   "name": "python3"
  },
  "language_info": {
   "codemirror_mode": {
    "name": "ipython",
    "version": 3
   },
   "file_extension": ".py",
   "mimetype": "text/x-python",
   "name": "python",
   "nbconvert_exporter": "python",
   "pygments_lexer": "ipython3",
   "version": "3.13.5"
  }
 },
 "nbformat": 4,
 "nbformat_minor": 5
}
