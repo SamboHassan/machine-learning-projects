{
 "cells": [
  {
   "cell_type": "raw",
   "metadata": {
    "vscode": {
     "languageId": "raw"
    }
   },
   "source": [
    "1. Extracting Information from Columns with Dictionaries\n",
    "\n",
    "Use Case: A column contains dictionary-like objects (e.g., JSON data). Extract \n",
    "specific keys or values from these dictionaries."
   ]
  },
  {
   "cell_type": "code",
   "execution_count": null,
   "metadata": {},
   "outputs": [
    {
     "name": "stdout",
     "output_type": "stream",
     "text": [
      "      Name                         Details\n",
      "0    Alice      {'Age': 25, 'City': 'NYC'}\n",
      "1      Bob       {'Age': 30, 'City': 'LA'}\n",
      "2  Charlie  {'Age': 35, 'City': 'Chicago'}\n"
     ]
    }
   ],
   "source": [
    "import pandas as pd\n",
    "\n",
    "# Example DataFrame\n",
    "data = {\n",
    "    \"Name\": [\"Alice\", \"Bob\", \"Charlie\"],\n",
    "    \"Details\": [{\"Age\": 25, \"City\": \"NYC\"}, {\"Age\": 30, \"City\": \"LA\"}, \n",
    "                {\"Age\": 35, \"City\": \"Chicago\"}],\n",
    "}\n",
    "\n",
    "df = pd.DataFrame(data)\n",
    "\n",
    "# print(df[\"Name\"][0])\n",
    "print(df)"
   ]
  },
  {
   "cell_type": "code",
   "execution_count": 3,
   "metadata": {},
   "outputs": [
    {
     "name": "stdout",
     "output_type": "stream",
     "text": [
      "      Name                         Details  Age\n",
      "0    Alice      {'Age': 25, 'City': 'NYC'}   25\n",
      "1      Bob       {'Age': 30, 'City': 'LA'}   30\n",
      "2  Charlie  {'Age': 35, 'City': 'Chicago'}   35\n"
     ]
    }
   ],
   "source": [
    "# Create a new column called Age\n",
    "df[\"Age\"] = df[\"Details\"].apply(lambda x: x[\"Age\"] )\n",
    "print(df)"
   ]
  },
  {
   "cell_type": "code",
   "execution_count": 15,
   "metadata": {},
   "outputs": [
    {
     "name": "stdout",
     "output_type": "stream",
     "text": [
      "    Name                     Details City  Age\n",
      "0  Alice  {'Age': 25, 'City': 'NYC'}  NYC   25\n",
      "1    Bob   {'Age': 30, 'City': 'LA'}   LA   30\n"
     ]
    }
   ],
   "source": [
    "# Extract multiple keys into separate columns\n",
    "df[\"City\"] = df[\"Details\"].apply(lambda x: x[\"City\"])\n",
    "print(df)\n",
    "\n",
    "# df[\"Age\"] = df[\"Details\"].apply(lambda x: x[\"Age\"])\n",
    "# df[\"City\"] = df[\"Details\"].apply(lambda y: y[\"City\"])\n",
    "# df[\"Address\"] = [\"Kano\",\"Nguru\",\"Bauchi\"]"
   ]
  },
  {
   "cell_type": "markdown",
   "metadata": {
    "vscode": {
     "languageId": "raw"
    }
   },
   "source": [
    "2. Exploding a Column with Lists\n",
    "\n",
    "Use Case: A column contains lists, and you want to \"explode\" each element of \n",
    "the list into its own row."
   ]
  },
  {
   "cell_type": "code",
   "execution_count": 5,
   "metadata": {},
   "outputs": [
    {
     "name": "stdout",
     "output_type": "stream",
     "text": [
      "      Name    Hobbies\n",
      "0    Alice    Reading\n",
      "1    Alice  Traveling\n",
      "2      Bob    Cooking\n",
      "3  Charlie   Swimming\n",
      "4  Charlie     Gaming\n",
      "5  Charlie     Hiking\n"
     ]
    }
   ],
   "source": [
    "# Example DataFrame\n",
    "data = {\n",
    "    \"Name\": [\"Alice\", \"Bob\", \"Charlie\"],\n",
    "    \"Hobbies\": [[\"Reading\", \"Traveling\"], [\"Cooking\"], [\"Swimming\", \"Gaming\", \"Hiking\"]],\n",
    "}\n",
    "df = pd.DataFrame(data)\n",
    "\n",
    "# Explode the list into multiple rows\n",
    "df_exploded = df.explode(\"Hobbies\").reset_index(drop=True)\n",
    "print(df_exploded)"
   ]
  },
  {
   "cell_type": "raw",
   "metadata": {
    "vscode": {
     "languageId": "raw"
    }
   },
   "source": [
    "3. Flattening Nested JSON Structures\n",
    "Use Case: A DataFrame contains nested JSON data, and you want to normalize it into \n",
    "a flat table."
   ]
  },
  {
   "cell_type": "code",
   "execution_count": 6,
   "metadata": {},
   "outputs": [
    {
     "name": "stdout",
     "output_type": "stream",
     "text": [
      "      Name  Details.Age Details.City\n",
      "0    Alice           25          NYC\n",
      "1      Bob           30           LA\n",
      "2  Charlie           35      Chicago\n"
     ]
    }
   ],
   "source": [
    "import pandas as pd\n",
    "from pandas import json_normalize\n",
    "\n",
    "# Example JSON-like data\n",
    "data = [\n",
    "    {\"Name\": \"Alice\", \"Details\": {\"Age\": 25, \"City\": \"NYC\"}},\n",
    "    {\"Name\": \"Bob\", \"Details\": {\"Age\": 30, \"City\": \"LA\"}},\n",
    "    {\"Name\": \"Charlie\", \"Details\": {\"Age\": 35, \"City\": \"Chicago\"}},\n",
    "]\n",
    "\n",
    "# Convert to DataFrame and flatten JSON\n",
    "df = pd.json_normalize(data)\n",
    "print(df)"
   ]
  },
  {
   "cell_type": "raw",
   "metadata": {
    "vscode": {
     "languageId": "raw"
    }
   },
   "source": [
    "4. Accessing Multi-Level Columns\n",
    "Use Case: A DataFrame has hierarchical column names (e.g., resulting from groupby \n",
    "or pivot). Extract data from specific levels."
   ]
  },
  {
   "cell_type": "code",
   "execution_count": 7,
   "metadata": {},
   "outputs": [
    {
     "name": "stdout",
     "output_type": "stream",
     "text": [
      "    2023  2024\n",
      "Q1   100   120\n",
      "Q2   200   250\n",
      "Q3   150   180\n",
      "Q1    100\n",
      "Q2    200\n",
      "Q3    150\n",
      "Name: (Sales, 2023), dtype: int64\n",
      "    Sales_2023  Sales_2024  Profit_2023  Profit_2024\n",
      "Q1         100         120           20           25\n",
      "Q2         200         250           50           60\n",
      "Q3         150         180           30           40\n"
     ]
    }
   ],
   "source": [
    "# Example Multi-Level Columns DataFrame\n",
    "data = {\n",
    "    (\"Sales\", \"2023\"): [100, 200, 150],\n",
    "    (\"Sales\", \"2024\"): [120, 250, 180],\n",
    "    (\"Profit\", \"2023\"): [20, 50, 30],\n",
    "    (\"Profit\", \"2024\"): [25, 60, 40],\n",
    "}\n",
    "df = pd.DataFrame(data, index=[\"Q1\", \"Q2\", \"Q3\"])\n",
    "\n",
    "# Access data for a specific level (e.g., 'Sales')\n",
    "sales_data = df[\"Sales\"]\n",
    "print(sales_data)\n",
    "\n",
    "# Access a specific sub-level (e.g., '2023' under 'Sales')\n",
    "sales_2023 = df[(\"Sales\", \"2023\")]\n",
    "print(sales_2023)\n",
    "\n",
    "# Flatten multi-level columns into single-level\n",
    "df.columns = ['_'.join(col) for col in df.columns]\n",
    "print(df)"
   ]
  },
  {
   "cell_type": "markdown",
   "metadata": {
    "vscode": {
     "languageId": "raw"
    }
   },
   "source": [
    "5. Iterating Over Nested Data with itertuples or apply\n",
    "\n",
    "Use Case: Process nested elements row by row."
   ]
  },
  {
   "cell_type": "code",
   "execution_count": 8,
   "metadata": {},
   "outputs": [
    {
     "name": "stdout",
     "output_type": "stream",
     "text": [
      "    Name                       Scores  Math Score\n",
      "0  Alice  {'Math': 90, 'Science': 85}          90\n",
      "1    Bob  {'Math': 75, 'Science': 80}          75\n"
     ]
    }
   ],
   "source": [
    "# Example DataFrame\n",
    "data = {\n",
    "    \"Name\": [\"Alice\", \"Bob\"],\n",
    "    \"Scores\": [{\"Math\": 90, \"Science\": 85}, {\"Math\": 75, \"Science\": 80}],\n",
    "}\n",
    "df = pd.DataFrame(data)\n",
    "\n",
    "# Process each row\n",
    "def extract_math_score(row):\n",
    "    return row[\"Scores\"][\"Math\"]\n",
    "\n",
    "df[\"Math Score\"] = df.apply(extract_math_score, axis=1)\n",
    "print(df)\n"
   ]
  },
  {
   "cell_type": "markdown",
   "metadata": {},
   "source": [
    "#### 6. Working with Columns of Tuples\n",
    "##### Use Case: A column contains tuples, and you want to extract individual elements."
   ]
  },
  {
   "cell_type": "code",
   "execution_count": 9,
   "metadata": {},
   "outputs": [
    {
     "name": "stdout",
     "output_type": "stream",
     "text": [
      "          Values\n",
      "Subgroup        \n",
      "A             10\n",
      "B             20\n",
      "Values    20\n",
      "Name: (Group1, B), dtype: int64\n"
     ]
    }
   ],
   "source": [
    "# Example Multi-Index DataFrame\n",
    "arrays = [[\"Group1\", \"Group1\", \"Group2\", \"Group2\"], [\"A\", \"B\", \"A\", \"B\"]]\n",
    "index = pd.MultiIndex.from_arrays(arrays, names=(\"Group\", \"Subgroup\"))\n",
    "df = pd.DataFrame({\"Values\": [10, 20, 30, 40]}, index=index)\n",
    "\n",
    "# Extract data for a specific group\n",
    "group1_data = df.loc[\"Group1\"]\n",
    "print(group1_data)\n",
    "\n",
    "# Access data for specific subgroup\n",
    "group1_b = df.loc[(\"Group1\", \"B\")]\n",
    "print(group1_b)"
   ]
  },
  {
   "cell_type": "markdown",
   "metadata": {},
   "source": [
    "\n",
    "#### 7. Handling Multi-Index DataFrames \n",
    "Use Case: Extract data from rows or columns indexed with multiple levels."
   ]
  },
  {
   "cell_type": "code",
   "execution_count": 10,
   "metadata": {},
   "outputs": [
    {
     "name": "stdout",
     "output_type": "stream",
     "text": [
      "          Values\n",
      "Subgroup        \n",
      "A             10\n",
      "B             20\n",
      "Values    20\n",
      "Name: (Group1, B), dtype: int64\n"
     ]
    }
   ],
   "source": [
    "# Example Multi-Index DataFrame\n",
    "arrays = [[\"Group1\", \"Group1\", \"Group2\", \"Group2\"], [\"A\", \"B\", \"A\", \"B\"]]\n",
    "index = pd.MultiIndex.from_arrays(arrays, names=(\"Group\", \"Subgroup\"))\n",
    "df = pd.DataFrame({\"Values\": [10, 20, 30, 40]}, index=index)\n",
    "\n",
    "# Extract data for a specific group\n",
    "group1_data = df.loc[\"Group1\"]\n",
    "print(group1_data)\n",
    "\n",
    "# Access data for specific subgroup\n",
    "group1_b = df.loc[(\"Group1\", \"B\")]\n",
    "print(group1_b)\n"
   ]
  },
  {
   "cell_type": "markdown",
   "metadata": {},
   "source": [
    "8. Exploding Nested DataFrames\n",
    "Use Case: Nested DataFrames within a DataFrame column"
   ]
  },
  {
   "cell_type": "code",
   "execution_count": 11,
   "metadata": {},
   "outputs": [
    {
     "name": "stdout",
     "output_type": "stream",
     "text": [
      "       Score  Subject\n",
      "Name                 \n",
      "Alice     90     Math\n",
      "Alice     85  Science\n",
      "Bob       75     Math\n",
      "Bob       80  Science\n"
     ]
    }
   ],
   "source": [
    "# Example Nested DataFrame\n",
    "data = {\n",
    "    \"Name\": [\"Alice\", \"Bob\"],\n",
    "    \"Metrics\": [pd.DataFrame({\"Score\": [90, 85], \"Subject\": [\"Math\", \"Science\"]}),\n",
    "                pd.DataFrame({\"Score\": [75, 80], \"Subject\": [\"Math\", \"Science\"]})],\n",
    "}\n",
    "df = pd.DataFrame(data)\n",
    "\n",
    "# Extract nested DataFrame\n",
    "nested_df = pd.concat(df[\"Metrics\"].tolist(), keys=df[\"Name\"]).reset_index(level=1, drop=True).rename_axis(\"Name\")\n",
    "print(nested_df)\n"
   ]
  },
  {
   "cell_type": "markdown",
   "metadata": {},
   "source": [
    "9. Extracting Nested Lists in Dictionaries\n",
    "Use Case: A dictionary contains lists as values, and you need to extract or process those lists."
   ]
  },
  {
   "cell_type": "code",
   "execution_count": 12,
   "metadata": {},
   "outputs": [
    {
     "name": "stdout",
     "output_type": "stream",
     "text": [
      "    Name                                   Scores  Math_Score_First\n",
      "0  Alice  {'Math': [90, 92], 'Science': [85, 87]}                90\n",
      "1    Bob  {'Math': [75, 77], 'Science': [80, 82]}                75\n"
     ]
    }
   ],
   "source": [
    "data = {\n",
    "    \"Name\": [\"Alice\", \"Bob\"],\n",
    "    \"Scores\": [{\"Math\": [90, 92], \"Science\": [85, 87]}, {\"Math\": [75, 77], \"Science\": [80, 82]}],\n",
    "}\n",
    "df = pd.DataFrame(data)\n",
    "\n",
    "# Extract the first element of the 'Math' scores\n",
    "df[\"Math_Score_First\"] = df[\"Scores\"].apply(lambda x: x[\"Math\"][0])\n",
    "print(df)\n"
   ]
  },
  {
   "cell_type": "markdown",
   "metadata": {},
   "source": [
    "10. Filtering Data Using Nested Values\n",
    "\n",
    "Use Case: Filter rows based on values in nested dictionaries or lists."
   ]
  },
  {
   "cell_type": "code",
   "execution_count": 13,
   "metadata": {},
   "outputs": [
    {
     "name": "stdout",
     "output_type": "stream",
     "text": [
      "  Name                    Details\n",
      "1  Bob  {'Age': 30, 'City': 'LA'}\n"
     ]
    }
   ],
   "source": [
    "# Example DataFrame\n",
    "data = {\n",
    "    \"Name\": [\"Alice\", \"Bob\"],\n",
    "    \"Details\": [{\"Age\": 25, \"City\": \"NYC\"}, {\"Age\": 30, \"City\": \"LA\"}],\n",
    "}\n",
    "df = pd.DataFrame(data)\n",
    "\n",
    "# Filter rows where Age > 25\n",
    "filtered_df = df[df[\"Details\"].apply(lambda x: x[\"Age\"] > 25)]\n",
    "print(filtered_df)\n"
   ]
  },
  {
   "cell_type": "raw",
   "metadata": {
    "vscode": {
     "languageId": "raw"
    }
   },
   "source": [
    "Conclusion\n",
    "The best method depends on your specific data structure and requirements. \n",
    "Common tools include:\n",
    "\n",
    ".apply() for row/column-wise operations.\n",
    ".explode() for handling lists\n",
    ".json_normalize() for flattening JSON.\n",
    "\n",
    "MultiIndex accessors for hierarchical structures.\n",
    "By combining these techniques, you can handle any nested data in Pandas!"
   ]
  }
 ],
 "metadata": {
  "kernelspec": {
   "display_name": "base",
   "language": "python",
   "name": "python3"
  },
  "language_info": {
   "codemirror_mode": {
    "name": "ipython",
    "version": 3
   },
   "file_extension": ".py",
   "mimetype": "text/x-python",
   "name": "python",
   "nbconvert_exporter": "python",
   "pygments_lexer": "ipython3",
   "version": "3.12.4"
  }
 },
 "nbformat": 4,
 "nbformat_minor": 2
}
