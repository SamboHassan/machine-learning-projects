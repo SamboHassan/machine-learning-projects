{
 "cells": [
  {
   "cell_type": "raw",
   "metadata": {
    "vscode": {
     "languageId": "raw"
    }
   },
   "source": [
    "1. Extracting Information from Columns with Dictionaries\n",
    "\n",
    "Use Case: A column contains dictionary-like objects (e.g., JSON data). Extract \n",
    "specific keys or values from these dictionaries."
   ]
  },
  {
   "cell_type": "code",
   "execution_count": 6,
   "metadata": {},
   "outputs": [
    {
     "name": "stdout",
     "output_type": "stream",
     "text": [
      "      Name                         Details\n",
      "0    Alice      {'Age': 25, 'City': 'NYC'}\n",
      "1      Bob       {'Age': 30, 'City': 'LA'}\n",
      "2  Charlie  {'Age': 35, 'City': 'Chicago'}\n"
     ]
    }
   ],
   "source": [
    "import pandas as pd\n",
    "\n",
    "# Example DataFrame\n",
    "data = {\n",
    "    \"Name\": [\"Alice\", \"Bob\", \"Charlie\"],\n",
    "    \"Details\": [{\"Age\": 25, \"City\": \"NYC\"}, {\"Age\": 30, \"City\": \"LA\"}, \n",
    "                {\"Age\": 35, \"City\": \"Chicago\"}],\n",
    "}\n",
    "\n",
    "df = pd.DataFrame(data)\n",
    "\n",
    "print(df)"
   ]
  },
  {
   "cell_type": "code",
   "execution_count": 8,
   "metadata": {},
   "outputs": [
    {
     "name": "stdout",
     "output_type": "stream",
     "text": [
      "      Name                         Details  Age\n",
      "0    Alice      {'Age': 25, 'City': 'NYC'}   25\n",
      "1      Bob       {'Age': 30, 'City': 'LA'}   30\n",
      "2  Charlie  {'Age': 35, 'City': 'Chicago'}   35\n"
     ]
    }
   ],
   "source": [
    "# Create a new column called Age\n",
    "df[\"Age\"] = df[\"Details\"].apply(lambda x: x[\"Age\"] )\n",
    "print(df)"
   ]
  },
  {
   "cell_type": "code",
   "execution_count": 9,
   "metadata": {},
   "outputs": [
    {
     "name": "stdout",
     "output_type": "stream",
     "text": [
      "      Name                         Details  Age     City\n",
      "0    Alice      {'Age': 25, 'City': 'NYC'}   25      NYC\n",
      "1      Bob       {'Age': 30, 'City': 'LA'}   30       LA\n",
      "2  Charlie  {'Age': 35, 'City': 'Chicago'}   35  Chicago\n"
     ]
    }
   ],
   "source": [
    "# Extract multiple keys into separate columns\n",
    "df[\"City\"] = df[\"Details\"].apply(lambda x: x[\"City\"])\n",
    "print(df)"
   ]
  },
  {
   "cell_type": "raw",
   "metadata": {
    "vscode": {
     "languageId": "raw"
    }
   },
   "source": [
    "2. Exploding a Column with Lists\n",
    "Use Case: A column contains lists, and you want to \"explode\" each element of \n",
    "the list into its own row."
   ]
  },
  {
   "cell_type": "code",
   "execution_count": null,
   "metadata": {},
   "outputs": [],
   "source": [
    "# Example DataFrame\n",
    "data = {\n",
    "    \"Name\": [\"Alice\", \"Bob\", \"Charlie\"],\n",
    "    \"Hobbies\": [[\"Reading\", \"Traveling\"], [\"Cooking\"], [\"Swimming\", \"Gaming\", \"Hiking\"]],\n",
    "}\n",
    "df = pd.DataFrame(data)\n",
    "\n",
    "# Explode the list into multiple rows\n",
    "df_exploded = df.explode(\"Hobbies\").reset_index(drop=True)\n",
    "print(df_exploded)\n"
   ]
  }
 ],
 "metadata": {
  "kernelspec": {
   "display_name": "base",
   "language": "python",
   "name": "python3"
  },
  "language_info": {
   "codemirror_mode": {
    "name": "ipython",
    "version": 3
   },
   "file_extension": ".py",
   "mimetype": "text/x-python",
   "name": "python",
   "nbconvert_exporter": "python",
   "pygments_lexer": "ipython3",
   "version": "3.12.4"
  }
 },
 "nbformat": 4,
 "nbformat_minor": 2
}
