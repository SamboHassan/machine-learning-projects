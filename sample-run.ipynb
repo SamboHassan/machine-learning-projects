{
 "cells": [
  {
   "cell_type": "code",
   "execution_count": 4,
   "metadata": {},
   "outputs": [],
   "source": [
    "import torch\n",
    "import math"
   ]
  },
  {
   "cell_type": "code",
   "execution_count": 23,
   "metadata": {},
   "outputs": [
    {
     "name": "stdout",
     "output_type": "stream",
     "text": [
      "tensor([[0.3126, 0.3791, 0.3087],\n",
      "        [0.0736, 0.4216, 0.0691]])\n"
     ]
    }
   ],
   "source": [
    "# y = torch.ones(3,3)\n",
    "\n",
    "# print(y)\n",
    "\n",
    "torch.manual_seed(1729)\n",
    "random = torch.rand(2,3)\n",
    "print(random)"
   ]
  },
  {
   "cell_type": "code",
   "execution_count": null,
   "metadata": {},
   "outputs": [],
   "source": [
    "# 📐 Tensor Dimensions Overview\n",
    "# 0D Tensor: Scalar (a single number)\n",
    "# Example: 7\n",
    "\n",
    "# 1D Tensor: Vector (a list of numbers)\n",
    "# Example: [1, 2, 3]\n",
    "\n",
    "# 2D Tensor: Matrix (a table of numbers)\n",
    "# Example:\n",
    "\n",
    "[[1, 2, 3],\n",
    " [4, 5, 6]]\n",
    "\n",
    "# 3D and above: Just called tensors\n",
    "# Example (3D): A stack of matrices\n",
    "\n",
    "[\n",
    "  [  \n",
    "      [1, 2], [3, 4] \n",
    "  ],   \n",
    "  [  \n",
    "      [5, 6], [7, 8] \n",
    "  ]\n",
    "]\n"
   ]
  },
  {
   "cell_type": "code",
   "execution_count": 1,
   "metadata": {},
   "outputs": [],
   "source": [
    "# import pandas as pd \n",
    "# data = {\n",
    "#     \"Name\": [\"Alice\", \"Bob\", \"Charlie\"],\n",
    "#     \"Hobbies\": [[\"Reading\", \"Traveling\"], [\"Cooking\"], [\"Swimming\", \"Gaming\", \"Hiking\"]],\n",
    "# }\n",
    "# df = pd.DataFrame(data)\n",
    "\n",
    "# # Explode the list into multiple rows\n",
    "# df_exploded = df.explode(\"Hobbies\").reset_index(drop=True)\n",
    "# print(df_exploded)"
   ]
  },
  {
   "cell_type": "code",
   "execution_count": 9,
   "metadata": {},
   "outputs": [
    {
     "data": {
      "text/plain": [
       "[1, 2, 3, 4, 5]"
      ]
     },
     "execution_count": 9,
     "metadata": {},
     "output_type": "execute_result"
    }
   ],
   "source": [
    "m = [1,2,3,4,5]\n",
    "n = m[:]\n",
    "n"
   ]
  },
  {
   "cell_type": "code",
   "execution_count": 1,
   "metadata": {},
   "outputs": [
    {
     "data": {
      "text/plain": [
       "[4, 6, 8]"
      ]
     },
     "execution_count": 1,
     "metadata": {},
     "output_type": "execute_result"
    }
   ],
   "source": [
    "# [2,3,4] * 2\n",
    "mlist = [x*2 for x in [2,3,4]]\n",
    "mlist"
   ]
  },
  {
   "cell_type": "code",
   "execution_count": 2,
   "metadata": {},
   "outputs": [
    {
     "name": "stdout",
     "output_type": "stream",
     "text": [
      "[3, 'e', 4, 5, 6, 7, 8, 9]\n",
      "['e', 3, 4, 5, 6, 7, 8, 9]\n",
      "[3, 4, 9, 5, 6, 'e', 7, 8]\n",
      "[3, 4, 5, 6, 'e', 7, 8, 9]\n"
     ]
    }
   ],
   "source": [
    "def move_item(lst, old_index, new_index):\n",
    "    \"\"\"Return a new list with the item at old_index moved to new_index.\"\"\"\n",
    "    n = len(lst)\n",
    "    if n == 0:\n",
    "        return lst[:]  # empty list, nothing to move\n",
    "\n",
    "    # Normalize negative indices\n",
    "    if old_index < 0:\n",
    "        old_index += n\n",
    "    if new_index < 0:\n",
    "        new_index += n\n",
    "\n",
    "    # Clamp indices to valid range\n",
    "    old_index = max(0, min(old_index, n - 1))\n",
    "    new_index = max(0, min(new_index, n - 1))\n",
    "\n",
    "    # If the indices are the same, just return a copy\n",
    "    if old_index == new_index:\n",
    "        return lst[:]\n",
    "\n",
    "    item = lst[old_index]\n",
    "    without_item = lst[:old_index] + lst[old_index + 1:]\n",
    "    return without_item[:new_index] + [item] + without_item[new_index:]\n",
    "\n",
    "# Example usage\n",
    "b = [3, 4, 5, 6, \"e\", 7, 8, 9]\n",
    "\n",
    "print(move_item(b, 4, 1))   # [3, 'e', 4, 5, 6, 7, 8, 9]\n",
    "print(move_item(b, -4, 0))  # ['e', 3, 4, 5, 6, 7, 8, 9]\n",
    "print(move_item(b, 100, 2)) # [3, 4, 9, 5, 6, 'e', 7, 8] (clamped)\n",
    "print(b)                    # original list unchanged\n"
   ]
  }
 ],
 "metadata": {
  "kernelspec": {
   "display_name": "base",
   "language": "python",
   "name": "python3"
  },
  "language_info": {
   "codemirror_mode": {
    "name": "ipython",
    "version": 3
   },
   "file_extension": ".py",
   "mimetype": "text/x-python",
   "name": "python",
   "nbconvert_exporter": "python",
   "pygments_lexer": "ipython3",
   "version": "3.13.5"
  },
  "widgets": {
   "application/vnd.jupyter.widget-state+json": {
    "state": {},
    "version_major": 2,
    "version_minor": 0
   }
  }
 },
 "nbformat": 4,
 "nbformat_minor": 2
}
