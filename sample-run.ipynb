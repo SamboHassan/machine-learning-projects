{
 "cells": [
  {
   "cell_type": "code",
   "execution_count": 4,
   "metadata": {},
   "outputs": [],
   "source": [
    "import torch\n",
    "import math"
   ]
  },
  {
   "cell_type": "code",
   "execution_count": 23,
   "metadata": {},
   "outputs": [
    {
     "name": "stdout",
     "output_type": "stream",
     "text": [
      "tensor([[0.3126, 0.3791, 0.3087],\n",
      "        [0.0736, 0.4216, 0.0691]])\n"
     ]
    }
   ],
   "source": [
    "# y = torch.ones(3,3)\n",
    "\n",
    "# print(y)\n",
    "\n",
    "torch.manual_seed(1729)\n",
    "random = torch.rand(2,3)\n",
    "print(random)"
   ]
  },
  {
   "cell_type": "code",
   "execution_count": null,
   "metadata": {},
   "outputs": [],
   "source": [
    "# 📐 Tensor Dimensions Overview\n",
    "# 0D Tensor: Scalar (a single number)\n",
    "# Example: 7\n",
    "\n",
    "# 1D Tensor: Vector (a list of numbers)\n",
    "# Example: [1, 2, 3]\n",
    "\n",
    "# 2D Tensor: Matrix (a table of numbers)\n",
    "# Example:\n",
    "\n",
    "[[1, 2, 3],\n",
    " [4, 5, 6]]\n",
    "\n",
    "# 3D and above: Just called tensors\n",
    "# Example (3D): A stack of matrices\n",
    "\n",
    "[\n",
    "  [  \n",
    "      [1, 2], [3, 4] \n",
    "  ],   \n",
    "  [  \n",
    "      [5, 6], [7, 8] \n",
    "  ]\n",
    "]\n"
   ]
  },
  {
   "cell_type": "code",
   "execution_count": null,
   "metadata": {},
   "outputs": [],
   "source": [
    "# import pandas as pd \n",
    "# data = {\n",
    "#     \"Name\": [\"Alice\", \"Bob\", \"Charlie\"],\n",
    "#     \"Hobbies\": [[\"Reading\", \"Traveling\"], [\"Cooking\"], [\"Swimming\", \"Gaming\", \"Hiking\"]],\n",
    "# }\n",
    "# df = pd.DataFrame(data)\n",
    "\n",
    "# # Explode the list into multiple rows\n",
    "# df_exploded = df.explode(\"Hobbies\").reset_index(drop=True)\n",
    "# print(df_exploded)"
   ]
  }
 ],
 "metadata": {
  "kernelspec": {
   "display_name": "Python 3 (ipykernel)",
   "language": "python",
   "name": "python3"
  },
  "language_info": {
   "codemirror_mode": {
    "name": "ipython",
    "version": 3
   },
   "file_extension": ".py",
   "mimetype": "text/x-python",
   "name": "python",
   "nbconvert_exporter": "python",
   "pygments_lexer": "ipython3",
   "version": "3.12.4"
  },
  "widgets": {
   "application/vnd.jupyter.widget-state+json": {
    "state": {},
    "version_major": 2,
    "version_minor": 0
   }
  }
 },
 "nbformat": 4,
 "nbformat_minor": 2
}
