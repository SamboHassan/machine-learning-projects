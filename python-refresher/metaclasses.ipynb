{
 "cells": [
  {
   "cell_type": "code",
   "execution_count": 4,
   "id": "7ba20c31",
   "metadata": {},
   "outputs": [],
   "source": [
    "class MetaTrace(type):\n",
    "    def __new__(meta, classname, supers, classdict):\n",
    "        for attr, attrval in classdict.items():\n",
    "            if type(attrval) is FunctionType:                      \n",
    "                classdict[attr] = tracer(attrval)                  \n",
    "        return type.__new__(meta, classname, supers, classdict) "
   ]
  },
  {
   "cell_type": "code",
   "execution_count": 7,
   "id": "569b79cf",
   "metadata": {},
   "outputs": [
    {
     "name": "stdout",
     "output_type": "stream",
     "text": [
      "call 1 to __init__\n",
      "call 2 to __init__\n",
      "Bob Smith Sue Jones\n",
      "call 1 to giveRaise\n",
      "110000.00\n",
      "call 1 to lastName\n",
      "call 2 to lastName\n",
      "Smith Jones\n"
     ]
    }
   ],
   "source": [
    "from types import FunctionType\n",
    "\n",
    "def tracer(func):                        \n",
    "    calls = 0                            \n",
    "    def onCall(*args, **kwargs):        \n",
    "        nonlocal calls\n",
    "        calls += 1\n",
    "        print('call %s to %s' % (calls, func.__name__))\n",
    "        return func(*args, **kwargs)\n",
    "    return onCall\n",
    "\n",
    "class Person(metaclass=MetaTrace):\n",
    "    def __init__(self, name, pay):\n",
    "        self.name = name\n",
    "        self.pay  = pay\n",
    "    def giveRaise(self, percent):\n",
    "        self.pay *= (1.0 + percent)\n",
    "    def lastName(self):\n",
    "        return self.name.split()[-1]\n",
    "\n",
    "bob = Person('Bob Smith', 50000)\n",
    "sue = Person('Sue Jones', 100000)\n",
    "print(bob.name, sue.name)\n",
    "sue.giveRaise(.10)\n",
    "print('%.2f' % sue.pay)\n",
    "print(bob.lastName(), sue.lastName())"
   ]
  }
 ],
 "metadata": {
  "kernelspec": {
   "display_name": "base",
   "language": "python",
   "name": "python3"
  },
  "language_info": {
   "codemirror_mode": {
    "name": "ipython",
    "version": 3
   },
   "file_extension": ".py",
   "mimetype": "text/x-python",
   "name": "python",
   "nbconvert_exporter": "python",
   "pygments_lexer": "ipython3",
   "version": "3.13.5"
  }
 },
 "nbformat": 4,
 "nbformat_minor": 5
}
