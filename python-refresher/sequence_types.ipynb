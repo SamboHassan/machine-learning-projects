{
 "cells": [
  {
   "cell_type": "markdown",
   "id": "f44c3218",
   "metadata": {},
   "source": [
    "🏪 Scenario: Unpacking Delivery Boxes\n",
    "Imagine you're working at a warehouse where each delivery box contains four items:\n",
    "- The first item is a label (e.g., box number).\n",
    "- The second and third items are products.\n",
    "- The fourth item is a special instruction (e.g., \"Fragile\", \"Urgent\").\n",
    "Your job is to unpack each box and organize the contents like this:\n",
    "- 🏷️ a → the label (first item)\n",
    "- 🛍️ b → the products (second and third items)\n",
    "- 📌 c → the special instruction (last item\n"
   ]
  },
  {
   "cell_type": "code",
   "execution_count": 1,
   "id": "582301ae",
   "metadata": {},
   "outputs": [
    {
     "name": "stdout",
     "output_type": "stream",
     "text": [
      "1 (2, 3) 4\n",
      "5 (6, 7) 8\n"
     ]
    }
   ],
   "source": [
    "for box in [(1, 2, 3, 4), (5, 6, 7, 8)]:\n",
    "    label, products, instruction = box[0], box[1:3], box[3]\n",
    "    print(label, products, instruction)"
   ]
  }
 ],
 "metadata": {
  "kernelspec": {
   "display_name": "base",
   "language": "python",
   "name": "python3"
  },
  "language_info": {
   "codemirror_mode": {
    "name": "ipython",
    "version": 3
   },
   "file_extension": ".py",
   "mimetype": "text/x-python",
   "name": "python",
   "nbconvert_exporter": "python",
   "pygments_lexer": "ipython3",
   "version": "3.12.4"
  }
 },
 "nbformat": 4,
 "nbformat_minor": 5
}
