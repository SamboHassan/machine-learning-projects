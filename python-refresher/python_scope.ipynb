{
 "cells": [
  {
   "cell_type": "markdown",
   "metadata": {},
   "source": [
    "Python’s scopes—the places where variables are defined and looked\n",
    "up. \n",
    "\n",
    "Like module files, scopes help prevent name clashes across your program’s code:\n",
    "names defined in one program unit don’t interfere with names in another"
   ]
  },
  {
   "cell_type": "markdown",
   "metadata": {},
   "source": [
    "As we’ve seen, names in Python spring into existence when they are first assigned values, and they must be assigned before they are used. \n",
    "\n",
    "Because names are not declared ahead of time, Python uses the location of the assignment of a\n",
    "name to associate it with (i.e., bind it to) a particular namespace."
   ]
  },
  {
   "cell_type": "code",
   "execution_count": null,
   "metadata": {},
   "outputs": [],
   "source": [
    "# • If a variable is assigned inside a def, it is local to that function.\n",
    "# • If a variable is assigned in an enclosing def, it is nonlocal to nested functions.\n",
    "# • If a variable is assigned outside all defs, it is global to the entire file.\n",
    "\n",
    "\n",
    "# We call this lexical scoping because variable scopes are determined entirely\n",
    "# by the locations of the variables in the source code of your program files,\n",
    "# not by function calls.\n",
    "\n",
    "\n",
    "# global is a namespace declaration statement\n",
    "# the X inside the def now refers to the X outside the def; they are\n",
    "# the same variable this time, so changing X inside the function changes\n",
    "# the X outside it\n",
    "\n",
    "X = 88  # Global X\n",
    "\n",
    "\n",
    "def func():\n",
    "    global X\n",
    "    X = 99  # Global X: outside def\n",
    "\n",
    "\n",
    "func()\n",
    "print(X)  # Prints 99"
   ]
  },
  {
   "cell_type": "code",
   "execution_count": 3,
   "metadata": {},
   "outputs": [],
   "source": [
    "y, z = 1, 2  # Global variables in module\n",
    "\n",
    "\n",
    "def all_global():\n",
    "    global x  # Declare globals assigned\n",
    "    x = y + z\n",
    "\n",
    "\n",
    "# x is global because it was listed in a global statement\n",
    "# to map it to the module’s scope explicitly. Without the global here,\n",
    "# x would be considered local by virtue of the assignment.\n",
    "\n",
    "# Also, notice that x does not even exist in the enclosing module\n",
    "# before the function runs; in this case, the first assignment in\n",
    "# the function creates x in the module.\n",
    "\n",
    "# Although there are times when globals are useful, variables assigned in\n",
    "# a def are local by default because that is normally the best policy."
   ]
  },
  {
   "cell_type": "code",
   "execution_count": 5,
   "metadata": {},
   "outputs": [],
   "source": [
    "# namespace are - package of variables\n",
    "# Program Design: Minimize Cross-File Changes\n",
    "\n",
    "# first.py\n",
    "X = 99  # This code doesn't know about second.py\n",
    "# second.py\n",
    "# import first\n",
    "\n",
    "# print(first.X)  # OK: references a name in another file\n",
    "# first.X = 88  # But changing it can be too subtle and implicit"
   ]
  },
  {
   "cell_type": "code",
   "execution_count": 1,
   "metadata": {},
   "outputs": [],
   "source": [
    "# In this specific case, we would probably be better off coding an accessor\n",
    "# function to manage the change:\n",
    "\n",
    "# first.py\n",
    "X = 99\n",
    "\n",
    "\n",
    "def setX(new):  # Accessor make external changes explit\n",
    "    global X  # And can manage access in a single place\n",
    "    X = new\n",
    "\n",
    "\n",
    "# second.py\n",
    "# import first\n",
    "\n",
    "# first.setX(88)  # Call the function instead of changing directly"
   ]
  },
  {
   "cell_type": "markdown",
   "metadata": {},
   "source": [
    "• Name assignments create or change local names by default.\n",
    "\n",
    "• Name references search at most four scopes: local, then enclosing \n",
    "  functions (if any), then global, then built-in.\n",
    "  \n",
    "• Names declared in global and nonlocal statements map assigned names to \n",
    "  enclosing module and function scopes, respectively."
   ]
  },
  {
   "cell_type": "code",
   "execution_count": 8,
   "metadata": {},
   "outputs": [
    {
     "data": {
      "text/plain": [
       "(161, 152)"
      ]
     },
     "execution_count": 8,
     "metadata": {},
     "output_type": "execute_result"
    }
   ],
   "source": [
    "import builtins\n",
    "\n",
    "# dir(builtins)\n",
    "len(dir(builtins)), len([x for x in dir(builtins) if not x.startswith(\"__\")])"
   ]
  },
  {
   "cell_type": "code",
   "execution_count": null,
   "metadata": {},
   "outputs": [],
   "source": [
    "y, z = 1, 2  # Global variables in module\n",
    "\n",
    "\n",
    "def all_global():\n",
    "    global x  # Declare globals assigned\n",
    "    x = y + z  # No need to declare y, z: LEGB rule"
   ]
  },
  {
   "cell_type": "code",
   "execution_count": 9,
   "metadata": {},
   "outputs": [],
   "source": [
    "def hider():\n",
    "    open = \"spam\"  # Local variable, hides built-in here\n",
    "    open(\"data.txt\")  # Error: this no longer opens a file in this scope!\n",
    "\n",
    "\n",
    "# Without the global here, x would be considered local by\n",
    "# virtue of the assignment."
   ]
  },
  {
   "cell_type": "code",
   "execution_count": 10,
   "metadata": {},
   "outputs": [],
   "source": [
    "X = 99\n",
    "\n",
    "\n",
    "def func1():\n",
    "    global X\n",
    "    X = 88\n",
    "\n",
    "\n",
    "def func2():\n",
    "    global X\n",
    "    X = 77\n",
    "\n",
    "\n",
    "# What will the value of\n",
    "# X be here? Really, that question has no meaning unless it’s qualified with a point of\n",
    "# reference in time—the value of X is timing-dependent, as it depends on which function\n",
    "# was called last (something we can’t tell from this file alone)."
   ]
  },
  {
   "cell_type": "code",
   "execution_count": 13,
   "metadata": {},
   "outputs": [],
   "source": [
    "# Program Design: Minimize Cross-File Changes\n",
    "\n",
    "# Here’s another scope-related design issue: although we can change variables in another\n",
    "# file directly, we usually shouldn’t.\n",
    "\n",
    "# first.py\n",
    "X = 99  # This code doesn't know about second.py\n",
    "# second.py\n",
    "# import first\n",
    "\n",
    "# print(first.X)  # OK: references a name in another file\n",
    "# first.X = 88  # But changing it can be too subtle and implicit"
   ]
  },
  {
   "cell_type": "code",
   "execution_count": 12,
   "metadata": {},
   "outputs": [],
   "source": [
    "# first.py\n",
    "X = 99\n",
    "\n",
    "\n",
    "def setX(new):  # Accessor make external changes explit\n",
    "    global X  # And can manage access in a single place\n",
    "    X = new\n",
    "\n",
    "\n",
    "# second.py\n",
    "# import first\n",
    "\n",
    "# first.setX(88)  # Call the function instead of changing directly"
   ]
  },
  {
   "cell_type": "code",
   "execution_count": null,
   "metadata": {},
   "outputs": [],
   "source": []
  },
  {
   "cell_type": "code",
   "execution_count": 16,
   "metadata": {},
   "outputs": [],
   "source": [
    "# thismod.py\n",
    "var = 99  # Global variable == module attribute\n",
    "\n",
    "\n",
    "def local():\n",
    "    var = 0  # Change local var\n",
    "\n",
    "\n",
    "def glob1():\n",
    "    global var  # Declare global (normal)\n",
    "    var += 1  # Change global var\n",
    "\n",
    "\n",
    "def glob2():\n",
    "    var = 0  # Change local var\n",
    "\n",
    "\n",
    "# import thismod # Import myself\n",
    "# thismod.var += 1 # Change global var\n",
    "\n",
    "\n",
    "def glob3():\n",
    "    var = 0  # Change local var\n",
    "\n",
    "\n",
    "import sys  # Import system table\n",
    "\n",
    "# glob = sys.modules[\"thismod\"]  # Get module object (or use __name__)\n",
    "# glob.var += 1  # Change global var\n",
    "\n",
    "\n",
    "def test():\n",
    "    print(var)\n",
    "    local()\n",
    "    glob1()\n",
    "    glob2()\n",
    "    glob3()\n",
    "    print(var)\n",
    "\n",
    "\n",
    "# import thismod\n",
    "# thismod.test()\n",
    "# 99\n",
    "# 102\n",
    "# thismod.var\n",
    "# 102"
   ]
  },
  {
   "cell_type": "code",
   "execution_count": 18,
   "metadata": {},
   "outputs": [
    {
     "name": "stdout",
     "output_type": "stream",
     "text": [
      "88\n"
     ]
    }
   ],
   "source": [
    "# Nested Scope Examples\n",
    "# Here is what an enclosing function scope looks like\n",
    "X = 99  # Global scope name: not used\n",
    "\n",
    "\n",
    "def f1():\n",
    "    X = 88  # Enclosing def local\n",
    "\n",
    "    def f2():\n",
    "        print(X)  # Reference made in nested def\n",
    "\n",
    "    f2()\n",
    "\n",
    "\n",
    "f1()  # Prints 88: enclosing def local\n",
    "# In a sense, f2 is a temporary function that lives only during the execution\n",
    "# of (and is visible only to code in) the enclosing f1."
   ]
  },
  {
   "cell_type": "code",
   "execution_count": 22,
   "metadata": {},
   "outputs": [
    {
     "name": "stdout",
     "output_type": "stream",
     "text": [
      "88\n",
      "88\n"
     ]
    }
   ],
   "source": [
    "def f1():\n",
    "    X = 88\n",
    "\n",
    "    def f2():\n",
    "        print(X)  # Remembers X in enclosing def scope\n",
    "\n",
    "    return f2  # Return f2 but don't call it\n",
    "\n",
    "\n",
    "action = f1()  # Make, return function\n",
    "action()  # Call it now: prints 88\n",
    "f1()()"
   ]
  },
  {
   "cell_type": "code",
   "execution_count": 28,
   "metadata": {},
   "outputs": [
    {
     "data": {
      "text/plain": [
       "9"
      ]
     },
     "execution_count": 28,
     "metadata": {},
     "output_type": "execute_result"
    }
   ],
   "source": [
    "# A simple function factory as it is called in functional programming\n",
    "# OR Closures in design pattern\n",
    "def maker(N):\n",
    "    def action(X):  # Make and return action\n",
    "        return X**N  # action retains N from enclosing scope\n",
    "\n",
    "    return action\n",
    "\n",
    "\n",
    "# maker makes action, but simply returns action without running it\n",
    "# f = maker(2)(2)\n",
    "f = maker(2)\n",
    "f(3)  # Pass 3 to X, N remembers 2: 3 ** 2\n",
    "\n",
    "# Perhaps the most unusual part of this, though, is that the nested function remembers\n",
    "# integer 2, the value of the variable N in maker, even though maker has returned and exited\n",
    "# by the time we call action"
   ]
  },
  {
   "cell_type": "code",
   "execution_count": 29,
   "metadata": {},
   "outputs": [
    {
     "data": {
      "text/plain": [
       "16"
      ]
     },
     "execution_count": 29,
     "metadata": {},
     "output_type": "execute_result"
    }
   ],
   "source": [
    "g = maker(3)  # g remembers 3, f remembers 2\n",
    "g(4)  # 4 ** 3\n",
    "# 64\n",
    "f(4)  # 4 ** 2\n",
    "# 16\n",
    "\n",
    "\n",
    "# if we now call the outer function again, we get back a new nested\n",
    "# function with different state information attached.\n",
    "\n",
    "\n",
    "# This works because each call to a factory function like this gets its\n",
    "# own set of state # information."
   ]
  },
  {
   "cell_type": "code",
   "execution_count": 31,
   "metadata": {},
   "outputs": [
    {
     "data": {
      "text/plain": [
       "64"
      ]
     },
     "execution_count": 31,
     "metadata": {},
     "output_type": "execute_result"
    }
   ],
   "source": [
    "def maker(N):\n",
    "    return lambda X: X**N  # lambda functions retain state too\n",
    "\n",
    "\n",
    "h = maker(3)\n",
    "h(4)  # 4 ** 3 again"
   ]
  },
  {
   "cell_type": "code",
   "execution_count": 32,
   "metadata": {},
   "outputs": [
    {
     "name": "stdout",
     "output_type": "stream",
     "text": [
      "16\n"
     ]
    }
   ],
   "source": [
    "def func():\n",
    "    x = 4\n",
    "    action = lambda n: x**n  # x remembered from enclosing def\n",
    "    return action\n",
    "\n",
    "\n",
    "x = func()\n",
    "print(x(2))  # Prints 16, 4 ** 2"
   ]
  },
  {
   "cell_type": "code",
   "execution_count": 39,
   "metadata": {},
   "outputs": [
    {
     "data": {
      "text/plain": [
       "[<function __main__.makeActions.<locals>.<lambda>(x)>,\n",
       " <function __main__.makeActions.<locals>.<lambda>(x)>,\n",
       " <function __main__.makeActions.<locals>.<lambda>(x)>,\n",
       " <function __main__.makeActions.<locals>.<lambda>(x)>,\n",
       " <function __main__.makeActions.<locals>.<lambda>(x)>]"
      ]
     },
     "execution_count": 39,
     "metadata": {},
     "output_type": "execute_result"
    }
   ],
   "source": [
    "# Loop variables may require defaults, not scopes\n",
    "def makeActions():\n",
    "    acts = []\n",
    "    for i in range(5):\n",
    "        acts.append(lambda x: i**x)\n",
    "    return acts\n",
    "\n",
    "\n",
    "acts = makeActions()\n",
    "\n",
    "acts\n",
    "# This doesn’t quite work"
   ]
  },
  {
   "cell_type": "code",
   "execution_count": 45,
   "metadata": {},
   "outputs": [
    {
     "data": {
      "text/plain": [
       "16"
      ]
     },
     "execution_count": 45,
     "metadata": {},
     "output_type": "execute_result"
    }
   ],
   "source": [
    "# acts[0](2)\n",
    "# acts[2](2)\n",
    "acts[3](2)"
   ]
  },
  {
   "cell_type": "code",
   "execution_count": 48,
   "metadata": {},
   "outputs": [],
   "source": [
    "def makeActions():\n",
    "    acts = []\n",
    "    for i in range(5):  # Use defaults instead\n",
    "        acts.append(lambda x, i=i: i**x)  # Remember current i\n",
    "    return acts"
   ]
  },
  {
   "cell_type": "code",
   "execution_count": 52,
   "metadata": {},
   "outputs": [
    {
     "name": "stdout",
     "output_type": "stream",
     "text": [
      "0 1 4\n"
     ]
    }
   ],
   "source": [
    "acts = makeActions()\n",
    "\n",
    "print(acts[0](2), acts[1](2), acts[2](2))"
   ]
  },
  {
   "cell_type": "code",
   "execution_count": 53,
   "metadata": {},
   "outputs": [],
   "source": [
    "def tester(start):\n",
    "    state = start  # Each call gets its own state\n",
    "\n",
    "    def nested(label):\n",
    "        nonlocal state  # Remembers state in enclosing scope\n",
    "        print(label, state)\n",
    "        state += 1  # Allowed to change it if nonlocal\n",
    "\n",
    "    return nested\n",
    "\n",
    "\n",
    "# >>> F = tester(0)\n",
    "# >>> F('spam') # Increments state on each call\n",
    "# spam 0\n",
    "# >>> F('ham')\n",
    "# ham 1\n",
    "# >>> F('eggs')\n",
    "# eggs 2"
   ]
  },
  {
   "cell_type": "code",
   "execution_count": 58,
   "metadata": {},
   "outputs": [
    {
     "name": "stdout",
     "output_type": "stream",
     "text": [
      "Spam 0\n",
      "Ham 1\n"
     ]
    }
   ],
   "source": [
    "# Managing state with classes\n",
    "class tester:\n",
    "    def __init__(self, start):\n",
    "        self.state = start\n",
    "\n",
    "    def nested(self, label):\n",
    "        print(label, self.state)\n",
    "        self.state += 1\n",
    "\n",
    "\n",
    "F = tester(0)\n",
    "\n",
    "F.nested(\"Spam\")\n",
    "F.nested(\"Ham\")"
   ]
  },
  {
   "cell_type": "code",
   "execution_count": null,
   "metadata": {},
   "outputs": [],
   "source": [
    "# >>> G = tester(42) # Each instance gets new copy of state\n",
    "# >>> G.nested('toast') # Changing one does not impact others\n",
    "# toast 42\n",
    "# >>> G.nested('bacon')\n",
    "# bacon 43\n",
    "# >>> F.nested('eggs') # F's state is where it left off\n",
    "# eggs 2\n",
    "# >>> F.state # State may be accessed outside class\n",
    "# 3"
   ]
  }
 ],
 "metadata": {
  "kernelspec": {
   "display_name": "base",
   "language": "python",
   "name": "python3"
  },
  "language_info": {
   "codemirror_mode": {
    "name": "ipython",
    "version": 3
   },
   "file_extension": ".py",
   "mimetype": "text/x-python",
   "name": "python",
   "nbconvert_exporter": "python",
   "pygments_lexer": "ipython3",
   "version": "3.12.4"
  }
 },
 "nbformat": 4,
 "nbformat_minor": 2
}
