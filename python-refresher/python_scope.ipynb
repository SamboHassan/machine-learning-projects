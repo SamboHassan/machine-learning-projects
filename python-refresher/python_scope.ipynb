{
 "cells": [
  {
   "cell_type": "markdown",
   "metadata": {},
   "source": [
    "Python’s scopes—the places where variables are defined and looked\n",
    "up. \n",
    "\n",
    "Like module files, scopes help prevent name clashes across your program’s code:\n",
    "names defined in one program unit don’t interfere with names in another"
   ]
  },
  {
   "cell_type": "markdown",
   "metadata": {},
   "source": [
    "As we’ve seen, names in Python spring into existence when they are first assigned values, and they must be assigned before they are used. \n",
    "\n",
    "Because names are not declared ahead of time, Python uses the location of the assignment of a\n",
    "name to associate it with (i.e., bind it to) a particular namespace."
   ]
  },
  {
   "cell_type": "code",
   "execution_count": null,
   "metadata": {},
   "outputs": [],
   "source": [
    "# • If a variable is assigned inside a def, it is local to that function.\n",
    "# • If a variable is assigned in an enclosing def, it is nonlocal to nested functions.\n",
    "# • If a variable is assigned outside all defs, it is global to the entire file.\n",
    "\n",
    "\n",
    "# We call this lexical scoping because variable scopes are determined entirely\n",
    "# by the locations of the variables in the source code of your program files,\n",
    "# not by function calls.\n",
    "\n",
    "\n",
    "# global is a namespace declaration statement\n",
    "# the X inside the def now refers to the X outside the def; they are\n",
    "# the same variable this time, so changing X inside the function changes\n",
    "# the X outside it\n",
    "\n",
    "X = 88  # Global X\n",
    "\n",
    "\n",
    "def func():\n",
    "    global X\n",
    "    X = 99  # Global X: outside def\n",
    "\n",
    "\n",
    "func()\n",
    "print(X)  # Prints 99"
   ]
  },
  {
   "cell_type": "code",
   "execution_count": 3,
   "metadata": {},
   "outputs": [],
   "source": [
    "y, z = 1, 2  # Global variables in module\n",
    "\n",
    "\n",
    "def all_global():\n",
    "    global x  # Declare globals assigned\n",
    "    x = y + z\n",
    "\n",
    "\n",
    "# x is global because it was listed in a global statement\n",
    "# to map it to the module’s scope explicitly. Without the global here,\n",
    "# x would be considered local by virtue of the assignment.\n",
    "\n",
    "# Also, notice that x does not even exist in the enclosing module\n",
    "# before the function runs; in this case, the first assignment in\n",
    "# the function creates x in the module.\n",
    "\n",
    "# Although there are times when globals are useful, variables assigned in\n",
    "# a def are local by default because that is normally the best policy."
   ]
  },
  {
   "cell_type": "code",
   "execution_count": 5,
   "metadata": {},
   "outputs": [],
   "source": [
    "# namespace are - package of variables\n",
    "# Program Design: Minimize Cross-File Changes\n",
    "\n",
    "# first.py\n",
    "X = 99  # This code doesn't know about second.py\n",
    "# second.py\n",
    "# import first\n",
    "\n",
    "# print(first.X)  # OK: references a name in another file\n",
    "# first.X = 88  # But changing it can be too subtle and implicit"
   ]
  },
  {
   "cell_type": "code",
   "execution_count": 1,
   "metadata": {},
   "outputs": [],
   "source": [
    "# In this specific case, we would probably be better off coding an accessor\n",
    "# function to manage the change:\n",
    "\n",
    "# first.py\n",
    "X = 99\n",
    "\n",
    "\n",
    "def setX(new):  # Accessor make external changes explit\n",
    "    global X  # And can manage access in a single place\n",
    "    X = new\n",
    "\n",
    "\n",
    "# second.py\n",
    "# import first\n",
    "\n",
    "# first.setX(88)  # Call the function instead of changing directly"
   ]
  },
  {
   "cell_type": "markdown",
   "metadata": {},
   "source": [
    "• Name assignments create or change local names by default.\n",
    "\n",
    "• Name references search at most four scopes: local, then enclosing \n",
    "  functions (if any), then global, then built-in.\n",
    "  \n",
    "• Names declared in global and nonlocal statements map assigned names to \n",
    "  enclosing module and function scopes, respectively."
   ]
  },
  {
   "cell_type": "code",
   "execution_count": 8,
   "metadata": {},
   "outputs": [
    {
     "data": {
      "text/plain": [
       "(161, 152)"
      ]
     },
     "execution_count": 8,
     "metadata": {},
     "output_type": "execute_result"
    }
   ],
   "source": [
    "import builtins\n",
    "\n",
    "# dir(builtins)\n",
    "len(dir(builtins)), len([x for x in dir(builtins) if not x.startswith(\"__\")])"
   ]
  },
  {
   "cell_type": "code",
   "execution_count": null,
   "metadata": {},
   "outputs": [],
   "source": [
    "y, z = 1, 2  # Global variables in module\n",
    "\n",
    "\n",
    "def all_global():\n",
    "    global x  # Declare globals assigned\n",
    "    x = y + z  # No need to declare y, z: LEGB rule"
   ]
  },
  {
   "cell_type": "code",
   "execution_count": 9,
   "metadata": {},
   "outputs": [],
   "source": [
    "def hider():\n",
    "    open = \"spam\"  # Local variable, hides built-in here\n",
    "    open(\"data.txt\")  # Error: this no longer opens a file in this scope!\n",
    "\n",
    "\n",
    "# Without the global here, x would be considered local by\n",
    "# virtue of the assignment."
   ]
  },
  {
   "cell_type": "code",
   "execution_count": 10,
   "metadata": {},
   "outputs": [],
   "source": [
    "X = 99\n",
    "\n",
    "\n",
    "def func1():\n",
    "    global X\n",
    "    X = 88\n",
    "\n",
    "\n",
    "def func2():\n",
    "    global X\n",
    "    X = 77\n",
    "\n",
    "\n",
    "# What will the value of\n",
    "# X be here? Really, that question has no meaning unless it’s qualified with a point of\n",
    "# reference in time—the value of X is timing-dependent, as it depends on which function\n",
    "# was called last (something we can’t tell from this file alone)."
   ]
  },
  {
   "cell_type": "code",
   "execution_count": 13,
   "metadata": {},
   "outputs": [],
   "source": [
    "# Program Design: Minimize Cross-File Changes\n",
    "\n",
    "# Here’s another scope-related design issue: although we can change variables in another\n",
    "# file directly, we usually shouldn’t.\n",
    "\n",
    "# first.py\n",
    "X = 99  # This code doesn't know about second.py\n",
    "# second.py\n",
    "# import first\n",
    "\n",
    "# print(first.X)  # OK: references a name in another file\n",
    "# first.X = 88  # But changing it can be too subtle and implicit"
   ]
  },
  {
   "cell_type": "code",
   "execution_count": 12,
   "metadata": {},
   "outputs": [],
   "source": [
    "# first.py\n",
    "X = 99\n",
    "\n",
    "\n",
    "def setX(new):  # Accessor make external changes explit\n",
    "    global X  # And can manage access in a single place\n",
    "    X = new\n",
    "\n",
    "\n",
    "# second.py\n",
    "# import first\n",
    "\n",
    "# first.setX(88)  # Call the function instead of changing directly"
   ]
  },
  {
   "cell_type": "code",
   "execution_count": null,
   "metadata": {},
   "outputs": [],
   "source": []
  },
  {
   "cell_type": "code",
   "execution_count": 16,
   "metadata": {},
   "outputs": [],
   "source": [
    "# thismod.py\n",
    "var = 99  # Global variable == module attribute\n",
    "\n",
    "\n",
    "def local():\n",
    "    var = 0  # Change local var\n",
    "\n",
    "\n",
    "def glob1():\n",
    "    global var  # Declare global (normal)\n",
    "    var += 1  # Change global var\n",
    "\n",
    "\n",
    "def glob2():\n",
    "    var = 0  # Change local var\n",
    "\n",
    "\n",
    "# import thismod # Import myself\n",
    "# thismod.var += 1 # Change global var\n",
    "\n",
    "\n",
    "def glob3():\n",
    "    var = 0  # Change local var\n",
    "\n",
    "\n",
    "import sys  # Import system table\n",
    "\n",
    "# glob = sys.modules[\"thismod\"]  # Get module object (or use __name__)\n",
    "# glob.var += 1  # Change global var\n",
    "\n",
    "\n",
    "def test():\n",
    "    print(var)\n",
    "    local()\n",
    "    glob1()\n",
    "    glob2()\n",
    "    glob3()\n",
    "    print(var)\n",
    "\n",
    "\n",
    "# import thismod\n",
    "# thismod.test()\n",
    "# 99\n",
    "# 102\n",
    "# thismod.var\n",
    "# 102"
   ]
  },
  {
   "cell_type": "code",
   "execution_count": null,
   "metadata": {},
   "outputs": [],
   "source": []
  }
 ],
 "metadata": {
  "kernelspec": {
   "display_name": "base",
   "language": "python",
   "name": "python3"
  },
  "language_info": {
   "codemirror_mode": {
    "name": "ipython",
    "version": 3
   },
   "file_extension": ".py",
   "mimetype": "text/x-python",
   "name": "python",
   "nbconvert_exporter": "python",
   "pygments_lexer": "ipython3",
   "version": "3.12.4"
  }
 },
 "nbformat": 4,
 "nbformat_minor": 2
}
