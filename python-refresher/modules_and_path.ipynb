{
 "cells": [
  {
   "cell_type": "code",
   "execution_count": 5,
   "id": "f9d2280d",
   "metadata": {},
   "outputs": [
    {
     "data": {
      "text/plain": [
       "(9,\n",
       " ['c:\\\\Users\\\\DELL PRO\\\\miniconda3\\\\python313.zip',\n",
       "  'c:\\\\Users\\\\DELL PRO\\\\miniconda3\\\\DLLs',\n",
       "  'c:\\\\Users\\\\DELL PRO\\\\miniconda3\\\\Lib',\n",
       "  'c:\\\\Users\\\\DELL PRO\\\\miniconda3',\n",
       "  '',\n",
       "  'c:\\\\Users\\\\DELL PRO\\\\miniconda3\\\\Lib\\\\site-packages',\n",
       "  'c:\\\\Users\\\\DELL PRO\\\\miniconda3\\\\Lib\\\\site-packages\\\\win32',\n",
       "  'c:\\\\Users\\\\DELL PRO\\\\miniconda3\\\\Lib\\\\site-packages\\\\win32\\\\lib',\n",
       "  'c:\\\\Users\\\\DELL PRO\\\\miniconda3\\\\Lib\\\\site-packages\\\\Pythonwin'])"
      ]
     },
     "execution_count": 5,
     "metadata": {},
     "output_type": "execute_result"
    }
   ],
   "source": [
    "import sys\n",
    "\n",
    "\n",
    "len(sys.path), sys.path"
   ]
  },
  {
   "cell_type": "code",
   "execution_count": 6,
   "id": "5260a38a",
   "metadata": {},
   "outputs": [],
   "source": [
    "# Import hooks\n",
    "\n",
    "# see the Python standard library manual’s description of the built-in\n",
    "#  __import__ function, the customizable tool that import statements actually run.\n",
    "\n",
    "\n"
   ]
  },
  {
   "cell_type": "code",
   "execution_count": 9,
   "id": "fc9f24d5",
   "metadata": {},
   "outputs": [],
   "source": [
    "# from imp import reload\n",
    "# import reload"
   ]
  },
  {
   "cell_type": "code",
   "execution_count": null,
   "id": "99fa60a4",
   "metadata": {},
   "outputs": [],
   "source": [
    "# Module Packages\n",
    "\n",
    "# import dir1.dir2.mod\n",
    "# The same goes for from statements:\n",
    "# from dir1.dir2.mod import x"
   ]
  },
  {
   "cell_type": "markdown",
   "id": "f30b0cdb",
   "metadata": {},
   "source": [
    "Data Hiding in Modules"
   ]
  },
  {
   "cell_type": "code",
   "execution_count": 19,
   "id": "428598a9",
   "metadata": {},
   "outputs": [
    {
     "name": "stdout",
     "output_type": "stream",
     "text": [
      "['nested_scopes', 'generators', 'division', 'absolute_import', 'with_statement', 'print_function', 'unicode_literals', 'barry_as_FLUFL', 'generator_stop', 'annotations']\n"
     ]
    }
   ],
   "source": [
    "# Enabling Future Language Features: __future__\n",
    "\n",
    "# from __future__ import featurename\n",
    "import __future__ \n",
    "dir(__future__)\n",
    "print(__future__.all_feature_names)"
   ]
  },
  {
   "cell_type": "code",
   "execution_count": 25,
   "id": "6fd37f31",
   "metadata": {},
   "outputs": [
    {
     "name": "stdout",
     "output_type": "stream",
     "text": [
      "I am: __main__\n",
      "1\n",
      "6\n"
     ]
    }
   ],
   "source": [
    "print('I am:', __name__)\n",
    "\n",
    "def minmax(test, *args):\n",
    "    res = args[0]\n",
    "    for arg in args[1:]:\n",
    "        if test(arg, res):\n",
    "            res = arg\n",
    "    return res\n",
    "\n",
    "\n",
    "def lessthan(x, y): return x < y\n",
    "def grtrthan(x, y): return x > y\n",
    "\n",
    "if __name__ == '__main__':\n",
    "    print(minmax(lessthan, 4, 2, 1, 5, 6, 3))        # Self-test code\n",
    "    print(minmax(grtrthan, 4, 2, 1, 5, 6, 3))"
   ]
  },
  {
   "cell_type": "code",
   "execution_count": 26,
   "id": "e436fd48",
   "metadata": {},
   "outputs": [],
   "source": [
    "#  c:\\code> python\n",
    "#  >>> import minmax2\n",
    "#  I am: minmax2\n",
    "#  >>> minmax2.minmax(minmax2.lessthan, 's', 'p', 'a', 'a')\n",
    "#  'a'\n",
    "\n",
    "# Again, regardless of whether this is used for testing, the net effect is that we get to use\n",
    "#  our code in two different roles—as a library module of tools, or as an executable pro\n",
    "# gram."
   ]
  },
  {
   "cell_type": "code",
   "execution_count": null,
   "id": "4f9ff0e6",
   "metadata": {},
   "outputs": [],
   "source": [
    "#  >>> import sys\n",
    "#  >>> sys.path\n",
    "#  ['', 'c:\\\\temp', 'C:\\\\Windows\\\\system32\\\\python33.zip', ...more deleted...]\n",
    "#  >>> sys.path.append('C:\\\\sourcedir')         \n",
    "# >>> import string                            \n",
    "# # Extend module search path\n",
    "#  # All imports search the new dir last"
   ]
  }
 ],
 "metadata": {
  "kernelspec": {
   "display_name": "base",
   "language": "python",
   "name": "python3"
  },
  "language_info": {
   "codemirror_mode": {
    "name": "ipython",
    "version": 3
   },
   "file_extension": ".py",
   "mimetype": "text/x-python",
   "name": "python",
   "nbconvert_exporter": "python",
   "pygments_lexer": "ipython3",
   "version": "3.13.5"
  }
 },
 "nbformat": 4,
 "nbformat_minor": 5
}
