{
 "cells": [
  {
   "cell_type": "code",
   "execution_count": null,
   "id": "1aa75ba3",
   "metadata": {},
   "outputs": [
    {
     "name": "stdout",
     "output_type": "stream",
     "text": [
      "<class 'bytes'> <class 'str'> M M\n"
     ]
    }
   ],
   "source": [
    "B = b'MYSTR'\n",
    "S = 'MYSTR'\n",
    "\n",
    "print(type(A), type(B), B[0], S[0])"
   ]
  },
  {
   "cell_type": "code",
   "execution_count": 12,
   "id": "c25fa160",
   "metadata": {},
   "outputs": [
    {
     "data": {
      "text/plain": [
       "(['M', 'Y', 'S', 'T', 'R'], ['M', 'Y', 'S', 'T', 'R'])"
      ]
     },
     "execution_count": 12,
     "metadata": {},
     "output_type": "execute_result"
    }
   ],
   "source": [
    "list(B), list(S)"
   ]
  },
  {
   "cell_type": "code",
   "execution_count": 13,
   "id": "fb61e517",
   "metadata": {},
   "outputs": [],
   "source": [
    "U = u'spam'               # 2.X Unicode literal accepted in 3.3+     "
   ]
  },
  {
   "cell_type": "code",
   "execution_count": 18,
   "id": "0999f654",
   "metadata": {},
   "outputs": [],
   "source": [
    "from struct import pack\n",
    "\n",
    "# The struct Binary Data Module\n",
    "# The pickle Object Serialization Module\n"
   ]
  },
  {
   "cell_type": "code",
   "execution_count": 22,
   "id": "40fbe9f2",
   "metadata": {},
   "outputs": [
    {
     "name": "stdout",
     "output_type": "stream",
     "text": [
      "Learning Python\n",
      "Programming Python\n",
      "Python Pocket Reference\n"
     ]
    }
   ],
   "source": [
    "from xml.dom.minidom import parse, Node\n",
    "xmltree = parse('mybooks.xml')\n",
    "for node1 in xmltree.getElementsByTagName('title'):\n",
    "    for node2 in node1.childNodes:\n",
    "         if node2.nodeType == Node.TEXT_NODE:\n",
    "             print(node2.data)"
   ]
  },
  {
   "cell_type": "code",
   "execution_count": 27,
   "id": "dbc13dbd",
   "metadata": {},
   "outputs": [
    {
     "name": "stdout",
     "output_type": "stream",
     "text": [
      "Learning Python\n",
      "Programming Python\n",
      "Python Pocket Reference\n"
     ]
    }
   ],
   "source": [
    "import xml.sax.handler\n",
    "class BookHandler(xml.sax.handler.ContentHandler):\n",
    "    def __init__(self):\n",
    "        self.inTitle = False\n",
    "    def startElement(self, name, attributes):\n",
    "        if name == 'title':\n",
    "            self.inTitle = True\n",
    "    def characters(self, data):\n",
    "        if self.inTitle:\n",
    "            print(data)\n",
    "    def endElement(self, name):\n",
    "        if name == 'title':\n",
    "            self.inTitle = False\n",
    "\n",
    "import xml.sax\n",
    "parser = xml.sax.make_parser()\n",
    "handler = BookHandler()\n",
    "parser.setContentHandler(handler)\n",
    "parser.parse('mybooks.xml')"
   ]
  },
  {
   "cell_type": "code",
   "execution_count": 28,
   "id": "255369fe",
   "metadata": {},
   "outputs": [
    {
     "name": "stdout",
     "output_type": "stream",
     "text": [
      "Learning Python\n",
      "Programming Python\n",
      "Python Pocket Reference\n"
     ]
    }
   ],
   "source": [
    "from xml.etree.ElementTree import parse\n",
    "tree = parse('mybooks.xml')\n",
    "for E in tree.findall('title'):\n",
    "    print(E.text)"
   ]
  }
 ],
 "metadata": {
  "kernelspec": {
   "display_name": "base",
   "language": "python",
   "name": "python3"
  },
  "language_info": {
   "codemirror_mode": {
    "name": "ipython",
    "version": 3
   },
   "file_extension": ".py",
   "mimetype": "text/x-python",
   "name": "python",
   "nbconvert_exporter": "python",
   "pygments_lexer": "ipython3",
   "version": "3.13.5"
  }
 },
 "nbformat": 4,
 "nbformat_minor": 5
}
