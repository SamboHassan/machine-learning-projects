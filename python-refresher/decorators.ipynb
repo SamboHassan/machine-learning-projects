{
 "cells": [
  {
   "cell_type": "code",
   "execution_count": 3,
   "id": "1b139500",
   "metadata": {},
   "outputs": [],
   "source": [
    "class tracer:\n",
    "    def __init__(self, func):    # On @ decoration: save original func\n",
    "        self.calls = 0\n",
    "        self.func = func\n",
    "\n",
    "    def __call__(self, *args):   # On later calls: run original func\n",
    "        self.calls += 1\n",
    "        print('call %s to %s' % (self.calls, self.func.__name__))\n",
    "        self.func(*args)\n",
    "\n",
    "\n",
    "\n",
    "@tracer\n",
    "def spam(a, b, c):      # spam = tracer(spam)         \n",
    "    print(a + b + c)    # Wraps spam in a decorator object      "
   ]
  },
  {
   "cell_type": "code",
   "execution_count": 6,
   "id": "ef8555e7",
   "metadata": {},
   "outputs": [
    {
     "name": "stdout",
     "output_type": "stream",
     "text": [
      "call 3 to spam\n",
      "6\n"
     ]
    }
   ],
   "source": [
    "spam(1, 2, 3) "
   ]
  },
  {
   "cell_type": "code",
   "execution_count": 7,
   "id": "c01124f9",
   "metadata": {},
   "outputs": [
    {
     "name": "stdout",
     "output_type": "stream",
     "text": [
      "call 4 to spam\n",
      "abc\n"
     ]
    }
   ],
   "source": [
    "spam('a', 'b', 'c')"
   ]
  },
  {
   "cell_type": "code",
   "execution_count": 11,
   "id": "0bedf693",
   "metadata": {},
   "outputs": [
    {
     "data": {
      "text/plain": [
       "4"
      ]
     },
     "execution_count": 11,
     "metadata": {},
     "output_type": "execute_result"
    }
   ],
   "source": [
    "spam.calls"
   ]
  },
  {
   "cell_type": "code",
   "execution_count": 12,
   "id": "b7de1d34",
   "metadata": {},
   "outputs": [],
   "source": [
    "def tracer(func):                        \n",
    "    calls = 0                            \n",
    "    def onCall(*args, **kwargs):        \n",
    "        nonlocal calls\n",
    "        calls += 1\n",
    "        print('call %s to %s' % (calls, func.__name__))\n",
    "        return func(*args, **kwargs)\n",
    "    return onCall"
   ]
  },
  {
   "cell_type": "code",
   "execution_count": 14,
   "id": "2969f1c8",
   "metadata": {},
   "outputs": [
    {
     "name": "stdout",
     "output_type": "stream",
     "text": [
      "methods...\n",
      "Bob Smith Sue Jones\n",
      "call 1 to giveRaise\n",
      "110000\n",
      "call 1 to lastName\n",
      "call 2 to lastName\n",
      "Smith Jones\n"
     ]
    }
   ],
   "source": [
    " # Applies to class-level method functions too!\n",
    "class Person:\n",
    "    def __init__(self, name, pay):\n",
    "        self.name = name\n",
    "        self.pay  = pay\n",
    "\n",
    "    @tracer\n",
    "    def giveRaise(self, percent):        \n",
    "        self.pay *= (1.0 + percent)   \n",
    "\n",
    "    @tracer\n",
    "    def lastName(self):                  \n",
    "        return self.name.split()[-1]\n",
    "    \n",
    "print('methods...')\n",
    "bob = Person('Bob Smith', 50000)\n",
    "sue = Person('Sue Jones', 100000)\n",
    "print(bob.name, sue.name)\n",
    "sue.giveRaise(.10)                       \n",
    "print(int(sue.pay))\n",
    "print(bob.lastName(), sue.lastName())"
   ]
  }
 ],
 "metadata": {
  "kernelspec": {
   "display_name": "base",
   "language": "python",
   "name": "python3"
  },
  "language_info": {
   "codemirror_mode": {
    "name": "ipython",
    "version": 3
   },
   "file_extension": ".py",
   "mimetype": "text/x-python",
   "name": "python",
   "nbconvert_exporter": "python",
   "pygments_lexer": "ipython3",
   "version": "3.13.5"
  }
 },
 "nbformat": 4,
 "nbformat_minor": 5
}
