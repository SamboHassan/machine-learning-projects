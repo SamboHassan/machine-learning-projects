{
 "cells": [
  {
   "cell_type": "code",
   "execution_count": 5,
   "id": "ac8ae1b8",
   "metadata": {},
   "outputs": [
    {
     "name": "stdout",
     "output_type": "stream",
     "text": [
      "88\n"
     ]
    }
   ],
   "source": [
    "def f(a):\n",
    "    a = 99\n",
    "\n",
    "\n",
    "b = 88\n",
    "f(b)\n",
    "print(b)"
   ]
  },
  {
   "cell_type": "code",
   "execution_count": 7,
   "id": "e80a2191",
   "metadata": {},
   "outputs": [
    {
     "data": {
      "text/plain": [
       "(1, ['spam', 2])"
      ]
     },
     "execution_count": 7,
     "metadata": {},
     "output_type": "execute_result"
    }
   ],
   "source": [
    "def changer(a, b):  # Arguments assigned references to objects\n",
    "    a = 2  # Changes local name's value only\n",
    "    b[0] = \"spam\"  # Changes shared object in place\n",
    "\n",
    "\n",
    "X = 1\n",
    "L = [1, 2]  # Caller:\n",
    "changer(X, L)  # Pass immutable and mutable objects\n",
    "X, L  # X is unchanged, L is different!"
   ]
  },
  {
   "cell_type": "code",
   "execution_count": 14,
   "id": "d5e0f974",
   "metadata": {},
   "outputs": [
    {
     "name": "stdout",
     "output_type": "stream",
     "text": [
      "1\n"
     ]
    }
   ],
   "source": [
    "X = 1\n",
    "a = X  # They share the same obj\n",
    "a = 2  # Reset a only, X is still 1\n",
    "print(X)\n",
    "# X is a\n",
    "# X == a"
   ]
  },
  {
   "cell_type": "code",
   "execution_count": 16,
   "id": "18ea4c6a",
   "metadata": {},
   "outputs": [
    {
     "name": "stdout",
     "output_type": "stream",
     "text": [
      "['spam', 2]\n"
     ]
    }
   ],
   "source": [
    "L = [1, 2]\n",
    "b = L  # They share the same object\n",
    "b[0] = \"spam\"  # In-place change: 'L' sees the change too\n",
    "print(L)"
   ]
  },
  {
   "cell_type": "code",
   "execution_count": 19,
   "id": "7f28e781",
   "metadata": {},
   "outputs": [
    {
     "name": "stdout",
     "output_type": "stream",
     "text": [
      "1 [1, 2]\n"
     ]
    }
   ],
   "source": [
    "# Avoiding Mutable Argument Changes\n",
    "L = [1, 2]\n",
    "changer(X, L[:])  # Pass a copy, so our 'L' does not change\n",
    "\n",
    "print(X, L)  # X is unchanged, L is still [1, 2]"
   ]
  },
  {
   "cell_type": "code",
   "execution_count": 21,
   "id": "90c2bb19",
   "metadata": {},
   "outputs": [],
   "source": [
    "# we can also copy inside the function\n",
    "\n",
    "\n",
    "def changer(a, b):\n",
    "    b = b[:]  # Copy input list so we don't impact caller\n",
    "    a = 2\n",
    "    b[0] = \"spam\"  # Changes our list copy only"
   ]
  },
  {
   "cell_type": "code",
   "execution_count": 29,
   "id": "7ac13f6e",
   "metadata": {},
   "outputs": [
    {
     "name": "stdout",
     "output_type": "stream",
     "text": [
      "1 2 3\n",
      "1 2 3\n",
      "1 2 3\n"
     ]
    }
   ],
   "source": [
    "# keyword and default examples\n",
    "\n",
    "\n",
    "def f(a, b, c):\n",
    "    print(a, b, c)\n",
    "\n",
    "\n",
    "# Matching names by position\n",
    "f(1, 2, 3)\n",
    "\n",
    "# Matching names by names aka KEYWORD\n",
    "f(c=3, a=1, b=2)\n",
    "\n",
    "f(1, c=3, b=2)"
   ]
  },
  {
   "cell_type": "code",
   "execution_count": 38,
   "id": "4b89ba27",
   "metadata": {},
   "outputs": [
    {
     "name": "stdout",
     "output_type": "stream",
     "text": [
      "1 2 3\n",
      "1 2 3\n",
      "1 4 3\n",
      "7 7 7\n"
     ]
    }
   ],
   "source": [
    "# DEFAULT args allow us to make selected function arguments optional\n",
    "\n",
    "\n",
    "def f(a, b=2, c=3):\n",
    "    print(a, b, c)\n",
    "\n",
    "\n",
    "f(1)\n",
    "f(a=1)\n",
    "f(1, 4)\n",
    "f(7, 7, 7)"
   ]
  },
  {
   "cell_type": "code",
   "execution_count": 40,
   "id": "c5acfb97",
   "metadata": {},
   "outputs": [
    {
     "name": "stdout",
     "output_type": "stream",
     "text": [
      "(1, 2, 0, 0)\n",
      "(1, 0, 0, 1)\n",
      "(1, 0, 0, 0)\n",
      "(3, 2, 1, 0)\n",
      "(1, 2, 3, 4)\n"
     ]
    }
   ],
   "source": [
    "def func(spam, eggs, toast=0, ham=0):  # First 2 required\n",
    "    print((spam, eggs, toast, ham))\n",
    "\n",
    "\n",
    "func(1, 2)  # Output: (1, 2, 0, 0)\n",
    "func(1, ham=1, eggs=0)  # Output: (1, 0, 0, 1)\n",
    "func(spam=1, eggs=0)  # Output: (1, 0, 0, 0)\n",
    "func(toast=1, eggs=2, spam=3)  # Output: (3, 2, 1, 0)\n",
    "func(1, 2, 3, 4)  # Output: (1, 2, 3, 4)\n",
    "\n",
    "\n",
    "# Notice again that when keyword arguments are used in the call, the order in which\n",
    "# the arguments are listed doesn’t matter; Python matches by name, not by position."
   ]
  },
  {
   "cell_type": "code",
   "execution_count": 52,
   "id": "7693a7e3",
   "metadata": {},
   "outputs": [
    {
     "name": "stdout",
     "output_type": "stream",
     "text": [
      "([1, 2, 3, 4],)\n",
      "()\n",
      "(1,)\n",
      "(1, 2, 3, 4)\n"
     ]
    }
   ],
   "source": [
    "# Arbitrary Arguments Examples\n",
    "\n",
    "\n",
    "# Headers: Collecting arguments\n",
    "def f(*args):\n",
    "    print(args)\n",
    "\n",
    "\n",
    "f([1, 2, 3, 4])\n",
    "f()\n",
    "f(1)\n",
    "f(1, 2, 3, 4)"
   ]
  },
  {
   "cell_type": "code",
   "execution_count": 68,
   "id": "ee7d68b4",
   "metadata": {},
   "outputs": [
    {
     "name": "stdout",
     "output_type": "stream",
     "text": [
      "{}\n",
      "[]\n",
      "{'a': 1, 'b': 2, 'c': 3}\n",
      "[1, 2, 3]\n",
      "{'a': 1, 'b': 2, 'c': 3}\n",
      "[1, 2, 3]\n"
     ]
    }
   ],
   "source": [
    "# In a sense, the ** form allows you to convert from\n",
    "# keywords to dictionaries\n",
    "\n",
    "\n",
    "def f(**args):\n",
    "    print(args)\n",
    "    print(list(args.values()))\n",
    "\n",
    "\n",
    "my_dict = {\"a\": 1, \"b\": 2, \"c\": 3}\n",
    "\n",
    "f()\n",
    "f(a=1, b=2, c=3)\n",
    "f(**my_dict)"
   ]
  },
  {
   "cell_type": "code",
   "execution_count": 63,
   "id": "f5bba7bc",
   "metadata": {},
   "outputs": [
    {
     "name": "stdout",
     "output_type": "stream",
     "text": [
      "1 (2, 3) {'x': 1, 'y': 2}\n"
     ]
    }
   ],
   "source": [
    "def f(a, *pargs, **kargs):\n",
    "    print(a, pargs, kargs)\n",
    "\n",
    "\n",
    "f(1, 2, 3, x=1, y=2)"
   ]
  },
  {
   "cell_type": "code",
   "execution_count": 69,
   "id": "5f55e783",
   "metadata": {},
   "outputs": [
    {
     "name": "stdout",
     "output_type": "stream",
     "text": [
      "1 2 3 4\n",
      "1 2 3 4\n"
     ]
    }
   ],
   "source": [
    "# Calls: Unpacking arguments\n",
    "\n",
    "\n",
    "def func(a, b, c, d):\n",
    "    print(a, b, c, d)\n",
    "\n",
    "\n",
    "args = (1, 2)\n",
    "args += (3, 4)\n",
    "func(*args)  # Same as func(1, 2, 3, 4)\n",
    "\n",
    "\n",
    "args = {\"a\": 1, \"b\": 2, \"c\": 3}\n",
    "args[\"d\"] = 4\n",
    "func(**args)"
   ]
  },
  {
   "cell_type": "code",
   "execution_count": 71,
   "id": "7d076ceb",
   "metadata": {},
   "outputs": [
    {
     "name": "stdout",
     "output_type": "stream",
     "text": [
      "1 2 3 4\n",
      "1 2 3 4\n",
      "1 2 3 4\n",
      "1 2 3 4\n",
      "1 2 3 4\n"
     ]
    }
   ],
   "source": [
    "func(*(1, 2), **{\"d\": 4, \"c\": 3})  # Same as func(1, 2, d=4, c=3)\n",
    "func(1, *(2, 3), **{\"d\": 4})  # Same as func(1, 2, 3, d=4)\n",
    "func(1, c=3, *(2,), **{\"d\": 4})  # Same as func(1, 2, c=3, d=4)\n",
    "func(1, *(2, 3), d=4)  # Same as func(1, 2, 3, d=4)\n",
    "func(1, *(2,), c=3, **{\"d\": 4})  # Same as func(1, 2, c=3, d=4)"
   ]
  },
  {
   "cell_type": "code",
   "execution_count": 76,
   "id": "79d33374",
   "metadata": {},
   "outputs": [
    {
     "name": "stdout",
     "output_type": "stream",
     "text": [
      "1 (2,) 3\n"
     ]
    }
   ],
   "source": [
    "# Keyword-Only Arguments\n",
    "\n",
    "\n",
    "# a may be passed by name or position, b collects any extra positional\n",
    "# arguments, and c must be passed by keyword only\n",
    "def kwonly(a, *b, c):\n",
    "    print(a, b, c)\n",
    "\n",
    "\n",
    "kwonly(1, 2, c=3)\n",
    "# kwonly(2, 3, 4)  TypeError"
   ]
  },
  {
   "cell_type": "code",
   "execution_count": 80,
   "id": "2bdc08e9",
   "metadata": {},
   "outputs": [
    {
     "name": "stdout",
     "output_type": "stream",
     "text": [
      "1 2 3\n",
      "1 2 3\n"
     ]
    }
   ],
   "source": [
    "def kwonly(a, *, b, c):\n",
    "    print(a, b, c)\n",
    "\n",
    "\n",
    "# a may be passed by position or name again, but b and c must be keywords,\n",
    "# and no extra positionals are allowed:\n",
    "\n",
    "kwonly(1, c=3, b=2)\n",
    "kwonly(c=3, b=2, a=1)\n",
    "# kwonly(1, 2, 3) TypeError"
   ]
  },
  {
   "cell_type": "code",
   "execution_count": 82,
   "id": "ae80dee5",
   "metadata": {},
   "outputs": [
    {
     "name": "stdout",
     "output_type": "stream",
     "text": [
      "1 spam ham\n",
      "1 spam 3\n",
      "1 spam ham\n",
      "1 2 3\n"
     ]
    }
   ],
   "source": [
    "def kwonly(a, *, b=\"spam\", c=\"ham\"):\n",
    "    print(a, b, c)\n",
    "\n",
    "\n",
    "kwonly(1)\n",
    "kwonly(1, c=3)\n",
    "kwonly(a=1)\n",
    "kwonly(c=3, b=2, a=1)"
   ]
  },
  {
   "cell_type": "code",
   "execution_count": 86,
   "id": "d627db74",
   "metadata": {},
   "outputs": [
    {
     "name": "stdout",
     "output_type": "stream",
     "text": [
      "1 (2, 3) 6 {'x': 4, 'y': 5}\n",
      "1 (2, 3) 7 {'x': 4, 'y': 5}\n"
     ]
    }
   ],
   "source": [
    "# def f(a, *b, **d, c=6):\n",
    "# print(a, b, c, d) # Keyword-only before **!\n",
    "# SyntaxError: invalid syntax\n",
    "\n",
    "\n",
    "def f(a, *b, c=6, **d):\n",
    "    print(a, b, c, d)  # Collect args in header\n",
    "\n",
    "\n",
    "f(1, 2, 3, x=4, y=5)  # Default used\n",
    "# 1 (2, 3) 6 {'y': 5, 'x': 4}\n",
    "\n",
    "f(1, 2, 3, x=4, y=5, c=7)  # Override default\n",
    "# 1 (2, 3) 7 {'y': 5, 'x': 4}"
   ]
  },
  {
   "cell_type": "code",
   "execution_count": null,
   "id": "d6c93f58",
   "metadata": {},
   "outputs": [],
   "source": [
    "# An exercise that demonstrates a practical application of\n",
    "# argument-matching tools.\n",
    "# Compute the minimum value from an arbitrary set of arguments\n",
    "# and an arbitrary set of object data types.\n",
    "\n",
    "\n",
    "def min1(*args):\n",
    "    res = args[0]\n",
    "    for arg in args[1:]:\n",
    "        if arg < res:\n",
    "            res = arg\n",
    "    return res\n",
    "\n",
    "\n",
    "def min2(first, *rest):\n",
    "    for arg in rest:\n",
    "        if arg < first:\n",
    "            first = arg\n",
    "    return first\n",
    "\n",
    "\n",
    "def min3(*args):\n",
    "    tmp = list(args)  # Or, in Python 2.4+: return sorted(args)[0]\n",
    "    tmp.sort()\n",
    "    return tmp[0]"
   ]
  },
  {
   "cell_type": "code",
   "execution_count": 90,
   "id": "bff95691",
   "metadata": {},
   "outputs": [
    {
     "name": "stdout",
     "output_type": "stream",
     "text": [
      "1\n",
      "aa\n",
      "[1, 1]\n"
     ]
    }
   ],
   "source": [
    "print(min1(3, 4, 1, 2))\n",
    "print(min2(\"bb\", \"aa\"))\n",
    "print(min3([2, 2], [1, 1], [3, 3]))"
   ]
  },
  {
   "cell_type": "code",
   "execution_count": 92,
   "id": "fee3e5f8",
   "metadata": {},
   "outputs": [
    {
     "name": "stdout",
     "output_type": "stream",
     "text": [
      "1\n",
      "6\n"
     ]
    }
   ],
   "source": [
    "def minmax(test, *args):\n",
    "    res = args[0]\n",
    "    for arg in args[1:]:\n",
    "        if test(arg, res):\n",
    "            res = arg\n",
    "    return res\n",
    "\n",
    "\n",
    "def lessthan(x, y):\n",
    "    return x < y  # See also: lambda, eval\n",
    "\n",
    "\n",
    "def grtrthan(x, y):\n",
    "    return x > y\n",
    "\n",
    "\n",
    "print(minmax(lessthan, 4, 2, 1, 5, 6, 3))  # Self-test code\n",
    "print(minmax(grtrthan, 4, 2, 1, 5, 6, 3))"
   ]
  },
  {
   "cell_type": "code",
   "execution_count": 100,
   "id": "2ff31b59",
   "metadata": {},
   "outputs": [],
   "source": [
    "def intersect(*args):\n",
    "    res = []\n",
    "    for x in args[0]:  # Scan first sequence\n",
    "        if x in res:\n",
    "            continue  # Skip duplicates\n",
    "        for other in args[1:]:  # for all other args\n",
    "            if x not in other:\n",
    "                break  # I tem in each one?\n",
    "        else:  # No: break out of loop\n",
    "            res.append(x)  # Yes: add items to end\n",
    "    return res\n",
    "\n",
    "\n",
    "def union(*args):\n",
    "    res = []\n",
    "    for seq in args:  # For al l args\n",
    "        for x in seq:  # For all nodes\n",
    "            if not x in res:\n",
    "                res.append(x)  # Add new items to result\n",
    "    return res"
   ]
  },
  {
   "cell_type": "code",
   "execution_count": 104,
   "id": "24eeddcf",
   "metadata": {},
   "outputs": [
    {
     "data": {
      "text/plain": [
       "['S', 'A', 'M']"
      ]
     },
     "execution_count": 104,
     "metadata": {},
     "output_type": "execute_result"
    }
   ],
   "source": [
    "s1, s2, s3 = \"SPAM\", \"SCAM\", \"SLAM\"\n",
    "\n",
    "intersect(s1, s2), union(s1, s2)\n",
    "\n",
    "intersect([1, 2, 3], (1, 4))\n",
    "\n",
    "intersect(s1, s2, s3)"
   ]
  }
 ],
 "metadata": {
  "kernelspec": {
   "display_name": "base",
   "language": "python",
   "name": "python3"
  },
  "language_info": {
   "codemirror_mode": {
    "name": "ipython",
    "version": 3
   },
   "file_extension": ".py",
   "mimetype": "text/x-python",
   "name": "python",
   "nbconvert_exporter": "python",
   "pygments_lexer": "ipython3",
   "version": "3.12.4"
  }
 },
 "nbformat": 4,
 "nbformat_minor": 5
}
