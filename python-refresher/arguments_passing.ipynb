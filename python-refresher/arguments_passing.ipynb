{
 "cells": [
  {
   "cell_type": "code",
   "execution_count": 5,
   "id": "ac8ae1b8",
   "metadata": {},
   "outputs": [
    {
     "name": "stdout",
     "output_type": "stream",
     "text": [
      "88\n"
     ]
    }
   ],
   "source": [
    "def f(a):\n",
    "    a = 99\n",
    "\n",
    "\n",
    "b = 88\n",
    "f(b)\n",
    "print(b)"
   ]
  },
  {
   "cell_type": "code",
   "execution_count": 7,
   "id": "e80a2191",
   "metadata": {},
   "outputs": [
    {
     "data": {
      "text/plain": [
       "(1, ['spam', 2])"
      ]
     },
     "execution_count": 7,
     "metadata": {},
     "output_type": "execute_result"
    }
   ],
   "source": [
    "def changer(a, b):  # Arguments assigned references to objects\n",
    "    a = 2  # Changes local name's value only\n",
    "    b[0] = \"spam\"  # Changes shared object in place\n",
    "\n",
    "\n",
    "X = 1\n",
    "L = [1, 2]  # Caller:\n",
    "changer(X, L)  # Pass immutable and mutable objects\n",
    "X, L  # X is unchanged, L is different!"
   ]
  },
  {
   "cell_type": "code",
   "execution_count": 14,
   "id": "d5e0f974",
   "metadata": {},
   "outputs": [
    {
     "name": "stdout",
     "output_type": "stream",
     "text": [
      "1\n"
     ]
    }
   ],
   "source": [
    "X = 1\n",
    "a = X  # They share the same obj\n",
    "a = 2  # Reset a only, X is still 1\n",
    "print(X)\n",
    "# X is a\n",
    "# X == a"
   ]
  },
  {
   "cell_type": "code",
   "execution_count": 16,
   "id": "18ea4c6a",
   "metadata": {},
   "outputs": [
    {
     "name": "stdout",
     "output_type": "stream",
     "text": [
      "['spam', 2]\n"
     ]
    }
   ],
   "source": [
    "L = [1, 2]\n",
    "b = L  # They share the same object\n",
    "b[0] = \"spam\"  # In-place change: 'L' sees the change too\n",
    "print(L)"
   ]
  },
  {
   "cell_type": "code",
   "execution_count": null,
   "id": "7f28e781",
   "metadata": {},
   "outputs": [],
   "source": [
    "# Avoiding Mutable Argument Changes"
   ]
  }
 ],
 "metadata": {
  "kernelspec": {
   "display_name": "base",
   "language": "python",
   "name": "python3"
  },
  "language_info": {
   "codemirror_mode": {
    "name": "ipython",
    "version": 3
   },
   "file_extension": ".py",
   "mimetype": "text/x-python",
   "name": "python",
   "nbconvert_exporter": "python",
   "pygments_lexer": "ipython3",
   "version": "3.12.4"
  }
 },
 "nbformat": 4,
 "nbformat_minor": 5
}
