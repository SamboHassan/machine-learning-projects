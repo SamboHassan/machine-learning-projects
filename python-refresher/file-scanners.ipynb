{
 "cells": [
  {
   "cell_type": "code",
   "execution_count": null,
   "metadata": {},
   "outputs": [
    {
     "name": "stdout",
     "output_type": "stream",
     "text": [
      "<class '_io.TextIOWrapper'>\n",
      "<class 'str'>\n",
      "856\n",
      "The Zen of Python, b\n"
     ]
    }
   ],
   "source": [
    "# To load a file’s contents into a string all at once, you simply call\n",
    "# the file object’s read method:\n",
    "\n",
    "file = open(\"test.txt\", \"r\")  # Read contents into a string\n",
    "contents = file.read()\n",
    "print(type(file))\n",
    "print(type(contents))\n",
    "print(len(contents))\n",
    "# for c in contents:\n",
    "#     print(c, end=\"\")\n",
    "\n",
    "print(contents[:20])"
   ]
  },
  {
   "cell_type": "code",
   "execution_count": 24,
   "metadata": {},
   "outputs": [],
   "source": [
    "# But to load a file in smaller pieces, it’s common to code either a while loop with\n",
    "# breaks on end-of-file, or a for loop. To read by characters, either of the\n",
    "# following codings will suffice:\n",
    "\n",
    "file = open(\"test.txt\", \"r\")\n",
    "while True:\n",
    "    char = file.read(3)  # Read by character - 3 character at a time\n",
    "    if not char:\n",
    "        break  # Empty string means end-of-file\n",
    "    # print(char)\n",
    "\n",
    "# for char in open('test.txt').read():  # Read 1 char at a time\n",
    "#     print(char)\n",
    "\n",
    "# The for loop processes each character, but it loads the file into memory\n",
    "# all at once (and assumes it fits!)."
   ]
  },
  {
   "cell_type": "code",
   "execution_count": 30,
   "metadata": {},
   "outputs": [],
   "source": [
    "# To read by lines or blocks instead, you can use while loop\n",
    "# code like this:\n",
    "\n",
    "file = open(\"test.txt\")\n",
    "while True:\n",
    "    line = file.readline()  # Read line by line\n",
    "    if not line:\n",
    "        break\n",
    "    # print(line.rstrip()) # Line already has a \\n"
   ]
  },
  {
   "cell_type": "code",
   "execution_count": 38,
   "metadata": {},
   "outputs": [],
   "source": [
    "file = open(\"test.txt\", \"rb\")\n",
    "while True:\n",
    "    chunk = file.read(10)  # Read byte chunks: up to 10 bytes\n",
    "    if not chunk:\n",
    "        break\n",
    "    # print(chunk)"
   ]
  },
  {
   "cell_type": "code",
   "execution_count": 44,
   "metadata": {},
   "outputs": [],
   "source": [
    "# To read text files line by line, though, the\n",
    "# for loop tends to be easiest to code and the quickest to run:\n",
    "\n",
    "# This method uses the file read lines method to load\n",
    "# a file all at once into a line-string list\n",
    "for line in open(\"test.txt\").readlines():\n",
    "    pass\n",
    "    # print(line.rstrip())\n",
    "\n",
    "# This example relies on file iterators to automatically read one\n",
    "# line on each loop iteration.\n",
    "for line in open(\"test.txt\"):  # Use iterators: best for text input\n",
    "    # print(line.rstrip())\n",
    "    pass\n",
    "\n",
    "# The last example is the best option for text files—besides\n",
    "# its simplicity, it works for arbitrarily large files because it doesn’t\n",
    "# load the entire file into memory all at once. It is also the quickest"
   ]
  },
  {
   "cell_type": "code",
   "execution_count": 46,
   "metadata": {},
   "outputs": [
    {
     "name": "stdout",
     "output_type": "stream",
     "text": [
      "Namespaces are one honking great idea -- let's do more of those!\n",
      "If the implementation is easy to explain, it may be a good idea.\n",
      "If the implementation is hard to explain, it's a bad idea.\n",
      "Although never is often better than *right* now.\n",
      "Now is better than never.\n",
      "Although that way may not be obvious at first unless you're Dutch.\n",
      "There should be one-- and preferably only one --obvious way to do it.\n",
      "In the face of ambiguity, refuse the temptation to guess.\n",
      "Unless explicitly silenced.\n",
      "Errors should never pass silently.\n",
      "Although practicality beats purity.\n",
      "Special cases aren't special enough to break the rules.\n",
      "Readability counts.\n",
      "Sparse is better than dense.\n",
      "Flat is better than nested.\n",
      "Complex is better than complicated.\n",
      "Simple is better than complex.\n",
      "Explicit is better than implicit.\n",
      "Beautiful is better than ugly.\n",
      "\n",
      "The Zen of Python, by Tim Peters\n"
     ]
    }
   ],
   "source": [
    "# File readlines calls can still be useful, though—to\n",
    "# reverse a file’s lines\n",
    "\n",
    "for line in reversed(open(\"test.txt\").readlines()):\n",
    "    print(line.rstrip())"
   ]
  },
  {
   "cell_type": "code",
   "execution_count": null,
   "metadata": {},
   "outputs": [],
   "source": []
  }
 ],
 "metadata": {
  "kernelspec": {
   "display_name": "base",
   "language": "python",
   "name": "python3"
  },
  "language_info": {
   "codemirror_mode": {
    "name": "ipython",
    "version": 3
   },
   "file_extension": ".py",
   "mimetype": "text/x-python",
   "name": "python",
   "nbconvert_exporter": "python",
   "pygments_lexer": "ipython3",
   "version": "3.12.4"
  }
 },
 "nbformat": 4,
 "nbformat_minor": 2
}
