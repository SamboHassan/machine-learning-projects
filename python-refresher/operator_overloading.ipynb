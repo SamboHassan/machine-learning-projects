{
 "cells": [
  {
   "cell_type": "code",
   "execution_count": 1,
   "id": "9eebbfd2",
   "metadata": {},
   "outputs": [
    {
     "data": {
      "text/plain": [
       "10"
      ]
     },
     "execution_count": 1,
     "metadata": {},
     "output_type": "execute_result"
    }
   ],
   "source": [
    "class Number:\n",
    "    def __init__(self, start):\n",
    "        self.data = start \n",
    "    \n",
    "    def __sub__(self, other):\n",
    "        return Number(self.data - other)\n",
    "    \n",
    "X = Number(14)   # Number.__init__(X, 14)\n",
    "X.data\n",
    "Y = X - 4   # Number.__sub__(X, 4)\n",
    "Y.data  \n",
    "\n"
   ]
  },
  {
   "cell_type": "code",
   "execution_count": 10,
   "id": "b0619572",
   "metadata": {},
   "outputs": [
    {
     "name": "stdout",
     "output_type": "stream",
     "text": [
      "getitem: 2\n",
      "getitem: slice(2, 4, None)\n"
     ]
    },
    {
     "data": {
      "text/plain": [
       "(5, [5, 6])"
      ]
     },
     "execution_count": 10,
     "metadata": {},
     "output_type": "execute_result"
    }
   ],
   "source": [
    "class Indexer:\n",
    "    data = [2,4,5,6,8]\n",
    "    def __getitem__(self, index):\n",
    "        print(\"getitem:\", index)\n",
    "        return self.data[index]\n",
    "    \n",
    "\n",
    "X = Indexer()\n",
    "X[2], X[2:4]"
   ]
  },
  {
   "cell_type": "markdown",
   "id": "4283d896",
   "metadata": {},
   "source": [
    "User-Defined Iterables"
   ]
  },
  {
   "cell_type": "code",
   "execution_count": 14,
   "id": "1e67fba0",
   "metadata": {},
   "outputs": [
    {
     "name": "stdout",
     "output_type": "stream",
     "text": [
      "1 4 9 16 25 "
     ]
    }
   ],
   "source": [
    "class Squares:\n",
    "    def __init__(self, start, stop):    \n",
    "        self.value = start - 1\n",
    "        self.stop  = stop\n",
    "    def __iter__(self):                 \n",
    "        return self\n",
    "    def __next__(self):                 \n",
    "        if self.value == self.stop:     \n",
    "            raise StopIteration\n",
    "        self.value += 1\n",
    "        return self.value ** 2\n",
    "    \n",
    "for i in Squares(1,5):\n",
    "    print(i, end=\" \")"
   ]
  },
  {
   "cell_type": "code",
   "execution_count": 16,
   "id": "ad2c5192",
   "metadata": {},
   "outputs": [
    {
     "name": "stdout",
     "output_type": "stream",
     "text": [
      "aa ac ae ca cc ce ea ec ee "
     ]
    }
   ],
   "source": [
    "S = 'ace'\n",
    "for x in S:\n",
    "    for y in S:\n",
    "        print(x + y, end=' ')"
   ]
  },
  {
   "cell_type": "code",
   "execution_count": null,
   "id": "058b3892",
   "metadata": {},
   "outputs": [],
   "source": [
    "# Attribute Access: __getattr__ and __setattr__\n",
    "#  String Representation: __repr__ and __str__\n",
    "#  Right-Side and In-Place Uses: __radd__ and __iadd__\n",
    "# Call Expressions: __call__\n",
    "\n",
    "# Boolean Tests: __bool__ and __len__\n",
    "# Object Destruction: __del__"
   ]
  },
  {
   "cell_type": "code",
   "execution_count": 19,
   "id": "68d5fb4a",
   "metadata": {},
   "outputs": [
    {
     "name": "stdout",
     "output_type": "stream",
     "text": [
      "yes!\n"
     ]
    }
   ],
   "source": [
    "class Truth:\n",
    "    def __bool__(self): return True\n",
    "\n",
    "X = Truth()\n",
    "\n",
    "if X: print('yes!')"
   ]
  },
  {
   "cell_type": "code",
   "execution_count": 31,
   "id": "a2f73bc6",
   "metadata": {},
   "outputs": [
    {
     "name": "stdout",
     "output_type": "stream",
     "text": [
      "Hello Brian\n"
     ]
    }
   ],
   "source": [
    "class Life:\n",
    "    def __init__(self, name='unknown'):\n",
    "        print('Hello ' + name)\n",
    "        self.name = name\n",
    "    \n",
    "    def live(self):\n",
    "        print(self.name)\n",
    "    \n",
    "    def __del__(self):\n",
    "        print('Goodbye ' + self.name)\n",
    "\n",
    "brian = Life('Brian') "
   ]
  },
  {
   "cell_type": "code",
   "execution_count": 32,
   "id": "0c0aa418",
   "metadata": {},
   "outputs": [
    {
     "name": "stdout",
     "output_type": "stream",
     "text": [
      "Brian\n"
     ]
    }
   ],
   "source": [
    "brian.live()"
   ]
  },
  {
   "cell_type": "code",
   "execution_count": 33,
   "id": "182a669e",
   "metadata": {},
   "outputs": [
    {
     "name": "stdout",
     "output_type": "stream",
     "text": [
      "Goodbye Brian\n"
     ]
    }
   ],
   "source": [
    "#  Here, when brian is assigned a string, we lose the last reference to the Life instance\n",
    "#  and so trigger its destructor method. \n",
    "brian = 'loretta'"
   ]
  },
  {
   "cell_type": "code",
   "execution_count": null,
   "id": "007df96c",
   "metadata": {},
   "outputs": [],
   "source": []
  }
 ],
 "metadata": {
  "kernelspec": {
   "display_name": "base",
   "language": "python",
   "name": "python3"
  },
  "language_info": {
   "codemirror_mode": {
    "name": "ipython",
    "version": 3
   },
   "file_extension": ".py",
   "mimetype": "text/x-python",
   "name": "python",
   "nbconvert_exporter": "python",
   "pygments_lexer": "ipython3",
   "version": "3.13.5"
  }
 },
 "nbformat": 4,
 "nbformat_minor": 5
}
