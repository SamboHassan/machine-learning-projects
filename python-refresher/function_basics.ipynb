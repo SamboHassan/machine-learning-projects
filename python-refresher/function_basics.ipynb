{
 "cells": [
  {
   "cell_type": "code",
   "execution_count": 2,
   "id": "972825ff",
   "metadata": {},
   "outputs": [],
   "source": [
    "def times(x, y):\n",
    "    \"\"\"Return the product of x and y.\"\"\"\n",
    "    return x * y"
   ]
  },
  {
   "cell_type": "code",
   "execution_count": 4,
   "id": "74d06fbc",
   "metadata": {},
   "outputs": [
    {
     "data": {
      "text/plain": [
       "12"
      ]
     },
     "execution_count": 4,
     "metadata": {},
     "output_type": "execute_result"
    }
   ],
   "source": [
    "times(3, 4)"
   ]
  },
  {
   "cell_type": "code",
   "execution_count": 6,
   "id": "5ad12f56",
   "metadata": {},
   "outputs": [
    {
     "data": {
      "text/plain": [
       "'NanNanNanNan'"
      ]
     },
     "execution_count": 6,
     "metadata": {},
     "output_type": "execute_result"
    }
   ],
   "source": [
    "times(\"Nan\", 4)"
   ]
  },
  {
   "cell_type": "code",
   "execution_count": 13,
   "id": "11cf00e9",
   "metadata": {},
   "outputs": [
    {
     "data": {
      "text/plain": [
       "(1, 2, 3, 1, 2, 3, 1, 2, 3, 1, 2, 3)"
      ]
     },
     "execution_count": 13,
     "metadata": {},
     "output_type": "execute_result"
    }
   ],
   "source": [
    "# times({1:2, 2:3, 3:4, 4:5}.values(), 4) Error: unsupported operand type(s)\n",
    "# for *: 'dict' and 'int'\n",
    "\n",
    "times([1, 2, 3], 4)  # This will repeat the list 4 times\n",
    "times((1, 2, 3), 4)  # This will repeat the tuple 4 times"
   ]
  },
  {
   "cell_type": "markdown",
   "id": "b5177832",
   "metadata": {},
   "source": [
    "Python leaves it up to the objects to do something reasonable for the syntax. Really, * is just a dispatch mechanism that routes control to the objects being processed.\n",
    "\n",
    "This sort of type-dependent behavior is known as polymorphism,  a term that essentially means that the meaning of an operation depends on the objects being operated upon. \n",
    "\n",
    "Because it’s a dynamically typed language, polymorphism\n",
    "runs rampant in Python. In fact, every operation is a polymorphic operation in Python:\n",
    "printing, indexing, the * operator, and much more."
   ]
  },
  {
   "cell_type": "code",
   "execution_count": 15,
   "id": "208c7b84",
   "metadata": {},
   "outputs": [
    {
     "name": "stdout",
     "output_type": "stream",
     "text": [
      "[3, 4, 5]\n"
     ]
    }
   ],
   "source": [
    "# More faster using list comprehension:\n",
    "def intersect(seq1, seq2):\n",
    "    \"\"\"Return the intersection of two sequences.\"\"\"\n",
    "    return [x for x in seq1 if x in seq2]\n",
    "\n",
    "\n",
    "# fairly slow because it executes nested loops\n",
    "def intersect2(seq1, seq2):\n",
    "    \"\"\"Return the intersection of two sequences.\"\"\"\n",
    "    res = []\n",
    "    for x in seq1:\n",
    "        if x in seq2:\n",
    "            res.append(x)\n",
    "    return res\n",
    "\n",
    "\n",
    "seq1 = [1, 2, 3, 4, 5]\n",
    "seq2 = [3, 4, 5, 6, 7]\n",
    "print(intersect2(seq1, seq2))  # Output: [3, 4, 5]"
   ]
  },
  {
   "cell_type": "code",
   "execution_count": null,
   "id": "fc621793",
   "metadata": {},
   "outputs": [
    {
     "name": "stdout",
     "output_type": "stream",
     "text": [
      "[1]\n"
     ]
    }
   ],
   "source": [
    "x = intersect([1, 2, 3], (1, 4))\n",
    "print(x)  # Output: [1]\n",
    "\n",
    "# Like all good functions in Python, intersect is polymorphic.\n",
    "# That is, it works on arbitrary types, as long as they support the\n",
    "# expected object interface"
   ]
  },
  {
   "cell_type": "code",
   "execution_count": 1,
   "id": "65ad07d5",
   "metadata": {},
   "outputs": [
    {
     "name": "stdout",
     "output_type": "stream",
     "text": [
      "('Umar', 'Adamu')\n",
      "('Umar', 'Adamu')\n",
      "('Umar', '')\n"
     ]
    }
   ],
   "source": [
    "def split_name(fullname):\n",
    "    parts = fullname.split()\n",
    "    \n",
    "    if len(parts) == 1:\n",
    "        # Only one name provided\n",
    "        return parts[0], \"\"\n",
    "    elif len(parts) == 2:\n",
    "        # Just first and last name\n",
    "        return parts[0], parts[1]\n",
    "    else:\n",
    "        # First, middle(s), and last\n",
    "        first = parts[0]\n",
    "        last = parts[-1]\n",
    "        return first, last\n",
    "\n",
    "\n",
    "# ✅ Test cases\n",
    "print(split_name(\"Umar Adamu\"))       # ('Umar', 'Adamu')\n",
    "print(split_name(\"Umar Isa Adamu\"))   # ('Umar', 'Adamu')\n",
    "print(split_name(\"Umar\"))             # ('Umar', '')\n"
   ]
  },
  {
   "cell_type": "code",
   "execution_count": 4,
   "id": "b8a30b3f",
   "metadata": {},
   "outputs": [
    {
     "name": "stdout",
     "output_type": "stream",
     "text": [
      "Isa\n",
      "Adamu\n"
     ]
    }
   ],
   "source": [
    "def split_name(fullname):\n",
    "    parts = fullname.split()\n",
    "    first = parts[0]\n",
    "    middle = parts[1:-1]\n",
    "    last = parts[-1]\n",
    "    return first, middle, last\n",
    "\n",
    "first, middle, last = split_name(\"Umar Isa Adamu\")\n",
    "print(middle[0])  # ['Isa']\n",
    "print(last)    # Adamu\n"
   ]
  },
  {
   "cell_type": "code",
   "execution_count": 6,
   "id": "c9544d7c",
   "metadata": {},
   "outputs": [
    {
     "name": "stdout",
     "output_type": "stream",
     "text": [
      "<class 'str'>\n",
      "Adamu\n"
     ]
    }
   ],
   "source": [
    "def split_name(fullname):\n",
    "    names = fullname.split()\n",
    "    first = names[0]\n",
    "    last = names[-1]\n",
    "    return first, last\n",
    "\n",
    "first, last = split_name(\"Umar Isa Adamu\")\n",
    "print(type(first))  # Umar\n",
    "print(last)   # Adamu"
   ]
  },
  {
   "cell_type": "code",
   "execution_count": null,
   "id": "3de984cb",
   "metadata": {},
   "outputs": [],
   "source": []
  }
 ],
 "metadata": {
  "kernelspec": {
   "display_name": "base",
   "language": "python",
   "name": "python3"
  },
  "language_info": {
   "codemirror_mode": {
    "name": "ipython",
    "version": 3
   },
   "file_extension": ".py",
   "mimetype": "text/x-python",
   "name": "python",
   "nbconvert_exporter": "python",
   "pygments_lexer": "ipython3",
   "version": "3.13.5"
  }
 },
 "nbformat": 4,
 "nbformat_minor": 5
}
