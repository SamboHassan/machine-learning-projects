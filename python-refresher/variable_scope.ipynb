{
 "cells": [
  {
   "cell_type": "code",
   "execution_count": 2,
   "metadata": {},
   "outputs": [
    {
     "name": "stdout",
     "output_type": "stream",
     "text": [
      "99\n"
     ]
    }
   ],
   "source": [
    "# global is a namespace declaration statement\n",
    "# the X inside the def now refers to the X outside the def; they are\n",
    "# the same variable this time, so changing X inside the function changes\n",
    "# the X outside it\n",
    "\n",
    "X = 88  # Global X\n",
    "\n",
    "\n",
    "def func():\n",
    "    global X\n",
    "    X = 99  # Global X: outside def\n",
    "\n",
    "\n",
    "func()\n",
    "print(X)  # Prints 99"
   ]
  },
  {
   "cell_type": "code",
   "execution_count": null,
   "metadata": {},
   "outputs": [],
   "source": [
    "y, z = 1, 2  # Global variables in module\n",
    "\n",
    "\n",
    "def all_global():\n",
    "    global x  # Declare globals assigned\n",
    "    x = y + z\n",
    "\n",
    "\n",
    "# x is global because it was listed in a global statement\n",
    "# to map it to the module’s scope explicitly. \n",
    "# \n",
    "# Without the global here, x would be considered local by virtue of the assignment.\n",
    "\n",
    "# Also, notice that x does not even exist in the enclosing module\n",
    "# before the function runs; in this case, the first assignment in\n",
    "# the function creates x in the module.\n",
    "\n",
    "# Although there are times when globals are useful, variables assigned in\n",
    "# a def are local by default because that is normally the best policy."
   ]
  },
  {
   "cell_type": "code",
   "execution_count": 5,
   "metadata": {},
   "outputs": [],
   "source": [
    "# namespace are - package of variables\n",
    "# Program Design: Minimize Cross-File Changes\n",
    "\n",
    "# first.py\n",
    "X = 99  # This code doesn't know about second.py\n",
    "# second.py\n",
    "# import first\n",
    "\n",
    "# print(first.X)  # OK: references a name in another file\n",
    "# first.X = 88  # But changing it can be too subtle and implicit"
   ]
  },
  {
   "cell_type": "code",
   "execution_count": 6,
   "metadata": {},
   "outputs": [],
   "source": [
    "# In this specific case, we would probably be better off coding an accessor\n",
    "# function to manage the change:\n",
    "\n",
    "# first.py\n",
    "X = 99\n",
    "\n",
    "\n",
    "def setX(new):  # Accessor make external changes explit\n",
    "    global X  # And can manage access in a single place\n",
    "    X = new\n",
    "\n",
    "\n",
    "# second.py\n",
    "# import first\n",
    "\n",
    "# first.setX(88)  # Call the function instead of changing directly"
   ]
  },
  {
   "cell_type": "code",
   "execution_count": 3,
   "metadata": {},
   "outputs": [],
   "source": [
    "# thismod.py\n",
    "var = 99  # Global variable == module attribute\n",
    "\n",
    "def local():\n",
    "    var = 0 # Change local var\n",
    "\n",
    "def glob1():\n",
    "    global var # Declare global (normal)\n",
    "    var += 1 # Change global var\n",
    "\n",
    "def glob2():\n",
    "    var = 0 # Change local var\n",
    "    import thismod # Import myself\n",
    "    thismod.var += 1 # Change global var\n",
    "\n",
    "def glob3():\n",
    "    var = 0 # Change local var\n",
    "    import sys # Import system table\n",
    "    glob = sys.modules['thismod'] # Get module object (or use __name__)\n",
    "    glob.var += 1 # Change global var\n",
    "\n",
    "def test():\n",
    "    print(var)\n",
    "    local(); glob1(); glob2(); glob3()\n",
    "    print(var)\n",
    "\n",
    "# >>> import thismod\n",
    "# >>> thismod.test()\n",
    "# 99\n",
    "# 102\n",
    "# >>> thismod.var\n",
    "# 102"
   ]
  },
  {
   "cell_type": "code",
   "execution_count": null,
   "metadata": {},
   "outputs": [],
   "source": []
  }
 ],
 "metadata": {
  "kernelspec": {
   "display_name": "base",
   "language": "python",
   "name": "python3"
  },
  "language_info": {
   "codemirror_mode": {
    "name": "ipython",
    "version": 3
   },
   "file_extension": ".py",
   "mimetype": "text/x-python",
   "name": "python",
   "nbconvert_exporter": "python",
   "pygments_lexer": "ipython3",
   "version": "3.13.5"
  }
 },
 "nbformat": 4,
 "nbformat_minor": 2
}
