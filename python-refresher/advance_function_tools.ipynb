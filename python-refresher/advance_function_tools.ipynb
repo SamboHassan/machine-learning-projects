{
 "cells": [
  {
   "cell_type": "code",
   "execution_count": 13,
   "id": "c5cb25ac",
   "metadata": {},
   "outputs": [
    {
     "data": {
      "text/plain": [
       "(20, 15)"
      ]
     },
     "execution_count": 13,
     "metadata": {},
     "output_type": "execute_result"
    }
   ],
   "source": [
    "# Recursive Functions\n",
    "\n",
    "# Recursive functions—functions that call themselves either directly or indirectly\n",
    "# in order to loop.\n",
    "\n",
    "\n",
    "def mysum(L):\n",
    "    if not L:\n",
    "        return 0\n",
    "    else:\n",
    "        return L[0] + mysum(L[1:])\n",
    "\n",
    "\n",
    "L = [2, 4, 6, 8]\n",
    "\n",
    "mysum(L), mysum([1, 2, 3, 4, 5])"
   ]
  },
  {
   "cell_type": "code",
   "execution_count": 16,
   "id": "db1f8842",
   "metadata": {},
   "outputs": [
    {
     "name": "stdout",
     "output_type": "stream",
     "text": [
      "[1, 2, 3, 4, 5]\n",
      "[2, 3, 4, 5]\n",
      "[3, 4, 5]\n",
      "[4, 5]\n",
      "[5]\n",
      "[]\n"
     ]
    },
    {
     "data": {
      "text/plain": [
       "15"
      ]
     },
     "execution_count": 16,
     "metadata": {},
     "output_type": "execute_result"
    }
   ],
   "source": [
    "# When using recursion like this, each open level of call to the function\n",
    "# has its own copy of the function’s local scope on the runtime call\n",
    "# stack—here, that means L is different in each level\n",
    "\n",
    "\n",
    "def mysum(L):\n",
    "    print(L)\n",
    "    if not L:\n",
    "        return 0\n",
    "    else:\n",
    "        return L[0] + mysum(L[1:])\n",
    "\n",
    "\n",
    "mysum([1, 2, 3, 4, 5])\n",
    "\n",
    "# The sum is computed as the recursive calls unwind on returns"
   ]
  },
  {
   "cell_type": "code",
   "execution_count": 20,
   "id": "624e7222",
   "metadata": {},
   "outputs": [],
   "source": [
    "def mysum1(L):\n",
    "    return 0 if not L else L[0] + mysum1(L[1:])  # Use ternary expression\n",
    "\n",
    "\n",
    "def mysum2(L):\n",
    "    return L[0] if len(L) == 1 else L[0] + mysum2(L[1:])  # Any type, assume one\n",
    "\n",
    "\n",
    "def mysum3(L):\n",
    "    first, *rest = L\n",
    "    return first if not rest else first + mysum3(rest)  # Use 3.X ext seq assign\n",
    "\n",
    "\n",
    "# The latter two of these fail for empty lists but allow for sequences of any\n",
    "# object type that supports +, not just numbers:"
   ]
  },
  {
   "cell_type": "code",
   "execution_count": 22,
   "id": "50079fd1",
   "metadata": {},
   "outputs": [
    {
     "data": {
      "text/plain": [
       "'spam'"
      ]
     },
     "execution_count": 22,
     "metadata": {},
     "output_type": "execute_result"
    }
   ],
   "source": [
    " mysum2(('s', 'p', 'a', 'm')) "
   ]
  },
  {
   "cell_type": "code",
   "execution_count": 24,
   "id": "1394998e",
   "metadata": {},
   "outputs": [
    {
     "data": {
      "text/plain": [
       "11.0"
      ]
     },
     "execution_count": 24,
     "metadata": {},
     "output_type": "execute_result"
    }
   ],
   "source": [
    "# Indirectly recursive\n",
    "\n",
    "\n",
    "def mysum(L):\n",
    "    if not L:\n",
    "        return 0\n",
    "    return nonempty(L)  # Call a function that calls me\n",
    "\n",
    "\n",
    "def nonempty(L):\n",
    "    return L[0] + mysum(L[1:])  # Indirectly recursive\n",
    "\n",
    "\n",
    "mysum([1.1, 2.2, 3.3, 4.4])"
   ]
  },
  {
   "cell_type": "code",
   "execution_count": 26,
   "id": "bfede23f",
   "metadata": {},
   "outputs": [
    {
     "data": {
      "text/plain": [
       "15"
      ]
     },
     "execution_count": 26,
     "metadata": {},
     "output_type": "execute_result"
    }
   ],
   "source": [
    "# Loop Statements Versus Recursion\n",
    "L = [1, 2, 3, 4, 5]\n",
    "sum = 0\n",
    "\n",
    "while L:\n",
    "    sum += L[0]\n",
    "    L = L[1:]\n",
    "\n",
    "sum"
   ]
  },
  {
   "cell_type": "code",
   "execution_count": 28,
   "id": "794a1d99",
   "metadata": {},
   "outputs": [
    {
     "data": {
      "text/plain": [
       "15"
      ]
     },
     "execution_count": 28,
     "metadata": {},
     "output_type": "execute_result"
    }
   ],
   "source": [
    "L = [1, 2, 3, 4, 5]\n",
    "sum = 0\n",
    "for x in L:\n",
    "    sum += x\n",
    "sum\n",
    "\n",
    "# With looping statements, we don’t require a fresh copy of a local scope on\n",
    "# the call stack # for each iteration, and we avoid the speed costs associated\n",
    "# with function calls in general."
   ]
  },
  {
   "cell_type": "code",
   "execution_count": 29,
   "id": "4e24a75f",
   "metadata": {},
   "outputs": [
    {
     "data": {
      "text/plain": [
       "[1, [2, [3, 4], 5], 6, [7, 8]]"
      ]
     },
     "execution_count": 29,
     "metadata": {},
     "output_type": "execute_result"
    }
   ],
   "source": [
    "# Handling Arbitrary Structures\n",
    "# Best recursion use case\n",
    "# On the other hand, recursion can be required to traverse arbitrarily\n",
    "# shaped structures.\n",
    "\n",
    "# Recursion is an explicit stack-based algorithms\n",
    "\n",
    "[1, [2, [3, 4], 5], 6, [7, 8]]  # Arbitrarily nested sublists\n",
    "\n",
    "# Simple looping statements won’t work here because this is not a linear iteration."
   ]
  },
  {
   "cell_type": "code",
   "execution_count": 31,
   "id": "a7509c54",
   "metadata": {},
   "outputs": [
    {
     "name": "stdout",
     "output_type": "stream",
     "text": [
      "36\n"
     ]
    }
   ],
   "source": [
    "def sumtree(L):\n",
    "    tot = 0\n",
    "    for x in L:  # For each item at this leve\n",
    "        if not isinstance(x, list):\n",
    "            tot += x  # Add numbers directly\n",
    "        else:\n",
    "            tot += sumtree(x)  # Recur for sublists\n",
    "    return tot\n",
    "\n",
    "\n",
    "L = [1, [2, [3, 4], 5], 6, [7, 8]]  # Arbitrary nesting\n",
    "print(sumtree(L))"
   ]
  },
  {
   "cell_type": "code",
   "execution_count": 33,
   "id": "0fd62e6f",
   "metadata": {},
   "outputs": [
    {
     "name": "stdout",
     "output_type": "stream",
     "text": [
      "15\n",
      "15\n"
     ]
    }
   ],
   "source": [
    "# Pathological cases\n",
    "print(sumtree([1, [2, [3, [4, [5]]]]]))  # Prints 15 (right-heavy)\n",
    "print(sumtree([[[[[1], 2], 3], 4], 5]))  # Prints 15 (left-heavy)"
   ]
  },
  {
   "cell_type": "code",
   "execution_count": null,
   "id": "3426e276",
   "metadata": {},
   "outputs": [],
   "source": [
    "# Recursion versus queues and stacks"
   ]
  }
 ],
 "metadata": {
  "kernelspec": {
   "display_name": "base",
   "language": "python",
   "name": "python3"
  },
  "language_info": {
   "codemirror_mode": {
    "name": "ipython",
    "version": 3
   },
   "file_extension": ".py",
   "mimetype": "text/x-python",
   "name": "python",
   "nbconvert_exporter": "python",
   "pygments_lexer": "ipython3",
   "version": "3.12.4"
  }
 },
 "nbformat": 4,
 "nbformat_minor": 5
}
