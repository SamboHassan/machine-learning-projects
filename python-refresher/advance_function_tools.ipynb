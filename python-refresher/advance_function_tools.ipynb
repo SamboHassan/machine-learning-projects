{
 "cells": [
  {
   "cell_type": "code",
   "execution_count": null,
   "id": "c5cb25ac",
   "metadata": {},
   "outputs": [
    {
     "data": {
      "text/plain": [
       "(20, 15)"
      ]
     },
     "execution_count": 13,
     "metadata": {},
     "output_type": "execute_result"
    }
   ],
   "source": [
    "# Recursive Functions\n",
    "\n",
    "# functions that call themselves either directly or indirectly\n",
    "# in order to loop.\n",
    "\n",
    "\n",
    "def mysum(L):\n",
    "    if not L:\n",
    "        return 0\n",
    "    else:\n",
    "        return L[0] + mysum(L[1:])\n",
    "\n",
    "\n",
    "L = [2, 4, 6, 8]\n",
    "\n",
    "mysum(L), mysum([1, 2, 3, 4, 5])"
   ]
  },
  {
   "cell_type": "code",
   "execution_count": 16,
   "id": "db1f8842",
   "metadata": {},
   "outputs": [
    {
     "name": "stdout",
     "output_type": "stream",
     "text": [
      "[1, 2, 3, 4, 5]\n",
      "[2, 3, 4, 5]\n",
      "[3, 4, 5]\n",
      "[4, 5]\n",
      "[5]\n",
      "[]\n"
     ]
    },
    {
     "data": {
      "text/plain": [
       "15"
      ]
     },
     "execution_count": 16,
     "metadata": {},
     "output_type": "execute_result"
    }
   ],
   "source": [
    "# When using recursion like this, each open level of call to the function\n",
    "# has its own copy of the function’s local scope on the runtime call\n",
    "# stack—here, that means L is different in each level\n",
    "\n",
    "\n",
    "def mysum(L):\n",
    "    print(L)\n",
    "    if not L:\n",
    "        return 0\n",
    "    else:\n",
    "        return L[0] + mysum(L[1:])\n",
    "\n",
    "\n",
    "mysum([1, 2, 3, 4, 5])\n",
    "\n",
    "# The sum is computed as the recursive calls unwind on returns"
   ]
  },
  {
   "cell_type": "code",
   "execution_count": 20,
   "id": "624e7222",
   "metadata": {},
   "outputs": [],
   "source": [
    "def mysum1(L):\n",
    "    return 0 if not L else L[0] + mysum1(L[1:])  # Use ternary expression\n",
    "\n",
    "\n",
    "def mysum2(L):\n",
    "    return L[0] if len(L) == 1 else L[0] + mysum2(L[1:])  # Any type, assume one\n",
    "\n",
    "\n",
    "def mysum3(L):\n",
    "    first, *rest = L\n",
    "    return first if not rest else first + mysum3(rest)  # Use 3.X ext seq assign\n",
    "\n",
    "\n",
    "# The latter two of these fail for empty lists but allow for sequences of any\n",
    "# object type that supports +, not just numbers:"
   ]
  },
  {
   "cell_type": "code",
   "execution_count": 22,
   "id": "50079fd1",
   "metadata": {},
   "outputs": [
    {
     "data": {
      "text/plain": [
       "'spam'"
      ]
     },
     "execution_count": 22,
     "metadata": {},
     "output_type": "execute_result"
    }
   ],
   "source": [
    " mysum2(('s', 'p', 'a', 'm')) "
   ]
  },
  {
   "cell_type": "code",
   "execution_count": 24,
   "id": "1394998e",
   "metadata": {},
   "outputs": [
    {
     "data": {
      "text/plain": [
       "11.0"
      ]
     },
     "execution_count": 24,
     "metadata": {},
     "output_type": "execute_result"
    }
   ],
   "source": [
    "# Indirectly recursive\n",
    "\n",
    "\n",
    "def mysum(L):\n",
    "    if not L:\n",
    "        return 0\n",
    "    return nonempty(L)  # Call a function that calls me\n",
    "\n",
    "\n",
    "def nonempty(L):\n",
    "    return L[0] + mysum(L[1:])  # Indirectly recursive\n",
    "\n",
    "\n",
    "mysum([1.1, 2.2, 3.3, 4.4])"
   ]
  },
  {
   "cell_type": "code",
   "execution_count": 26,
   "id": "bfede23f",
   "metadata": {},
   "outputs": [
    {
     "data": {
      "text/plain": [
       "15"
      ]
     },
     "execution_count": 26,
     "metadata": {},
     "output_type": "execute_result"
    }
   ],
   "source": [
    "# Loop Statements Versus Recursion\n",
    "L = [1, 2, 3, 4, 5]\n",
    "sum = 0\n",
    "\n",
    "while L:\n",
    "    sum += L[0]\n",
    "    L = L[1:]\n",
    "\n",
    "sum"
   ]
  },
  {
   "cell_type": "code",
   "execution_count": 28,
   "id": "794a1d99",
   "metadata": {},
   "outputs": [
    {
     "data": {
      "text/plain": [
       "15"
      ]
     },
     "execution_count": 28,
     "metadata": {},
     "output_type": "execute_result"
    }
   ],
   "source": [
    "L = [1, 2, 3, 4, 5]\n",
    "sum = 0\n",
    "for x in L:\n",
    "    sum += x\n",
    "sum\n",
    "\n",
    "# With looping statements, we don’t require a fresh copy of a local scope on\n",
    "# the call stack # for each iteration, and we avoid the speed costs associated\n",
    "# with function calls in general."
   ]
  },
  {
   "cell_type": "code",
   "execution_count": 29,
   "id": "4e24a75f",
   "metadata": {},
   "outputs": [
    {
     "data": {
      "text/plain": [
       "[1, [2, [3, 4], 5], 6, [7, 8]]"
      ]
     },
     "execution_count": 29,
     "metadata": {},
     "output_type": "execute_result"
    }
   ],
   "source": [
    "# Handling Arbitrary Structures\n",
    "# Best recursion use case\n",
    "# On the other hand, recursion can be required to traverse arbitrarily\n",
    "# shaped structures.\n",
    "\n",
    "# Recursion is an explicit stack-based algorithms\n",
    "\n",
    "[1, [2, [3, 4], 5], 6, [7, 8]]  # Arbitrarily nested sublists\n",
    "\n",
    "# Simple looping statements won’t work here because this is not a linear iteration."
   ]
  },
  {
   "cell_type": "code",
   "execution_count": 1,
   "id": "a7509c54",
   "metadata": {},
   "outputs": [],
   "source": [
    "def sumtree(L):\n",
    "    tot = 0\n",
    "    for x in L:\n",
    "        if not isinstance(x, list):\n",
    "            tot += x\n",
    "        else:\n",
    "            tot += sumtree(x)\n",
    "    return tot"
   ]
  },
  {
   "cell_type": "code",
   "execution_count": 4,
   "id": "3b2439b4",
   "metadata": {},
   "outputs": [
    {
     "name": "stdout",
     "output_type": "stream",
     "text": [
      "Help on built-in function setrecursionlimit in module sys:\n",
      "\n",
      "setrecursionlimit(limit, /)\n",
      "    Set the maximum depth of the Python interpreter stack to n.\n",
      "\n",
      "    This limit prevents infinite recursion from causing an overflow of the C\n",
      "    stack and crashing Python.  The highest possible limit is platform-\n",
      "    dependent.\n",
      "\n"
     ]
    }
   ],
   "source": [
    "#  Also note that standard Python limits the depth of its runtime call stack—crucial to\n",
    "#  recursive call programs—to trap infinite recursion errors. To expand it, use the sys\n",
    "#  module:\n",
    "\n",
    "import sys\n",
    "sys.getrecursionlimit()  # Default is 1000  \n",
    "\n",
    "# sys.setrecursionlimit(10000)        \n",
    "# This is not recommended, though, because it can lead to crashes if you run out of memory.\n",
    "help(sys.setrecursionlimit) "
   ]
  },
  {
   "cell_type": "code",
   "execution_count": 3,
   "id": "f55beed5",
   "metadata": {},
   "outputs": [
    {
     "name": "stdout",
     "output_type": "stream",
     "text": [
      "Direct call\n",
      "Indirect call!\n"
     ]
    }
   ],
   "source": [
    "#  some operator overloading methods in classes such as __setattr__ and __getattribute__ \n",
    "# and even __repr__ have the potential to recursively loop if used incorrectly. \n",
    "# \n",
    "# Recursion is a powerful tool, but it tends to be best when both understood and expected!\n",
    "\n",
    "def echo(message):\n",
    "    print(message)\n",
    "\n",
    "\n",
    "echo('Direct call') # Direct call\n",
    "\n",
    "x = echo                             \n",
    "x('Indirect call!')  # Indirect call!\n"
   ]
  },
  {
   "cell_type": "code",
   "execution_count": 5,
   "id": "f9728b37",
   "metadata": {},
   "outputs": [
    {
     "name": "stdout",
     "output_type": "stream",
     "text": [
      "Spam!\n",
      "Ham!\n"
     ]
    }
   ],
   "source": [
    "schedule = [ (echo, 'Spam!'), (echo, 'Ham!') ]\n",
    "for (func, arg) in schedule:\n",
    "    func(arg)                        \n",
    "# Call functions embedded in containers"
   ]
  },
  {
   "cell_type": "code",
   "execution_count": 8,
   "id": "06e2a57a",
   "metadata": {},
   "outputs": [
    {
     "name": "stdout",
     "output_type": "stream",
     "text": [
      "Spam:Ham!\n",
      "Spam:Eggs!\n"
     ]
    }
   ],
   "source": [
    "# Make a function but don't call it\n",
    "# Label in enclosing scope is retained\n",
    "# Call the function that make returned\n",
    "\n",
    "\n",
    "def make(label):\n",
    "    def echo(message):\n",
    "        print(label + ':' + message)\n",
    "    return echo\n",
    "\n",
    "F = make('Spam')                     \n",
    "F('Ham!')                            \n",
    "F('Eggs!') "
   ]
  },
  {
   "cell_type": "code",
   "execution_count": 13,
   "id": "120bfb8a",
   "metadata": {},
   "outputs": [
    {
     "data": {
      "text/plain": [
       "('spamspamspamspamspamspamspamspam',\n",
       " 'func',\n",
       " ['__annotations__',\n",
       "  '__builtins__',\n",
       "  '__call__',\n",
       "  '__class__',\n",
       "  '__closure__',\n",
       "  '__code__',\n",
       "  '__defaults__',\n",
       "  '__delattr__',\n",
       "  '__dict__',\n",
       "  '__dir__',\n",
       "  '__doc__',\n",
       "  '__eq__',\n",
       "  '__format__',\n",
       "  '__ge__',\n",
       "  '__get__',\n",
       "  '__getattribute__',\n",
       "  '__getstate__',\n",
       "  '__globals__',\n",
       "  '__gt__',\n",
       "  '__hash__',\n",
       "  '__init__',\n",
       "  '__init_subclass__',\n",
       "  '__kwdefaults__',\n",
       "  '__le__',\n",
       "  '__lt__',\n",
       "  '__module__',\n",
       "  '__name__',\n",
       "  '__ne__',\n",
       "  '__new__',\n",
       "  '__qualname__',\n",
       "  '__reduce__',\n",
       "  '__reduce_ex__',\n",
       "  '__repr__',\n",
       "  '__setattr__',\n",
       "  '__sizeof__',\n",
       "  '__str__',\n",
       "  '__subclasshook__',\n",
       "  '__type_params__'])"
      ]
     },
     "execution_count": 13,
     "metadata": {},
     "output_type": "execute_result"
    }
   ],
   "source": [
    "#  Function Introspection\n",
    "#  Because they are objects, we can also process functions with normal object tools.\n",
    "\n",
    "def func(a):\n",
    "    b = 'spam'\n",
    "    return b * a\n",
    "\n",
    "func(8), func.__name__, dir(func)"
   ]
  },
  {
   "cell_type": "code",
   "execution_count": 18,
   "id": "53e2ad82",
   "metadata": {},
   "outputs": [
    {
     "data": {
      "text/plain": [
       "(1,\n",
       " ('a', 'b'),\n",
       " 'C:\\\\Users\\\\DELL PRO\\\\AppData\\\\Local\\\\Temp\\\\ipykernel_16452\\\\3440285372.py')"
      ]
     },
     "execution_count": 18,
     "metadata": {},
     "output_type": "execute_result"
    }
   ],
   "source": [
    "# func.__code__, dir(func.__code__)\n",
    "func.__code__.co_argcount, func.__code__.co_varnames, func.__code__.co_filename"
   ]
  },
  {
   "cell_type": "code",
   "execution_count": 22,
   "id": "1a7674f8",
   "metadata": {},
   "outputs": [
    {
     "data": {
      "text/plain": [
       "['__annotations__',\n",
       " '__builtins__',\n",
       " '__call__',\n",
       " '__class__',\n",
       " '__closure__',\n",
       " '__code__',\n",
       " '__defaults__',\n",
       " '__delattr__',\n",
       " '__dict__',\n",
       " '__dir__',\n",
       " '__doc__',\n",
       " '__eq__',\n",
       " '__format__',\n",
       " '__ge__',\n",
       " '__get__',\n",
       " '__getattribute__',\n",
       " '__getstate__',\n",
       " '__globals__',\n",
       " '__gt__',\n",
       " '__hash__',\n",
       " '__init__',\n",
       " '__init_subclass__',\n",
       " '__kwdefaults__',\n",
       " '__le__',\n",
       " '__lt__',\n",
       " '__module__',\n",
       " '__name__',\n",
       " '__ne__',\n",
       " '__new__',\n",
       " '__qualname__',\n",
       " '__reduce__',\n",
       " '__reduce_ex__',\n",
       " '__repr__',\n",
       " '__setattr__',\n",
       " '__sizeof__',\n",
       " '__str__',\n",
       " '__subclasshook__',\n",
       " '__type_params__',\n",
       " 'count',\n",
       " 'handles']"
      ]
     },
     "execution_count": 22,
     "metadata": {},
     "output_type": "execute_result"
    }
   ],
   "source": [
    "#  it’s possible to attach arbitrary user defined attributes to them as well \n",
    "\n",
    "func\n",
    "func.count = 0\n",
    "func.count += 1\n",
    "func.count\n",
    "\n",
    "func.handles = 'Button-Press'\n",
    "func.handles\n",
    "dir(func)"
   ]
  },
  {
   "cell_type": "code",
   "execution_count": 25,
   "id": "e1597d69",
   "metadata": {},
   "outputs": [
    {
     "data": {
      "text/plain": [
       "(6, {'a': 'spam', 'b': (1, 10), 'c': float, 'return': int})"
      ]
     },
     "execution_count": 25,
     "metadata": {},
     "output_type": "execute_result"
    }
   ],
   "source": [
    "# Function Annotations\n",
    "\n",
    "# it’s possible to attach annotation information—-arbitrary user-defined data about \n",
    "# a function’s arguments and result--to a function object.\n",
    "\n",
    "\n",
    "def func(a: \"spam\", b: (1,10), c: float) -> int:\n",
    "    return a + b+c\n",
    "\n",
    "func(1,2,3), func.__annotations__"
   ]
  },
  {
   "cell_type": "code",
   "execution_count": null,
   "id": "3b31ab29",
   "metadata": {},
   "outputs": [
    {
     "data": {
      "text/plain": [
       "'weefiefoe'"
      ]
     },
     "execution_count": 30,
     "metadata": {},
     "output_type": "execute_result"
    }
   ],
   "source": [
    "# Anonymous Functions: lambda\n",
    "\n",
    "# an expression form that generates function objects. This expression creates a function to be \n",
    "# called later, but it returns the function instead of assigning it to a name.\n",
    "\n",
    "# lambda argument1, argument2,... argumentN : expression using arguments\n",
    "\n",
    "# to embed a function’s definition within the code that uses it.\n",
    "\n",
    "# instead of being defined with a def elsewhere in a file and referenced by name\n",
    "\n",
    "f = lambda x, y, z: x + y + z\n",
    "f(2, 3, 4)\n",
    "\n",
    "# Here, f is assigned the function object the lambda expression creates; this is how def\n",
    "#  works, too, but its assignment is automatic.\n",
    "x = (lambda a=\"fee\", b=\"fie\", c=\"foe\": a + b + c)\n",
    "x(\"wee\")\n"
   ]
  },
  {
   "cell_type": "code",
   "execution_count": 35,
   "id": "3cbb2257",
   "metadata": {},
   "outputs": [
    {
     "name": "stdout",
     "output_type": "stream",
     "text": [
      "Sir robin\n"
     ]
    },
    {
     "data": {
      "text/plain": [
       "(None, <function __main__.knights.<locals>.<lambda>(x)>)"
      ]
     },
     "execution_count": 35,
     "metadata": {},
     "output_type": "execute_result"
    }
   ],
   "source": [
    "def knights():\n",
    "    title = \"Sir\" \n",
    "    action = (lambda x: title + \" \" + x)\n",
    "    return action \n",
    "\n",
    "act = knights()\n",
    "msg = act('robin')\n",
    "print(msg), act"
   ]
  },
  {
   "cell_type": "code",
   "execution_count": 39,
   "id": "e4fb6449",
   "metadata": {},
   "outputs": [
    {
     "name": "stdout",
     "output_type": "stream",
     "text": [
      "4\n",
      "8\n",
      "16\n",
      "9\n"
     ]
    }
   ],
   "source": [
    "# used to code jump tables\n",
    "\n",
    "# Inline function definition\n",
    "# A list of three callable functions\n",
    "L = [lambda x: x ** 2, lambda x: x ** 3, lambda x: x ** 4]   \n",
    "            \n",
    "for f in L:\n",
    "    print(f(2))  \n",
    "\n",
    "print(L[0](3))  # passed 3 as arg                  \n",
    "# Prints 4, 8, 16\n",
    "# Prints 9"
   ]
  },
  {
   "cell_type": "code",
   "execution_count": 43,
   "id": "71fe4887",
   "metadata": {},
   "outputs": [
    {
     "data": {
      "text/plain": [
       "64"
      ]
     },
     "execution_count": 43,
     "metadata": {},
     "output_type": "execute_result"
    }
   ],
   "source": [
    "# Multiway branch switches: Using dict and lamda\n",
    "\n",
    "key = 'one'\n",
    "{'already': (lambda: 2 + 2),\n",
    " 'got':     (lambda: 2 * 4),\n",
    " 'one':     (lambda: 2 ** 6)}[key]()\n",
    "\n",
    "# To make this work without lambda\n",
    "\n",
    "def f1(): return 2 + 2\n",
    "def f2(): return 2 * 4\n",
    "def f3(): return 2 ** 6\n",
    "key = 'one'\n",
    "{'already': f1, 'got': f2, 'one': f3}[key]()\n",
    "\n",
    "# if the three functions here are not useful anywhere else, it makes sense to \n",
    "# embed their definitions within the dictionary as lambdas. "
   ]
  },
  {
   "cell_type": "code",
   "execution_count": 53,
   "id": "78fc304b",
   "metadata": {},
   "outputs": [
    {
     "name": "stdout",
     "output_type": "stream",
     "text": [
      "This is equivalent to print() builtins\n"
     ]
    },
    {
     "data": {
      "text/plain": [
       "39"
      ]
     },
     "execution_count": 53,
     "metadata": {},
     "output_type": "execute_result"
    }
   ],
   "source": [
    "import sys\n",
    "X = \"This is equivalent to print() builtins\"\n",
    "\n",
    "sys.stdout.write(str(X)+'\\n')\n",
    "\n",
    "\n",
    "# the following statement:\n",
    "#  if a:\n",
    "#     b\n",
    "#  else:\n",
    "#     c\n",
    "#  can be emulated by either of these roughly equivalent expressions:\n",
    "#  b if a else c\n",
    "#  ((a and b) or c)"
   ]
  },
  {
   "cell_type": "code",
   "execution_count": 55,
   "id": "5f57464b",
   "metadata": {},
   "outputs": [
    {
     "data": {
      "text/plain": [
       "'aa'"
      ]
     },
     "execution_count": 55,
     "metadata": {},
     "output_type": "execute_result"
    }
   ],
   "source": [
    "lower = (lambda x, y: x if x < y else y)\n",
    "lower('bb', 'aa')\n",
    "lower('aa', 'bb')"
   ]
  },
  {
   "cell_type": "code",
   "execution_count": 59,
   "id": "83e5a111",
   "metadata": {},
   "outputs": [
    {
     "name": "stdout",
     "output_type": "stream",
     "text": [
      "spam\n",
      "toast\n",
      "eggs\n",
      "bright\n",
      "side\n",
      "of\n",
      "life\n"
     ]
    }
   ],
   "source": [
    "# perform loops within a lambda\n",
    "\n",
    "import sys\n",
    "showall = lambda x: list(map(sys.stdout.write, x))        \n",
    "t = showall(['spam\\n', 'toast\\n', 'eggs\\n'])    \n",
    "\n",
    "showall = lambda x: [sys.stdout.write(line) for line in x]\n",
    "t = showall(('bright\\n', 'side\\n', 'of\\n', 'life\\n'))\n",
    "\n",
    "\n",
    "showall = lambda x: [print(line, end='') for line in x]   \n",
    "showall = lambda x: print(*x, sep='', end='')             "
   ]
  },
  {
   "cell_type": "code",
   "execution_count": 62,
   "id": "eb576ae4",
   "metadata": {},
   "outputs": [
    {
     "data": {
      "text/plain": [
       "(103, 103)"
      ]
     },
     "execution_count": 62,
     "metadata": {},
     "output_type": "execute_result"
    }
   ],
   "source": [
    "# Scopes: lambdas Can Be Nested Too\n",
    "\n",
    "def action(x):\n",
    "    return (lambda y: x + y)   # Make and return function, remember x\n",
    "\n",
    "act = action(99)\n",
    "# act\n",
    "\n",
    "# lambda also has access to the names in any enclosing lambda.\n",
    "\n",
    "action = (lambda x: (lambda y: x + y))\n",
    "act = action(99)\n",
    "act(4), ((lambda x: (lambda y: x + y))(99))(4)"
   ]
  },
  {
   "cell_type": "code",
   "execution_count": 65,
   "id": "c9afbd27",
   "metadata": {},
   "outputs": [],
   "source": [
    "import sys\n",
    "from tkinter import Button, mainloop  # Tkinter in 2.X\n",
    "x = Button(\n",
    "        text='Press me',\n",
    "        command=(lambda:sys.stdout.write('Spam\\n')))  # 3.X: print()\n",
    "# x.pack()\n",
    "# mainloop() # This may be optional in console mode"
   ]
  },
  {
   "cell_type": "code",
   "execution_count": 69,
   "id": "ab917ec5",
   "metadata": {},
   "outputs": [
    {
     "data": {
      "text/plain": [
       "[13, 14, 15, 16]"
      ]
     },
     "execution_count": 69,
     "metadata": {},
     "output_type": "execute_result"
    }
   ],
   "source": [
    "# Functional Programming Tools\n",
    "\n",
    "# functional  programming—tools that apply functions to sequences and other iterables. This set\n",
    "# includes tools that call functions on an iterable’s items (map); filter out items based on\n",
    "# a test function (filter); and apply functions to pairs of items and running results\n",
    "# (reduce).\n",
    "\n",
    "# 1. Mapping Functions over Iterables: map\n",
    "\n",
    "counters = [3,4,5,6]\n",
    "updated = []\n",
    "\n",
    "for x in counters:\n",
    "    updated.append(x + 10)\n",
    "\n",
    "updated \n",
    "# apply an operation to each item and collect the results"
   ]
  },
  {
   "cell_type": "code",
   "execution_count": 71,
   "id": "b226327c",
   "metadata": {},
   "outputs": [
    {
     "data": {
      "text/plain": [
       "[13, 14, 15, 16]"
      ]
     },
     "execution_count": 71,
     "metadata": {},
     "output_type": "execute_result"
    }
   ],
   "source": [
    "def inc(x): return x + 10     # Function to be run           \n",
    "list(map(inc, counters))      # Collect results"
   ]
  },
  {
   "cell_type": "code",
   "execution_count": null,
   "id": "fb614f4b",
   "metadata": {},
   "outputs": [],
   "source": [
    "list(map((lambda x: x + 3), counters)) # Function expression\n",
    "\n",
    "def mymap(func, seq):\n",
    "    res = []\n",
    "    for x in seq: res.append(func(x))\n",
    "    return res"
   ]
  },
  {
   "cell_type": "code",
   "execution_count": 79,
   "id": "b61db4ad",
   "metadata": {},
   "outputs": [
    {
     "data": {
      "text/plain": [
       "[11, 12, 13, 14]"
      ]
     },
     "execution_count": 79,
     "metadata": {},
     "output_type": "execute_result"
    }
   ],
   "source": [
    "# map can be used in more advanced ways\n",
    "pow(3, 4)  # 3**4\n",
    "\n",
    "list(map(pow, [1, 2, 3], [2, 3, 4]))  # 1**2, 2**3, 3**4\n",
    "# With multiple sequences, map expects an N-argument function for N sequences.\n",
    "\n",
    "# list(map(inc, [1, 2, 3, 4]))\n",
    "[inc(x) for x in [1, 2, 3, 4]] "
   ]
  },
  {
   "cell_type": "code",
   "execution_count": 84,
   "id": "12e0d1c9",
   "metadata": {},
   "outputs": [
    {
     "data": {
      "text/plain": [
       "[1, 2, 3, 4]"
      ]
     },
     "execution_count": 84,
     "metadata": {},
     "output_type": "execute_result"
    }
   ],
   "source": [
    "# Selecting Items in Iterables: filter\n",
    "\n",
    "list(range(-5, 5))                                   \n",
    "# [−5, −4, −3, −2, −1, 0, 1, 2, 3, 4]\n",
    "\n",
    "list(filter((lambda x: x > 0), range(-5, 5))) \n",
    "\n",
    "# Equivalent to:\n",
    "res = []\n",
    "for x in range(-5, 5):\n",
    "    if x > 0:\n",
    "        res.append(x)\n",
    "res\n",
    "\n",
    "# Also like map, filter can be emulated by list comprehension \n",
    "[x for x in range(-5, 5) if x > 0]   \n",
    "\n"
   ]
  },
  {
   "cell_type": "code",
   "execution_count": 89,
   "id": "78ad1096",
   "metadata": {},
   "outputs": [
    {
     "data": {
      "text/plain": [
       "10"
      ]
     },
     "execution_count": 89,
     "metadata": {},
     "output_type": "execute_result"
    }
   ],
   "source": [
    "# Combining Items in Iterables: reduce\n",
    "\n",
    "# it lives in the functools module in 3.X. It accepts an iterable to process, but it’s not\n",
    "# an iterable itself—it returns a single result.\n",
    "\n",
    "from functools import reduce                         \n",
    "a = reduce((lambda x, y: x + y), [1, 2, 3, 4])\n",
    "m = reduce((lambda x, y: x * y), [1, 2, 3, 4])\n",
    "a, m\n",
    "\n",
    "# Equivalent to:\n",
    "\n",
    "L = [1,2,3,4]\n",
    "res = L[0]\n",
    "for x in L[1:]:\n",
    "    res = res + x\n",
    "\n",
    "res"
   ]
  },
  {
   "cell_type": "code",
   "execution_count": 91,
   "id": "47627326",
   "metadata": {},
   "outputs": [
    {
     "data": {
      "text/plain": [
       "120"
      ]
     },
     "execution_count": 91,
     "metadata": {},
     "output_type": "execute_result"
    }
   ],
   "source": [
    "def myreduce(function, sequence):\n",
    "    tally = sequence[0]\n",
    "    for next in sequence[1:]:\n",
    "        tally = function(tally, next)\n",
    "    return tally\n",
    "myreduce((lambda x, y: x + y), [1, 2, 3, 4, 5])\n",
    "myreduce((lambda x, y: x * y), [1, 2, 3, 4, 5])"
   ]
  },
  {
   "cell_type": "code",
   "execution_count": 93,
   "id": "b3bd68d6",
   "metadata": {},
   "outputs": [
    {
     "data": {
      "text/plain": [
       "12"
      ]
     },
     "execution_count": 93,
     "metadata": {},
     "output_type": "execute_result"
    }
   ],
   "source": [
    "import operator, functools\n",
    "functools.reduce(operator.add, [2, 4, 6])   # Function-based +\n",
    "functools.reduce((lambda x, y: x + y), [2, 4, 6])\n",
    "\n",
    "\n",
    "# map passes each item to the function and\n",
    "#  collects all results, filter collects items for which the function returns a True value,\n",
    "#  and reduce computes a single value by applying the function to an accumulator and \n",
    "# successive items."
   ]
  },
  {
   "cell_type": "code",
   "execution_count": null,
   "id": "cf2e579d",
   "metadata": {},
   "outputs": [],
   "source": [
    "# LIST COMPRESSION\n",
    "\n",
    "\n",
    "# [ expression for target1 in iterable1 if condition1\n",
    "#              for target2 in iterable2 if condition2 \n",
    "#              ...\n",
    "#              for targetN in iterableN if conditionN ]\n",
    "\n",
    "\n",
    "[x for x in range(5) if x % 2 == 0]\n",
    "list(filter((lambda x: x % 2 == 0), range(5)))\n",
    "res = []\n",
    "for x in range(5):\n",
    "    if x % 2 == 0:\n",
    "        res.append(x)"
   ]
  },
  {
   "cell_type": "code",
   "execution_count": 96,
   "id": "3d10b479",
   "metadata": {},
   "outputs": [
    {
     "data": {
      "text/plain": [
       "[0, 4, 16, 36, 64]"
      ]
     },
     "execution_count": 96,
     "metadata": {},
     "output_type": "execute_result"
    }
   ],
   "source": [
    "list( map((lambda x: x**2), filter((lambda x: x % 2 == 0), range(10))) )"
   ]
  },
  {
   "cell_type": "code",
   "execution_count": 99,
   "id": "6a3e19ce",
   "metadata": {},
   "outputs": [
    {
     "data": {
      "text/plain": [
       "['sP', 'sA', 'mP', 'mA']"
      ]
     },
     "execution_count": 99,
     "metadata": {},
     "output_type": "execute_result"
    }
   ],
   "source": [
    "res = [x + y for x in [0, 1, 2] for y in [100, 200, 300]]\n",
    "res\n",
    "\n",
    "# more verbose equivalent:\n",
    "\n",
    "res = []\n",
    "for x in [0, 1, 2]:\n",
    "    for y in [100, 200, 300]:\n",
    "        res.append(x + y)\n",
    "\n",
    "\n",
    "[x + y for x in 'spam' if x in 'sm' for y in 'SPAM' if y in ('P', 'A')]"
   ]
  },
  {
   "cell_type": "code",
   "execution_count": 102,
   "id": "1a62160e",
   "metadata": {},
   "outputs": [
    {
     "data": {
      "text/plain": [
       "[(0, 1), (0, 3), (2, 1), (2, 3), (4, 1), (4, 3)]"
      ]
     },
     "execution_count": 102,
     "metadata": {},
     "output_type": "execute_result"
    }
   ],
   "source": [
    "[x + y + z for x in 'spam' if x in 'sm'\n",
    " for y in 'SPAM' if y in ('P', 'A')\n",
    " for z in '123'  if z > '1']\n",
    "\n",
    "[(x, y) for x in range(5) if x % 2 == 0 for y in range(5) if y % 2 == 1]"
   ]
  },
  {
   "cell_type": "code",
   "execution_count": 105,
   "id": "f8b77702",
   "metadata": {},
   "outputs": [
    {
     "data": {
      "text/plain": [
       "[(0, 1), (0, 3), (2, 1), (2, 3), (4, 1), (4, 3)]"
      ]
     },
     "execution_count": 105,
     "metadata": {},
     "output_type": "execute_result"
    }
   ],
   "source": [
    "res = []\n",
    "for x in range(5):\n",
    "    if x % 2 == 0:\n",
    "        for y in range(5):\n",
    "            if y % 2 == 1:\n",
    "                res.append((x, y))\n",
    "\n",
    "res"
   ]
  },
  {
   "cell_type": "code",
   "execution_count": 117,
   "id": "e94df4aa",
   "metadata": {},
   "outputs": [
    {
     "data": {
      "text/plain": [
       "([4, 5, 6], 6)"
      ]
     },
     "execution_count": 117,
     "metadata": {},
     "output_type": "execute_result"
    }
   ],
   "source": [
    "#  Zen masters, ex–Lisp programmers, and the criminally insane\n",
    "\n",
    "# List Comprehensions and Matrixes\n",
    "\n",
    "M = [[1, 2, 3],\n",
    "    [4, 5, 6],\n",
    "    [7, 8, 9]]\n",
    "\n",
    "\n",
    "N = [[2, 2, 2],\n",
    "    [3, 3, 3],\n",
    "    [4, 4, 4]]\n",
    "\n",
    "M[1], M[1][2]\n",
    "# len(M)"
   ]
  },
  {
   "cell_type": "code",
   "execution_count": 118,
   "id": "f1c8aff7",
   "metadata": {},
   "outputs": [
    {
     "data": {
      "text/plain": [
       "[2, 5, 8]"
      ]
     },
     "execution_count": 118,
     "metadata": {},
     "output_type": "execute_result"
    }
   ],
   "source": [
    "[row[1] for row in M]   # Column 2        \n",
    "           \n",
    "[M[row][1] for row in (0, 1, 2)]   # Using offsets         \n"
   ]
  },
  {
   "cell_type": "code",
   "execution_count": 123,
   "id": "47c58324",
   "metadata": {},
   "outputs": [
    {
     "data": {
      "text/plain": [
       "[[11, 12, 13], [14, 15, 16]]"
      ]
     },
     "execution_count": 123,
     "metadata": {},
     "output_type": "execute_result"
    }
   ],
   "source": [
    "[M[i][i] for i in range(len(M))]  # Diagonals        \n",
    "[M[i][len(M)-1-i] for i in range(len(M))] \n",
    "\n",
    "\n",
    "\n",
    "L = [[1, 2, 3], [4, 5, 6]]\n",
    "for i in range(len(L)):\n",
    "    for j in range(len(L[i])):                 \n",
    "        L[i][j] += 10\n",
    "L"
   ]
  },
  {
   "cell_type": "markdown",
   "id": "885b5e5b",
   "metadata": {},
   "source": [
    "##### Generator Functions and Expressions"
   ]
  },
  {
   "cell_type": "code",
   "execution_count": 124,
   "id": "ccae79db",
   "metadata": {},
   "outputs": [],
   "source": [
    "def gensquares(N):\n",
    "    for i in range(N):\n",
    "        yield i ** 2      # Resume here later\n",
    "\n",
    "\n",
    "# This function yields a value, and so returns to its caller, each time through the loop;\n",
    "# when it is resumed, its prior state is restored, including the last values of its variables\n",
    "# i and N, and control picks up again immediately after the yield statement."
   ]
  },
  {
   "cell_type": "code",
   "execution_count": 127,
   "id": "6920b7ba",
   "metadata": {},
   "outputs": [
    {
     "name": "stdout",
     "output_type": "stream",
     "text": [
      "0 : 1 : 4 : 9 : 16 : "
     ]
    }
   ],
   "source": [
    "for i in gensquares(5):\n",
    "    print(i, end=\" : \")"
   ]
  },
  {
   "cell_type": "code",
   "execution_count": 134,
   "id": "4488882e",
   "metadata": {},
   "outputs": [
    {
     "name": "stdout",
     "output_type": "stream",
     "text": [
      "0 : 1 : 4 : 9 : 16 : 0 : 1 : 4 : 9 : 16 : 0 : 1 : 4 : 9 : 16 : "
     ]
    }
   ],
   "source": [
    "# GENERATOR EQUIVALENT\n",
    "\n",
    "def buildsquares(n):\n",
    "    res = []\n",
    "    for i in range(n): \n",
    "       res.append(i ** 2)\n",
    "    return res\n",
    "    \n",
    "for x in buildsquares(5): \n",
    "    print(x, end=' : ')\n",
    "\n",
    "\n",
    "for x in [n ** 2 for n in range(5)]:\n",
    "    print(x, end=' : ')\n",
    "\n",
    "for x in map((lambda n: n ** 2), range(5)):\n",
    "    print(x, end=' : ')"
   ]
  },
  {
   "cell_type": "code",
   "execution_count": 12,
   "id": "0517ae86",
   "metadata": {},
   "outputs": [
    {
     "data": {
      "text/plain": [
       "10.0"
      ]
     },
     "execution_count": 12,
     "metadata": {},
     "output_type": "execute_result"
    }
   ],
   "source": [
    "# (1==2) or (1==1)  # This is a test to ensure the code runs without errors\n",
    "# a = True\n",
    "# b = False\n",
    "# if a or b:\n",
    "#     print(\"Tr\")\n",
    "\n",
    "# a = [\"one\", \"two\", \"three\"]\n",
    "# a.remove(\"two\")  # This will remove \"two\" from the list\n",
    "# print(a)  # Output the modified list\n",
    "\n",
    "20/2.0"
   ]
  },
  {
   "cell_type": "code",
   "execution_count": 13,
   "id": "68e05317",
   "metadata": {},
   "outputs": [
    {
     "data": {
      "text/plain": [
       "<generator object <genexpr> at 0x000002DE365C6810>"
      ]
     },
     "execution_count": 13,
     "metadata": {},
     "output_type": "execute_result"
    }
   ],
   "source": [
    "# Generator Expressions: Iterables Meet Comprehensions\n",
    "\n",
    "# Syntactically, generator expressions are just like normal list comprehensions, and support \n",
    "# all their syntax —including if filters and loop nesting—but they are enclosed in parentheses \n",
    "# instead of square brackets (like tuples, their enclosing parentheses are often optional)\n",
    "[x ** 2 for x in range(4)] # List comprehension: build a list\n",
    "(x ** 2 for x in range(4)) # Generator expression: make an iterable "
   ]
  },
  {
   "cell_type": "code",
   "execution_count": 20,
   "id": "4e019cd5",
   "metadata": {},
   "outputs": [
    {
     "data": {
      "text/plain": [
       "1"
      ]
     },
     "execution_count": 20,
     "metadata": {},
     "output_type": "execute_result"
    }
   ],
   "source": [
    "G = (x ** 2 for x in range(4))\n",
    "iter(G) is G                           # iter(G) optional: __iter__ returns self\n",
    "next(G) \n",
    "next(G)  # Get next item, raises StopIteration when done, "
   ]
  },
  {
   "cell_type": "code",
   "execution_count": 23,
   "id": "b82981d5",
   "metadata": {},
   "outputs": [
    {
     "data": {
      "text/plain": [
       "('aaa\\n', 'ccc\\n')"
      ]
     },
     "execution_count": 23,
     "metadata": {},
     "output_type": "execute_result"
    }
   ],
   "source": [
    "''.join(x.upper() for x in 'aaa,bbb,ccc'.split(','))\n",
    "a, b, c = (x + '\\n' for x in 'aaa,bbb,ccc'.split(','))\n",
    "a, c"
   ]
  },
  {
   "cell_type": "code",
   "execution_count": 25,
   "id": "d420286a",
   "metadata": {},
   "outputs": [
    {
     "data": {
      "text/plain": [
       "[9, 4, 1, 0]"
      ]
     },
     "execution_count": 25,
     "metadata": {},
     "output_type": "execute_result"
    }
   ],
   "source": [
    "sum(x ** 2 for x in range(4))                           \n",
    "sorted(x ** 2 for x in range(4))                        \n",
    "sorted((x ** 2 for x in range(4)), reverse=True)        \n"
   ]
  },
  {
   "cell_type": "code",
   "execution_count": 26,
   "id": "7600a8da",
   "metadata": {},
   "outputs": [
    {
     "data": {
      "text/plain": [
       "'AABBB'"
      ]
     },
     "execution_count": 26,
     "metadata": {},
     "output_type": "execute_result"
    }
   ],
   "source": [
    "line = 'aa bbb c'\n",
    "''.join(x.upper() for x in line.split() if len(x) > 1)"
   ]
  }
 ],
 "metadata": {
  "kernelspec": {
   "display_name": "base",
   "language": "python",
   "name": "python3"
  },
  "language_info": {
   "codemirror_mode": {
    "name": "ipython",
    "version": 3
   },
   "file_extension": ".py",
   "mimetype": "text/x-python",
   "name": "python",
   "nbconvert_exporter": "python",
   "pygments_lexer": "ipython3",
   "version": "3.13.5"
  }
 },
 "nbformat": 4,
 "nbformat_minor": 5
}
