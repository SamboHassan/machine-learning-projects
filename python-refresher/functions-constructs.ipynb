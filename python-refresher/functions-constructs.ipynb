{
 "cells": [
  {
   "cell_type": "code",
   "execution_count": 5,
   "metadata": {},
   "outputs": [
    {
     "data": {
      "text/plain": [
       "[1]"
      ]
     },
     "execution_count": 5,
     "metadata": {},
     "output_type": "execute_result"
    }
   ],
   "source": [
    "def intersect(seq1, seq2):\n",
    "    res = [] # Start empty\n",
    "    for x in seq1: # Scan seq1\n",
    "        if x in seq2: # Common item?\n",
    "            res.append(x) # Add to end\n",
    "    return res\n",
    "\n",
    "x = intersect([1, 2, 3], (1, 4)) # Mixed types\n",
    "# Saved result object\n",
    "x"
   ]
  }
 ],
 "metadata": {
  "kernelspec": {
   "display_name": "base",
   "language": "python",
   "name": "python3"
  },
  "language_info": {
   "codemirror_mode": {
    "name": "ipython",
    "version": 3
   },
   "file_extension": ".py",
   "mimetype": "text/x-python",
   "name": "python",
   "nbconvert_exporter": "python",
   "pygments_lexer": "ipython3",
   "version": "3.12.4"
  }
 },
 "nbformat": 4,
 "nbformat_minor": 2
}
