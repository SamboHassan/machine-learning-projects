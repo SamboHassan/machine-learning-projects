{
 "cells": [
  {
   "cell_type": "code",
   "execution_count": 1,
   "metadata": {},
   "outputs": [
    {
     "name": "stdout",
     "output_type": "stream",
     "text": [
      "x is falsy\n",
      "True\n"
     ]
    }
   ],
   "source": [
    "x = False\n",
    "y =  True \n",
    "\n",
    "while x:\n",
    "    print(\"x is truty\")\n",
    "else:\n",
    "    print(\"x is falsy\") \n",
    "\n",
    "print(bool(y))"
   ]
  },
  {
   "cell_type": "code",
   "execution_count": 2,
   "metadata": {},
   "outputs": [
    {
     "name": "stdout",
     "output_type": "stream",
     "text": [
      "0,1,2,3,4,5,6,7,8,9,"
     ]
    }
   ],
   "source": [
    "a = 0; b=10;\n",
    "\n",
    "while a<b:\n",
    "    print(a, end=',')\n",
    "    a+=1\n",
    "    "
   ]
  },
  {
   "cell_type": "code",
   "execution_count": 3,
   "metadata": {},
   "outputs": [
    {
     "name": "stdout",
     "output_type": "stream",
     "text": [
      "spam\n",
      "pam\n",
      "am\n",
      "m\n"
     ]
    }
   ],
   "source": [
    "x = 'spam'\n",
    "\n",
    "while x:\n",
    "    print(x)\n",
    "    x = x[1:]"
   ]
  },
  {
   "cell_type": "code",
   "execution_count": null,
   "metadata": {},
   "outputs": [],
   "source": [
    "# The break statement causes an immediate exit from a loop. \n",
    "# Because the code that follows it in the loop is not executed if the \n",
    "# break is reached, you can also sometimes avoid nesting by including a break.\n",
    "\n",
    "while False:\n",
    "    name = input(\"Enter name: \")\n",
    "    if name == \"stop\": break \n",
    "    age = input(\"Enter age\")\n",
    "    print(\"Hello\", name, int(age) * 2)"
   ]
  },
  {
   "cell_type": "code",
   "execution_count": 7,
   "metadata": {},
   "outputs": [
    {
     "name": "stdout",
     "output_type": "stream",
     "text": [
      "8 6 4 2 0 "
     ]
    }
   ],
   "source": [
    "# This example uses continue to skip odd numbers. \n",
    "# The code prints all even numbers less than 10 and greater than or equal to\n",
    "0.\n",
    "x = 10\n",
    "while x:\n",
    "    x-=1\n",
    "    if x%2 != 0: continue\n",
    "    print(x, end=\" \")"
   ]
  },
  {
   "cell_type": "code",
   "execution_count": 11,
   "metadata": {},
   "outputs": [
    {
     "name": "stdout",
     "output_type": "stream",
     "text": [
      "8 6 4 2 0 "
     ]
    }
   ],
   "source": [
    "x = 10\n",
    "while x:\n",
    " x = x-1\n",
    " if x % 2 == 0: # Even? -- print\n",
    "    print(x, end=' ')\n"
   ]
  },
  {
   "cell_type": "code",
   "execution_count": 16,
   "metadata": {},
   "outputs": [
    {
     "name": "stdout",
     "output_type": "stream",
     "text": [
      "7 is prime\n"
     ]
    }
   ],
   "source": [
    "# Loop else\n",
    "# When combined with the loop else clause, the break statement can often eliminate the\n",
    "# need for the search status flags used in other languages.\n",
    "\n",
    "# The following piece of code determines whether a positive integer y is prime \n",
    "# by searching for factors greater than 1:\n",
    "\n",
    "y = 7\n",
    "x = y // 2                          # For some y > 1\n",
    "while x > 1:\n",
    "    if y % x == 0:                  # Remainder\n",
    "        print(y, 'has factor', x)\n",
    "        break                       # Skip else\n",
    "    x -= 1\n",
    "else:                               # Normal exit\n",
    "    print(y, 'is prime')\n"
   ]
  },
  {
   "cell_type": "code",
   "execution_count": 20,
   "metadata": {},
   "outputs": [],
   "source": [
    "# I’ve met some who didn’t even know there was an\n",
    "# else on loops!). In general terms, the loop else simply provides explicit syntax for a\n",
    "# common coding scenario—it is a coding structure that lets us catch the “other” way\n",
    "# out of a loop, without setting and checking flags or conditions.\n",
    "\n",
    "def match():\n",
    "    pass\n",
    "\n",
    "# found = False\n",
    "# while x and not found:\n",
    "    # if match(x[0]):       # Value at front?\n",
    "        # print('Ni')\n",
    "        # found = True\n",
    "    # else:\n",
    "            # x = x[1:]     # Slice off front and repeat\n",
    "# if not found:\n",
    "#  print('not found')\n"
   ]
  },
  {
   "cell_type": "code",
   "execution_count": null,
   "metadata": {},
   "outputs": [],
   "source": [
    "# this is exactly the sort of structure that the loop else clause is there to handle. \n",
    "# Here’s an else equivalent:\n",
    "\n",
    "while x:            # Exit when x empty\n",
    "    if match(x[0]):\n",
    "        print('Ni')\n",
    "        break # Exit, go around else\n",
    "    x = x[1:]\n",
    "else:\n",
    "    print('Not found') # Only here if exhausted x\n"
   ]
  },
  {
   "cell_type": "raw",
   "metadata": {
    "vscode": {
     "languageId": "raw"
    }
   },
   "source": [
    "# That means this common C language coding pattern won’t work in Python:\n",
    "# while ((x = next(obj)) != NULL) {...process x...}\n",
    "\n",
    "# This eliminates a notorious class of C errors: you can’t accidentally type = in Python \n",
    "# when you mean ==. If you need similar behavior, though, there are at least three ways \n",
    "# to get the same effect in Python while loops without embedding assignments in loop tests.\n",
    "#  \n",
    "# 1. You can move the assignment into the loop body with a break:\n",
    "while True:\n",
    "    x = next(obj)\n",
    "    if not x: break\n",
    "        # ...process x...\n",
    "\n",
    "# 2. or move the assignment into the loop with tests:\n",
    "x = True\n",
    "while x:\n",
    "    x = next(obj)\n",
    "    if x:\n",
    "        # ...process x...\n",
    "\n",
    "# 3. or move the first assignment outside the loop:\n",
    "x = next(obj)\n",
    "while x:\n",
    "    ...process x...\n",
    "    x = next(obj)\n",
    "\n",
    "# The first is the most commonly used"
   ]
  },
  {
   "cell_type": "raw",
   "metadata": {
    "vscode": {
     "languageId": "raw"
    }
   },
   "source": [
    "for Loops\n",
    "The for loop is a generic iterator in Python: it can step through the items in any ordered\n",
    "sequence or other iterable object.\n",
    "\n",
    "General Format\n",
    "\n",
    "for target in object:       # Assign object items to target\n",
    "    statements              # Repeated loop body: use target\n",
    "else:                       # Optional else part\n",
    "    statements              # If we didn't hit a 'break'"
   ]
  },
  {
   "cell_type": "code",
   "execution_count": 23,
   "metadata": {},
   "outputs": [
    {
     "name": "stdout",
     "output_type": "stream",
     "text": [
      "24\n"
     ]
    }
   ],
   "source": [
    "# When Python runs a for loop, it assigns the items in the iterable object to the target\n",
    "# one by one and executes the loop body for each. \n",
    "\n",
    "# After the loop this variable normally still refers to the last item visited, which \n",
    "# is the last # item in the sequence unless the loop exits with a break statement.\n",
    "\n",
    "\n",
    "prod = 1\n",
    "for item in [1, 2, 3, 4]: \n",
    "    prod *= item\n",
    "\n",
    "print(prod)"
   ]
  },
  {
   "cell_type": "code",
   "execution_count": 26,
   "metadata": {},
   "outputs": [
    {
     "name": "stdout",
     "output_type": "stream",
     "text": [
      "1 2 3\n",
      "1 2\n",
      "3 4\n",
      "5 6\n"
     ]
    }
   ],
   "source": [
    "# Tuple assignment in for loops\n",
    "\n",
    "((a, b), c) = ((1, 2), 3) \n",
    "print(a,b,c)\n",
    "\n",
    "T = [(1, 2), (3, 4), (5, 6)]\n",
    "for (a, b) in T:                # Tuple assignment at work\n",
    "    print(a, b)"
   ]
  },
  {
   "cell_type": "code",
   "execution_count": 28,
   "metadata": {},
   "outputs": [
    {
     "name": "stdout",
     "output_type": "stream",
     "text": [
      "1 2 3\n",
      "4 5 6\n"
     ]
    }
   ],
   "source": [
    "for ((a, b), c) in [((1, 2), 3), ((4, 5), 6)]: \n",
    "    print(a, b, c)\n"
   ]
  },
  {
   "cell_type": "code",
   "execution_count": 35,
   "metadata": {},
   "outputs": [
    {
     "name": "stdout",
     "output_type": "stream",
     "text": [
      "1 2 3\n",
      "4 5 6\n"
     ]
    }
   ],
   "source": [
    "a, b, c = (1, 2, 3)                     # Tuple assignment\n",
    "\n",
    "for (a, b, c) in [(1, 2, 3), (4, 5, 6)]: # Used in for loop\n",
    "    print(a, b, c)"
   ]
  },
  {
   "cell_type": "code",
   "execution_count": null,
   "metadata": {},
   "outputs": [
    {
     "name": "stdout",
     "output_type": "stream",
     "text": [
      "1 2 3\n",
      "4 5 6\n",
      "1 2 3\n",
      "X Y 6\n"
     ]
    }
   ],
   "source": [
    "for ((a, b), c) in [((1, 2), 3), ((4, 5), 6)]: print(a, b, c)\n",
    "\n",
    "for ((a, b), c) in [([1, 2], 3), ['XY', 6]]: print(a, b, c)\n",
    "\n",
    "for (a, *b, c) in [(1, 2, 3, 4), (5, 6, 7, 8)]:\n",
    "    print(a, b, c)\n"
   ]
  },
  {
   "cell_type": "code",
   "execution_count": 30,
   "metadata": {},
   "outputs": [
    {
     "name": "stdout",
     "output_type": "stream",
     "text": [
      "1 [2, 3] 4\n",
      "5 [6, 7] 8\n"
     ]
    }
   ],
   "source": [
    "a, *b, c = (1, 2, 3, 4)        \n",
    "\n",
    "for (a, *b, c) in [(1, 2, 3, 4), (5, 6, 7, 8)]:     # Extended seq assignment\n",
    "    print(a, b, c)\n",
    "             "
   ]
  },
  {
   "cell_type": "code",
   "execution_count": 33,
   "metadata": {},
   "outputs": [
    {
     "name": "stdout",
     "output_type": "stream",
     "text": [
      "(4, 5) was found\n",
      "3.14 not found!\n"
     ]
    }
   ],
   "source": [
    "# Nested for loops\n",
    "\n",
    "items = [\"aaa\", 111, (4, 5), 2.01]  # A set of objects\n",
    "tests = [(4, 5), 3.14]              # Keys to search for\n",
    "for key in tests:                   # For all keys\n",
    "    for item in items:              # For all items\n",
    "        if item == key:             # Check for match\n",
    "            print(key, \"was found\")\n",
    "            break\n",
    "    else:\n",
    "        print(key, \"not found!\")"
   ]
  },
  {
   "cell_type": "code",
   "execution_count": 34,
   "metadata": {},
   "outputs": [
    {
     "name": "stdout",
     "output_type": "stream",
     "text": [
      "(4, 5) was found\n",
      "3.14 not found!\n"
     ]
    }
   ],
   "source": [
    "for key in tests:           # For all keys\n",
    "    if key in items:        # Let Python check for a match\n",
    "        print(key, \"was found\")\n",
    "    else:\n",
    "        print(key, \"not found!\")\n",
    "\n",
    "# In general, it’s a good idea to let Python do as much of the work as possible (as in this\n",
    "# solution) for the sake of brevity and performance."
   ]
  },
  {
   "cell_type": "code",
   "execution_count": null,
   "metadata": {},
   "outputs": [],
   "source": [
    "seq1 = \"spam\"\n",
    "seq2 = \"scam\"\n",
    "res = [] # Start empty\n",
    "for x in seq1: # Scan first sequence\n",
    "    if x in seq2: # Common item?\n",
    "        res.append(x) # Add to result end\n",
    "\n",
    "\n",
    "[x for x in seq1 if x in seq2] # Let Python collect results\n",
    "\n",
    "# This code also exhibits the classic list comprehension pattern—collecting a results list\n",
    "# with an iteration and optional filter test"
   ]
  }
 ],
 "metadata": {
  "kernelspec": {
   "display_name": "base",
   "language": "python",
   "name": "python3"
  },
  "language_info": {
   "codemirror_mode": {
    "name": "ipython",
    "version": 3
   },
   "file_extension": ".py",
   "mimetype": "text/x-python",
   "name": "python",
   "nbconvert_exporter": "python",
   "pygments_lexer": "ipython3",
   "version": "3.12.4"
  }
 },
 "nbformat": 4,
 "nbformat_minor": 2
}
