{
 "cells": [
  {
   "cell_type": "code",
   "execution_count": 1,
   "metadata": {},
   "outputs": [
    {
     "name": "stdout",
     "output_type": "stream",
     "text": [
      "x is falsy\n",
      "True\n"
     ]
    }
   ],
   "source": [
    "x = False\n",
    "y =  True \n",
    "\n",
    "while x:\n",
    "    print(\"x is truty\")\n",
    "else:\n",
    "    print(\"x is falsy\") \n",
    "\n",
    "print(bool(y))"
   ]
  },
  {
   "cell_type": "code",
   "execution_count": 2,
   "metadata": {},
   "outputs": [
    {
     "name": "stdout",
     "output_type": "stream",
     "text": [
      "0,1,2,3,4,5,6,7,8,9,"
     ]
    }
   ],
   "source": [
    "a = 0; b=10;\n",
    "\n",
    "while a<b:\n",
    "    print(a, end=',')\n",
    "    a+=1\n",
    "    "
   ]
  },
  {
   "cell_type": "code",
   "execution_count": 3,
   "metadata": {},
   "outputs": [
    {
     "name": "stdout",
     "output_type": "stream",
     "text": [
      "spam\n",
      "pam\n",
      "am\n",
      "m\n"
     ]
    }
   ],
   "source": [
    "x = 'spam'\n",
    "\n",
    "while x:\n",
    "    print(x)\n",
    "    x = x[1:]"
   ]
  },
  {
   "cell_type": "code",
   "execution_count": null,
   "metadata": {},
   "outputs": [],
   "source": [
    "# The break statement causes an immediate exit from a loop. \n",
    "# Because the code that follows it in the loop is not executed if the \n",
    "# break is reached, you can also sometimes avoid nesting by including a break.\n",
    "\n",
    "while False:\n",
    "    name = input(\"Enter name: \")\n",
    "    if name == \"stop\": break \n",
    "    age = input(\"Enter age\")\n",
    "    print(\"Hello\", name, int(age) * 2)"
   ]
  },
  {
   "cell_type": "code",
   "execution_count": 7,
   "metadata": {},
   "outputs": [
    {
     "name": "stdout",
     "output_type": "stream",
     "text": [
      "8 6 4 2 0 "
     ]
    }
   ],
   "source": [
    "# This example uses continue to skip odd numbers. \n",
    "# The code prints all even numbers less than 10 and greater than or equal to\n",
    "0.\n",
    "x = 10\n",
    "while x:\n",
    "    x-=1\n",
    "    if x%2 != 0: continue\n",
    "    print(x, end=\" \")"
   ]
  },
  {
   "cell_type": "code",
   "execution_count": 11,
   "metadata": {},
   "outputs": [
    {
     "name": "stdout",
     "output_type": "stream",
     "text": [
      "8 6 4 2 0 "
     ]
    }
   ],
   "source": [
    "x = 10\n",
    "while x:\n",
    " x = x-1\n",
    " if x % 2 == 0: # Even? -- print\n",
    "    print(x, end=' ')\n"
   ]
  },
  {
   "cell_type": "code",
   "execution_count": 16,
   "metadata": {},
   "outputs": [
    {
     "name": "stdout",
     "output_type": "stream",
     "text": [
      "7 is prime\n"
     ]
    }
   ],
   "source": [
    "# Loop else\n",
    "# When combined with the loop else clause, the break statement can often eliminate the\n",
    "# need for the search status flags used in other languages.\n",
    "\n",
    "# The following piece of code determines whether a positive integer y is prime \n",
    "# by searching for factors greater than 1:\n",
    "\n",
    "y = 7\n",
    "x = y // 2                          # For some y > 1\n",
    "while x > 1:\n",
    "    if y % x == 0:                  # Remainder\n",
    "        print(y, 'has factor', x)\n",
    "        break                       # Skip else\n",
    "    x -= 1\n",
    "else:                               # Normal exit\n",
    "    print(y, 'is prime')\n"
   ]
  },
  {
   "cell_type": "code",
   "execution_count": 20,
   "metadata": {},
   "outputs": [],
   "source": [
    "# I’ve met some who didn’t even know there was an\n",
    "# else on loops!). In general terms, the loop else simply provides explicit syntax for a\n",
    "# common coding scenario—it is a coding structure that lets us catch the “other” way\n",
    "# out of a loop, without setting and checking flags or conditions.\n",
    "\n",
    "def match():\n",
    "    pass\n",
    "\n",
    "# found = False\n",
    "# while x and not found:\n",
    "    # if match(x[0]):       # Value at front?\n",
    "        # print('Ni')\n",
    "        # found = True\n",
    "    # else:\n",
    "            # x = x[1:]     # Slice off front and repeat\n",
    "# if not found:\n",
    "#  print('not found')\n"
   ]
  },
  {
   "cell_type": "code",
   "execution_count": null,
   "metadata": {},
   "outputs": [],
   "source": [
    "# this is exactly the sort of structure that the loop else clause is there to handle. \n",
    "# Here’s an else equivalent:\n",
    "\n",
    "while x:            # Exit when x empty\n",
    "    if match(x[0]):\n",
    "        print('Ni')\n",
    "        break # Exit, go around else\n",
    "    x = x[1:]\n",
    "else:\n",
    "    print('Not found') # Only here if exhausted x\n"
   ]
  },
  {
   "cell_type": "raw",
   "metadata": {
    "vscode": {
     "languageId": "raw"
    }
   },
   "source": [
    "# That means this common C language coding pattern won’t work in Python:\n",
    "# while ((x = next(obj)) != NULL) {...process x...}\n",
    "\n",
    "# This eliminates a notorious class of C errors: you can’t accidentally type = in Python \n",
    "# when you mean ==. If you need similar behavior, though, there are at least three ways \n",
    "# to get the same effect in Python while loops without embedding assignments in loop tests.\n",
    "#  \n",
    "# 1. You can move the assignment into the loop body with a break:\n",
    "while True:\n",
    "    x = next(obj)\n",
    "    if not x: break\n",
    "        # ...process x...\n",
    "\n",
    "# 2. or move the assignment into the loop with tests:\n",
    "x = True\n",
    "while x:\n",
    "    x = next(obj)\n",
    "    if x:\n",
    "        # ...process x...\n",
    "\n",
    "# 3. or move the first assignment outside the loop:\n",
    "x = next(obj)\n",
    "while x:\n",
    "    ...process x...\n",
    "    x = next(obj)\n",
    "\n",
    "# The first is the most commonly used"
   ]
  },
  {
   "cell_type": "raw",
   "metadata": {
    "vscode": {
     "languageId": "raw"
    }
   },
   "source": [
    "for Loops\n",
    "The for loop is a generic iterator in Python: it can step through the items in any ordered\n",
    "sequence or other iterable object.\n",
    "\n",
    "General Format\n",
    "\n",
    "for target in object:       # Assign object items to target\n",
    "    statements              # Repeated loop body: use target\n",
    "else:                       # Optional else part\n",
    "    statements              # If we didn't hit a 'break'"
   ]
  },
  {
   "cell_type": "code",
   "execution_count": 23,
   "metadata": {},
   "outputs": [
    {
     "name": "stdout",
     "output_type": "stream",
     "text": [
      "24\n"
     ]
    }
   ],
   "source": [
    "# When Python runs a for loop, it assigns the items in the iterable object to the target\n",
    "# one by one and executes the loop body for each. \n",
    "\n",
    "# After the loop this variable normally still refers to the last item visited, which \n",
    "# is the last # item in the sequence unless the loop exits with a break statement.\n",
    "\n",
    "\n",
    "prod = 1\n",
    "for item in [1, 2, 3, 4]: \n",
    "    prod *= item\n",
    "\n",
    "print(prod)"
   ]
  },
  {
   "cell_type": "code",
   "execution_count": 26,
   "metadata": {},
   "outputs": [
    {
     "name": "stdout",
     "output_type": "stream",
     "text": [
      "1 2 3\n",
      "1 2\n",
      "3 4\n",
      "5 6\n"
     ]
    }
   ],
   "source": [
    "# Tuple assignment in for loops\n",
    "\n",
    "((a, b), c) = ((1, 2), 3) \n",
    "print(a,b,c)\n",
    "\n",
    "T = [(1, 2), (3, 4), (5, 6)]\n",
    "for (a, b) in T:                # Tuple assignment at work\n",
    "    print(a, b)"
   ]
  },
  {
   "cell_type": "code",
   "execution_count": 28,
   "metadata": {},
   "outputs": [
    {
     "name": "stdout",
     "output_type": "stream",
     "text": [
      "1 2 3\n",
      "4 5 6\n"
     ]
    }
   ],
   "source": [
    "for ((a, b), c) in [((1, 2), 3), ((4, 5), 6)]: \n",
    "    print(a, b, c)\n"
   ]
  },
  {
   "cell_type": "code",
   "execution_count": 35,
   "metadata": {},
   "outputs": [
    {
     "name": "stdout",
     "output_type": "stream",
     "text": [
      "1 2 3\n",
      "4 5 6\n"
     ]
    }
   ],
   "source": [
    "a, b, c = (1, 2, 3)                     # Tuple assignment\n",
    "\n",
    "for (a, b, c) in [(1, 2, 3), (4, 5, 6)]: # Used in for loop\n",
    "    print(a, b, c)"
   ]
  },
  {
   "cell_type": "code",
   "execution_count": null,
   "metadata": {},
   "outputs": [
    {
     "name": "stdout",
     "output_type": "stream",
     "text": [
      "1 2 3\n",
      "4 5 6\n",
      "1 2 3\n",
      "X Y 6\n"
     ]
    }
   ],
   "source": [
    "for ((a, b), c) in [((1, 2), 3), ((4, 5), 6)]: print(a, b, c)\n",
    "\n",
    "for ((a, b), c) in [([1, 2], 3), ['XY', 6]]: print(a, b, c)\n",
    "\n",
    "for (a, *b, c) in [(1, 2, 3, 4), (5, 6, 7, 8)]:\n",
    "    print(a, b, c)\n"
   ]
  },
  {
   "cell_type": "code",
   "execution_count": 30,
   "metadata": {},
   "outputs": [
    {
     "name": "stdout",
     "output_type": "stream",
     "text": [
      "1 [2, 3] 4\n",
      "5 [6, 7] 8\n"
     ]
    }
   ],
   "source": [
    "a, *b, c = (1, 2, 3, 4)        \n",
    "\n",
    "for (a, *b, c) in [(1, 2, 3, 4), (5, 6, 7, 8)]:     # Extended seq assignment\n",
    "    print(a, b, c)\n",
    "             "
   ]
  },
  {
   "cell_type": "code",
   "execution_count": 33,
   "metadata": {},
   "outputs": [
    {
     "name": "stdout",
     "output_type": "stream",
     "text": [
      "(4, 5) was found\n",
      "3.14 not found!\n"
     ]
    }
   ],
   "source": [
    "# Nested for loops\n",
    "\n",
    "items = [\"aaa\", 111, (4, 5), 2.01]  # A set of objects\n",
    "tests = [(4, 5), 3.14]              # Keys to search for\n",
    "for key in tests:                   # For all keys\n",
    "    for item in items:              # For all items\n",
    "        if item == key:             # Check for match\n",
    "            print(key, \"was found\")\n",
    "            break\n",
    "    else:\n",
    "        print(key, \"not found!\")"
   ]
  },
  {
   "cell_type": "code",
   "execution_count": 34,
   "metadata": {},
   "outputs": [
    {
     "name": "stdout",
     "output_type": "stream",
     "text": [
      "(4, 5) was found\n",
      "3.14 not found!\n"
     ]
    }
   ],
   "source": [
    "for key in tests:           # For all keys\n",
    "    if key in items:        # Let Python check for a match\n",
    "        print(key, \"was found\")\n",
    "    else:\n",
    "        print(key, \"not found!\")\n",
    "\n",
    "# In general, it’s a good idea to let Python do as much of the work as possible (as in this\n",
    "# solution) for the sake of brevity and performance."
   ]
  },
  {
   "cell_type": "code",
   "execution_count": 1,
   "metadata": {},
   "outputs": [
    {
     "data": {
      "text/plain": [
       "['s', 'a', 'm']"
      ]
     },
     "execution_count": 1,
     "metadata": {},
     "output_type": "execute_result"
    }
   ],
   "source": [
    "seq1 = \"spam\"\n",
    "seq2 = \"scam\"\n",
    "res = [] # Start empty\n",
    "for x in seq1: # Scan first sequence\n",
    "    if x in seq2: # Common item?\n",
    "        res.append(x) # Add to result end\n",
    "\n",
    "\n",
    "[x for x in seq1 if x in seq2] # Let Python collect results\n",
    "\n",
    "# This code also exhibits the classic list comprehension pattern—collecting a results list\n",
    "# with an iteration and optional filter test"
   ]
  },
  {
   "cell_type": "code",
   "execution_count": 4,
   "metadata": {},
   "outputs": [],
   "source": [
    "# for i in range(len(X)): print(X[i], end=' ') # Manual range/len iteration\n",
    "# Not recommended approach\n",
    "\n",
    "# for item in X: print(item, end=' ') # Use simple iteration if you can\n"
   ]
  },
  {
   "cell_type": "code",
   "execution_count": 6,
   "metadata": {},
   "outputs": [],
   "source": [
    "# Exceptional Cases\n",
    "\n",
    "# the range’s integers provide a repeat count in the first, and a position for\n",
    "# slicing in the second:\n",
    "# >>> S = 'spam'\n",
    "# >>> for i in range(len(S)): # For repeat counts 0..3\n",
    "# ... S = S[1:] + S[:1] # Move front item to end\n",
    "# ... print(S, end=' ')\n"
   ]
  },
  {
   "cell_type": "code",
   "execution_count": 7,
   "metadata": {},
   "outputs": [],
   "source": [
    "# >>> L = [1, 2, 3]\n",
    "# >>> for i in range(len(L)):\n",
    "# ... X = L[i:] + L[:i] # Works on any sequence type\n",
    "# ... print(X, end=' ')\n",
    "# ...\n",
    "# [1, 2, 3] [2, 3, 1] [3, 1, 2]\n",
    "\n",
    "\n",
    "# We might also use this technique to skip items as we go:\n",
    "# >>> S = 'abcdefghijk'\n",
    "# >>> list(range(0, len(S), 2))\n",
    "# [0, 2, 4, 6, 8, 10]\n",
    "# >>> for i in range(0, len(S), 2): print(S[i], end=' ')\n",
    "# ...\n",
    "# a c e g i k\n"
   ]
  },
  {
   "cell_type": "code",
   "execution_count": 8,
   "metadata": {},
   "outputs": [],
   "source": [
    "# In most cases, though, this is also probably not the “best practice” technique in Python\n",
    "# today. If you really mean to skip items in a sequence, the extended three-limit form of\n",
    "# the slice expression, presented in Chapter 7, provides a simpler route to the same goal.\n",
    "# To visit every second character in S, for example, slice with a stride of 2:\n",
    "# >>> S = 'abcdefghijk'\n",
    "# >>> for c in S[::2]: print(c, end=' ')\n",
    "# ...\n",
    "# a c e g i k\n"
   ]
  },
  {
   "cell_type": "raw",
   "metadata": {
    "vscode": {
     "languageId": "raw"
    }
   },
   "source": [
    "Another common place where you may use the range/len combination with for is in\n",
    "loops that change a list as it is being traversed. Suppose, for example, that you need to\n",
    "add 1 to every item in a list (maybe you’re giving everyone a raise in an employee\n",
    "database list). You can try this with a simple for loop, but the result probably won’t\n",
    "be exactly what you want:\n",
    ">>> L = [1, 2, 3, 4, 5]\n",
    ">>> for x in L:\n",
    "... x += 1"
   ]
  },
  {
   "cell_type": "raw",
   "metadata": {
    "vscode": {
     "languageId": "raw"
    }
   },
   "source": [
    "To really change the list as we march across it, we need to use indexes so we can assign\n",
    "an updated value to each position as we go. The range/len combination can produce\n",
    "the required indexes for us:\n",
    ">>> L = [1, 2, 3, 4, 5]\n",
    ">>> for i in range(len(L)): # Add one to each item in L\n",
    "... L[i] += 1 # Or L[i] = L[i] + 1\n",
    "...\n",
    ">>> L\n",
    "[2, 3, 4, 5, 6]\n"
   ]
  },
  {
   "cell_type": "code",
   "execution_count": 10,
   "metadata": {},
   "outputs": [
    {
     "name": "stdout",
     "output_type": "stream",
     "text": [
      "1 5 -- 6\n",
      "2 6 -- 8\n",
      "3 7 -- 10\n",
      "4 8 -- 12\n"
     ]
    }
   ],
   "source": [
    "# Parallel Traversals: zip and map\n",
    "L1 = [1,2,3,4]\n",
    "L2 = [5,6,7,8]\n",
    "\n",
    "for (x, y) in zip(L1, L2):\n",
    "    print(x, y, '--', x+y)\n",
    "\n"
   ]
  },
  {
   "cell_type": "code",
   "execution_count": 13,
   "metadata": {},
   "outputs": [
    {
     "data": {
      "text/plain": [
       "<map at 0x27f74a5ad70>"
      ]
     },
     "execution_count": 13,
     "metadata": {},
     "output_type": "execute_result"
    }
   ],
   "source": [
    "T1, T2, T3 = (1,2,3), (4,5,6), (7,8,9)\n",
    "list(zip(T1, T2, T3)) \n",
    "\n",
    "S1 = 'abc'\n",
    "S2 = 'xyz123'\n",
    "list(zip(S1, S2)) # Truncates at len(shortest)\n",
    "# [('a', 'x'), ('b', 'y'), ('c', 'z')]\n",
    "\n",
    "S1 = 'abc'\n",
    "S2 = 'xyz123'\n",
    "map(None, S1, S2) # 2.X only: pads to len(longest)\n",
    "# [('a', 'x'), ('b', 'y'), ('c', 'z'), (None, '1'), (None, '2'), (None,'3')]\n",
    "\n"
   ]
  },
  {
   "cell_type": "code",
   "execution_count": 20,
   "metadata": {},
   "outputs": [
    {
     "data": {
      "text/plain": [
       "[115, 112, 97, 109, 116, 114]"
      ]
     },
     "execution_count": 20,
     "metadata": {},
     "output_type": "execute_result"
    }
   ],
   "source": [
    "# like zip, map is a value generator in 3.X and so must be passed to list to collect all\n",
    "list(map(ord, 'spamtr'))\n",
    "# [115, 112, 97, 109]"
   ]
  },
  {
   "cell_type": "code",
   "execution_count": 25,
   "metadata": {},
   "outputs": [
    {
     "data": {
      "text/plain": [
       "{'spam': 1, 'eggs': 3, 'toast': 5}"
      ]
     },
     "execution_count": 25,
     "metadata": {},
     "output_type": "execute_result"
    }
   ],
   "source": [
    "# Dictionary construction with zip\n",
    "\n",
    "D1 = {}\n",
    "D1['spam'] = 1\n",
    "D1['eggs'] = 3\n",
    "D1['toast'] = 5\n",
    "\n",
    "# D1\n",
    "keys = ['spam', 'eggs', 'toast']\n",
    "vals = [1, 3, 5]\n",
    "D = {}\n",
    "for key, val in zip(keys, vals):\n",
    "    D[key] = val \n",
    "\n",
    "D"
   ]
  },
  {
   "cell_type": "code",
   "execution_count": 27,
   "metadata": {},
   "outputs": [
    {
     "data": {
      "text/plain": [
       "{'spam': 1, 'eggs': 3, 'toast': 5}"
      ]
     },
     "execution_count": 27,
     "metadata": {},
     "output_type": "execute_result"
    }
   ],
   "source": [
    "# you can skip the for loop altogether\n",
    "\n",
    "keys = ['spam', 'eggs', 'toast']\n",
    "vals = [1, 3, 5]\n",
    "D3 = dict(zip(keys, vals))\n",
    "D3"
   ]
  },
  {
   "cell_type": "code",
   "execution_count": 30,
   "metadata": {},
   "outputs": [
    {
     "name": "stdout",
     "output_type": "stream",
     "text": [
      "s appears at offset 0\n",
      "p appears at offset 1\n",
      "a appears at offset 2\n",
      "m appears at offset 3\n"
     ]
    }
   ],
   "source": [
    "# {k: v for (k, v) in zip(keys, vals)}\n",
    "\n",
    "# Using enumerate to get both offsets and Items:\n",
    "S = 'spam'\n",
    "for (offset, item) in enumerate(S):\n",
    "    print(item, 'appears at offset', offset)\n",
    "\n",
    "# [c * i for (i, c) in enumerate(S)]\n",
    "\n",
    "# for (i, l) in enumerate(open('test.txt')):\n",
    "    # print('%s) %s' % (i, l.rstrip()))"
   ]
  }
 ],
 "metadata": {
  "kernelspec": {
   "display_name": "base",
   "language": "python",
   "name": "python3"
  },
  "language_info": {
   "codemirror_mode": {
    "name": "ipython",
    "version": 3
   },
   "file_extension": ".py",
   "mimetype": "text/x-python",
   "name": "python",
   "nbconvert_exporter": "python",
   "pygments_lexer": "ipython3",
   "version": "3.12.4"
  }
 },
 "nbformat": 4,
 "nbformat_minor": 2
}
