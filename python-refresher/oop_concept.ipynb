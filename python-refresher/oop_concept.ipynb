{
 "cells": [
  {
   "cell_type": "code",
   "execution_count": null,
   "id": "fb98d999",
   "metadata": {},
   "outputs": [],
   "source": [
    "class MixedNames:            # Define class  \n",
    "    data = 'spam'               # Assign class attr      \n",
    "\n",
    "    def __init__(self, value):           # Assign instance attr    \n",
    "        self.data = value    \n",
    "\n",
    "    def display(self):\n",
    "        print(self.data, MixedNames.data)     # Instance attr, class attr\n",
    "\n",
    "\n",
    " \n"
   ]
  },
  {
   "cell_type": "code",
   "execution_count": null,
   "id": "35d4db3d",
   "metadata": {},
   "outputs": [],
   "source": [
    "class Super:\n",
    "    def __init__(self, x):\n",
    "        pass \n",
    "\n",
    "\n",
    "class Sub(Super): \n",
    "    def __init__(self, x, y):\n",
    "        Super.__init__(self, x)             \n",
    "        # ...custom code...                   \n",
    "\n",
    "\n",
    "I = Sub(1, 2)\n",
    "\n"
   ]
  },
  {
   "cell_type": "code",
   "execution_count": null,
   "id": "99eaab30",
   "metadata": {},
   "outputs": [],
   "source": [
    "# specialize.py\n",
    "\n",
    "class Super:\n",
    "    def method(self):\n",
    "        print('in Super.method')           \n",
    "    def delegate(self):\n",
    "        self.action()   \n",
    "\n",
    "class Inheritor(Super):                    \n",
    "    pass\n",
    "\n",
    "class Replacer(Super):                     \n",
    "    def method(self):\n",
    "        print('in Replacer.method')\n",
    "\n",
    "\n",
    "class Extender(Super):                     \n",
    "    def method(self):\n",
    "        print('starting Extender.method')\n",
    "        Super.method(self)\n",
    "        print('ending Extender.method')\n",
    "\n",
    "\n",
    "class Provider(Super):                     \n",
    "    def action(self):\n",
    "        print('in Provider.action')\n",
    " # Default behavior\n",
    " # Expected to be defined\n",
    " # Inherit method verbatim\n",
    " # Replace method completely\n",
    " # Extend method behavior\n",
    " # Fill in a required method\n",
    "if __name__ == '__main__':\n",
    "    for klass in (Inheritor, Replacer, Extender):\n",
    "        print('\\n' + klass.__name__ + '...')\n",
    "        klass().method()\n",
    "    print('\\nProvider...')\n",
    "    x = Provider()\n",
    "    x.delegate()"
   ]
  },
  {
   "cell_type": "code",
   "execution_count": null,
   "id": "c65737bf",
   "metadata": {},
   "outputs": [],
   "source": [
    "# OOP and Inheritance: “Is-a” Relationships\n",
    "# OOP and Composition: “Has-a” Relationships\n",
    "\n",
    "\n",
    "from __future__ import print_function\n",
    "\n",
    "class Employee:\n",
    "    def __init__(self, name, salary=0):\n",
    "        self.name   = name\n",
    "        self.salary = salary\n",
    "\n",
    "    def giveRaise(self, percent):\n",
    "        self.salary = self.salary + (self.salary * percent)\n",
    "\n",
    "    def work(self):\n",
    "        print(self.name, \"does stuff\")\n",
    "\n",
    "    def __repr__(self):\n",
    "        return \"<Employee: name=%s, salary=%s>\" % (self.name, self.salary)\n",
    "    \n",
    "\n",
    "class Chef(Employee):\n",
    "    def __init__(self, name):\n",
    "        Employee.__init__(self, name, 50000)\n",
    "    def work(self):\n",
    "        print(self.name, \"makes food\")\n",
    "\n",
    "\n",
    "class Server(Employee):\n",
    "    def __init__(self, name):\n",
    "        Employee.__init__(self, name, 40000)\n",
    "    def work(self):\n",
    "        print(self.name, \"interfaces with customer\")\n",
    "\n",
    "class PizzaRobot(Chef):\n",
    "    def __init__(self, name):\n",
    "        Chef.__init__(self, name)\n",
    "    def work(self):\n",
    "        print(self.name, \"makes pizza\")\n",
    "\n",
    "\n",
    "if __name__ == \"__main__\":\n",
    "    bob = PizzaRobot('bob')     # Make a robot named bob\n",
    "    print(bob)                  # Run inherited __repr__\n",
    "    bob.work()                  # Run type-specific action  \n",
    "    bob.giveRaise(0.20)         # Give bob a 20% raise\n",
    "    print(bob); print()\n",
    "\n",
    "    for klass in Employee, Chef, Server, PizzaRobot:\n",
    "        obj = klass(klass.__name__)\n",
    "        obj.work()"
   ]
  },
  {
   "cell_type": "code",
   "execution_count": null,
   "id": "8b0b9afb",
   "metadata": {},
   "outputs": [],
   "source": [
    "# Classes and Persistence\n",
    "\n",
    "# import pickle\n",
    "# object = SomeClass()\n",
    "# file   = open(filename, 'wb')     \n",
    "# pickle.dump(object, file)         \n",
    "# import pickle\n",
    "# file   = open(filename, 'rb')\n",
    "# object = pickle.load(file)        \n",
    "# Create external file\n",
    "# Save object in file\n",
    "# Fetch it back later\n",
    "\n",
    "# Pickling converts in-memory objects to serialized byte streams (in Python, strings),\n",
    "# which may be stored in files, sent across a network, and so on; unpickling converts\n",
    "# back from byte streams to identical in-memory objects. Shelves are similar, but they\n",
    "# automatically pickle objects to an access-by-key database, which exports a dictionary\n",
    "# like interface"
   ]
  },
  {
   "cell_type": "code",
   "execution_count": null,
   "id": "bcc2d2c2",
   "metadata": {},
   "outputs": [],
   "source": [
    "class ListInstance:\n",
    "    \"\"\"\n",
    "    Mix-in class that provides a formatted print() or str() of instances via\n",
    "    inheritance of __str__ coded here;  displays instance attrs only;  self is\n",
    "    instance of lowest class; __X names avoid clashing with client's attrs\n",
    "    \"\"\"\n",
    "    def __attrnames(self):\n",
    "        result = ''\n",
    "        for attr in sorted(self.__dict__):\n",
    "            result += '\\t%s=%s\\n' % (attr, self.__dict__[attr])\n",
    "        return result\n",
    "    def __str__(self):\n",
    "        return '<Instance of %s, address %s:\\n%s>' % (\n",
    "                           self.__class__.__name__,         \n",
    "                           id(self),                        \n",
    "                           self.__attrnames())              \n",
    "if __name__ == '__main__':\n",
    "    import testmixin\n",
    "    testmixin.tester(ListInstance)"
   ]
  },
  {
   "cell_type": "code",
   "execution_count": null,
   "id": "8244fb1c",
   "metadata": {},
   "outputs": [],
   "source": [
    "# Extending Types by Embedding\n",
    "\n",
    "class Set:\n",
    "   \n",
    "   def __init__(self, value = []):    \n",
    "       self.data = []                 \n",
    "       self.concat(value)\n",
    "\n",
    "   def intersect(self, other):        \n",
    "       res = []                       \n",
    "       for x in self.data:\n",
    "           if x in other:             \n",
    "               res.append(x)\n",
    "       return Set(res)                \n",
    "   def union(self, other):            \n",
    "       res = self.data[:]             \n",
    "       for x in other:                \n",
    "           if not x in res:\n",
    "               res.append(x)\n",
    "       return Set(res)\n",
    "   \n",
    "   def concat(self, value):           \n",
    "       for x in value:                \n",
    "          if not x in self.data:\n",
    "               self.data.append(x)\n",
    "    \n",
    "   def __len__(self):          return len(self.data)            \n",
    "   def __getitem__(self, key): return self.data[key]            \n",
    "   def __and__(self, other):   return self.intersect(other)     \n",
    "   def __or__(self, other):    return self.union(other)  \n",
    "   def __repr__(self):         return 'Set:' + repr(self.data)  # print(self),...\n",
    "   def __iter__(self):         return iter(self.data)"
   ]
  },
  {
   "cell_type": "code",
   "execution_count": null,
   "id": "5a5576d2",
   "metadata": {},
   "outputs": [],
   "source": [
    "#  Extending Types by Subclassing\n",
    "\n",
    "\n",
    " # Subclass built-in list type/class\n",
    " # Map 1..N to 0..N-1; call back to built-in version.\n",
    "class MyList(list):\n",
    "    def __getitem__(self, offset):\n",
    "        print('(indexing %s at %s)' % (self, offset))\n",
    "        return list.__getitem__(self, offset - 1)\n",
    "    \n",
    "if __name__ == '__main__':\n",
    "    print(list('abc'))\n",
    "    x = MyList('abc')               \n",
    "    print(x)                        \n",
    "    print(x[1])                     \n",
    "    print(x[3])                     \n",
    "    x.append('spam'); print(x)      \n",
    "    x.reverse();      print(x)"
   ]
  },
  {
   "cell_type": "code",
   "execution_count": 11,
   "id": "919bbdf9",
   "metadata": {},
   "outputs": [
    {
     "name": "stdout",
     "output_type": "stream",
     "text": [
      "Set:[1, 3, 5, 7] Set:[2, 1, 4, 5, 6] 4\n",
      "Set:[1, 5] Set:[2, 1, 4, 5, 6, 3, 7]\n",
      "Set:[1, 5] Set:[1, 3, 5, 7, 2, 4, 6]\n",
      "Set:[7, 5, 3, 1]\n"
     ]
    }
   ],
   "source": [
    "from __future__ import print_function    \n",
    "class Set(list):\n",
    "    def __init__(self, value = []):      \n",
    "        list.__init__([])                \n",
    "        self.concat(value)               \n",
    "    def intersect(self, other):          \n",
    "        res = []                         \n",
    "        for x in self:\n",
    "            if x in other:               \n",
    "                res.append(x)\n",
    "        return Set(res)                  \n",
    "    def union(self, other):              \n",
    "        res = Set(self)                  \n",
    "        res.concat(other)\n",
    "        return res\n",
    "    def concat(self, value):             \n",
    "        for x in value:                  \n",
    "            if not x in self:\n",
    "                self.append(x)\n",
    "    def __and__(self, other): return self.intersect(other)\n",
    "    def __or__(self, other):  return self.union(other)\n",
    "    def __repr__(self):       return 'Set:' + list.__repr__(self)\n",
    "\n",
    "if __name__ == '__main__':\n",
    "    x = Set([1,3,5,7])\n",
    "    y = Set([2,1,4,5,6])\n",
    "    print(x, y, len(x))\n",
    "    print(x.intersect(y), y.union(x))\n",
    "    print(x & y, x | y)\n",
    "    x.reverse(); print(x)"
   ]
  },
  {
   "cell_type": "code",
   "execution_count": 14,
   "id": "bc808c40",
   "metadata": {},
   "outputs": [
    {
     "data": {
      "text/plain": [
       "(__main__.D, __main__.B, __main__.C, __main__.A, list, object)"
      ]
     },
     "execution_count": 14,
     "metadata": {},
     "output_type": "execute_result"
    }
   ],
   "source": [
    "# __getattr__ and __getattribute__\n",
    "\n",
    "class A(list):\n",
    "    pass\n",
    "\n",
    "\n",
    "A.__mro__\n",
    "\n",
    "\n",
    "class B(A): pass         \n",
    "class C(A): pass         \n",
    "class D(B, C): pass\n",
    "D.__mro__"
   ]
  },
  {
   "cell_type": "code",
   "execution_count": 16,
   "id": "c3b8f808",
   "metadata": {},
   "outputs": [
    {
     "data": {
      "text/plain": [
       "(1, 3)"
      ]
     },
     "execution_count": 16,
     "metadata": {},
     "output_type": "execute_result"
    }
   ],
   "source": [
    "#  Slots: Attribute Declarations\n",
    "\n",
    "class E:\n",
    "    __slots__ = ['c', 'd']            \n",
    "\n",
    "\n",
    "class D(E):\n",
    "    __slots__ = ['a', '__dict__']     \n",
    "\n",
    "\n",
    "X = D()\n",
    "\n",
    "X.a = 1; X.b = 2; X.c = 3             \n",
    "\n",
    "X.a, X.c"
   ]
  },
  {
   "cell_type": "code",
   "execution_count": 19,
   "id": "b0b7e29c",
   "metadata": {},
   "outputs": [
    {
     "name": "stdout",
     "output_type": "stream",
     "text": [
      "Number of instances created: 2\n"
     ]
    }
   ],
   "source": [
    "class Spam:\n",
    "    numInstances = 0\n",
    "    def __init__(self):\n",
    "        Spam.numInstances = Spam.numInstances + 1\n",
    "    def printNumInstances():\n",
    "        print(\"Number of instances created: %s\" % Spam.numInstances)\n",
    "\n",
    "\n",
    "A = Spam()\n",
    "B = Spam()\n",
    "\n",
    "Spam.printNumInstances()"
   ]
  },
  {
   "cell_type": "code",
   "execution_count": 20,
   "id": "dc6c9926",
   "metadata": {},
   "outputs": [],
   "source": [
    "def printNumInstances():\n",
    "    print(\"Number of instances created: %s\" % Spam.numInstances)\n",
    "\n",
    "    \n",
    "class Spam:\n",
    "    numInstances = 0\n",
    "    def __init__(self):\n",
    "        Spam.numInstances = Spam.numInstances + 1"
   ]
  },
  {
   "cell_type": "code",
   "execution_count": 30,
   "id": "3a5f36cb",
   "metadata": {},
   "outputs": [
    {
     "name": "stdout",
     "output_type": "stream",
     "text": [
      "Number of instances: 2 <class '__main__.Spam'>\n"
     ]
    }
   ],
   "source": [
    "# Use class method instead of static\n",
    "\n",
    "\n",
    "# class Spam:\n",
    "#     numInstances = 0                         \n",
    "#     def __init__(self):\n",
    "#         Spam.numInstances += 1\n",
    "#     def printNumInstances(cls):\n",
    "#         print(\"Number of instances: %s\" % cls.numInstances)\n",
    "#     printNumInstances = classmethod(printNumInstances)\n",
    "\n",
    "class Spam:\n",
    "    numInstances = 0                         \n",
    "    def __init__(self):\n",
    "        Spam.numInstances += 1\n",
    "\n",
    "    @classmethod\n",
    "    def printNumInstances(cls):\n",
    "        print(\"Number of instances: %s\" % cls.numInstances, cls)\n",
    "    # printNumInstances = classmethod(printNumInstances)\n",
    "\n",
    "A = Spam()\n",
    "B = Spam()\n",
    "\n",
    "Spam.printNumInstances()"
   ]
  },
  {
   "cell_type": "code",
   "execution_count": 32,
   "id": "fdc9e0c2",
   "metadata": {},
   "outputs": [
    {
     "data": {
      "text/plain": [
       "(50000, 40000)"
      ]
     },
     "execution_count": 32,
     "metadata": {},
     "output_type": "execute_result"
    }
   ],
   "source": [
    "# The super Built-in Function: For Better or Worse?\n",
    "# Runtime Class Changes and super\n",
    "\n",
    "\n",
    "class Employee:\n",
    "    def __init__(self, name, salary):            \n",
    "        self.name = name\n",
    "        self.salary = salary\n",
    "\n",
    "class Chef1(Employee):\n",
    "    def __init__(self, name):                          \n",
    "        Employee.__init__(self, name, 50000)           \n",
    "\n",
    "class Server1(Employee):\n",
    "    def __init__(self, name):\n",
    "        Employee.__init__(self, name, 40000)\n",
    " \n",
    "\n",
    "\n",
    "bob = Chef1('Bob')\n",
    "sue = Server1('Sue')\n",
    "\n",
    "\n",
    "bob.salary, sue.salary\n",
    "#  (50000, 40000)"
   ]
  },
  {
   "cell_type": "code",
   "execution_count": null,
   "id": "b20f5853",
   "metadata": {},
   "outputs": [],
   "source": []
  }
 ],
 "metadata": {
  "kernelspec": {
   "display_name": "base",
   "language": "python",
   "name": "python3"
  },
  "language_info": {
   "codemirror_mode": {
    "name": "ipython",
    "version": 3
   },
   "file_extension": ".py",
   "mimetype": "text/x-python",
   "name": "python",
   "nbconvert_exporter": "python",
   "pygments_lexer": "ipython3",
   "version": "3.13.5"
  }
 },
 "nbformat": 4,
 "nbformat_minor": 5
}
