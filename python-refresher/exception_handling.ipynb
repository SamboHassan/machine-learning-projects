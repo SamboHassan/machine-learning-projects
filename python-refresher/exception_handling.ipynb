{
 "cells": [
  {
   "cell_type": "code",
   "execution_count": 3,
   "id": "54d059a7",
   "metadata": {},
   "outputs": [
    {
     "data": {
      "text/plain": [
       "'\\ntry:\\n statements             # Run this main action first\\nexcept name1:\\n statements             # Run if name1 is raised during try block\\nexcept (name2, name3):\\n statements             # Run if any of these exceptions occur\\nexcept name4 as var:\\n statements             # Run if name4 is raised, assign instance raised to var\\nexcept:\\n statements             # Run for all other exceptions raised\\nelse:\\n statements             # Run if no exception was raised during try block  \\n\\n\\n'"
      ]
     },
     "execution_count": 3,
     "metadata": {},
     "output_type": "execute_result"
    }
   ],
   "source": [
    "\"\"\"\n",
    "try:\n",
    " statements             # Run this main action first\n",
    "except name1:\n",
    " statements             # Run if name1 is raised during try block\n",
    "except (name2, name3):\n",
    " statements             # Run if any of these exceptions occur\n",
    "except name4 as var:\n",
    " statements             # Run if name4 is raised, assign instance raised to var\n",
    "except:\n",
    " statements             # Run for all other exceptions raised\n",
    "else:\n",
    " statements             # Run if no exception was raised during try block  \n",
    "\n",
    "\n",
    "\"\"\"\n",
    "\n",
    "\n",
    "              "
   ]
  },
  {
   "cell_type": "code",
   "execution_count": 6,
   "id": "4f2b7417",
   "metadata": {},
   "outputs": [],
   "source": [
    "#  The raise Statement\n",
    "# The Context Management Protocol\n",
    "\n",
    "# Multiple Context Managers in 3.1, 2.7, and Later\n",
    "\n",
    "\n",
    "\n",
    "#  C:\\code> C:\\Python25\\python\n",
    "#  >>> myexc = \"My exception string\"                 \n",
    "# >>> try:\n",
    "#  ...     \n",
    "# raise myexc\n",
    "#  ... except myexc:\n",
    "#  ...     \n",
    "# print('caught')\n",
    "#  ...\n",
    "#  caught\n",
    "\n",
    "# This form of exception was removed because it was not as good as classes for larger\n",
    "#  programs and code maintenance. In modern Pythons, string exceptions trigger excep\n",
    "# tions instead:"
   ]
  },
  {
   "cell_type": "code",
   "execution_count": 8,
   "id": "66aff2e0",
   "metadata": {},
   "outputs": [
    {
     "name": "stdout",
     "output_type": "stream",
     "text": [
      "['ArithmeticError', 'AssertionError', 'AttributeError', 'BaseException', 'BaseExceptionGroup', 'BlockingIOError', 'BrokenPipeError', 'BufferError', 'BytesWarning', 'ChildProcessError', 'ConnectionAbortedError', 'ConnectionError', 'ConnectionRefusedError', 'ConnectionResetError', 'DeprecationWarning', 'EOFError', 'Ellipsis', 'EncodingWarning', 'EnvironmentError', 'Exception', 'ExceptionGroup', 'False', 'FileExistsError', 'FileNotFoundError', 'FloatingPointError', 'FutureWarning', 'GeneratorExit', 'IOError', 'ImportError', 'ImportWarning', 'IndentationError', 'IndexError', 'InterruptedError', 'IsADirectoryError', 'KeyError', 'KeyboardInterrupt', 'LookupError', 'MemoryError', 'ModuleNotFoundError', 'NameError', 'None', 'NotADirectoryError', 'NotImplemented', 'NotImplementedError', 'OSError', 'OverflowError', 'PendingDeprecationWarning', 'PermissionError', 'ProcessLookupError', 'PythonFinalizationError', 'RecursionError', 'ReferenceError', 'ResourceWarning', 'RuntimeError', 'RuntimeWarning', 'StopAsyncIteration', 'StopIteration', 'SyntaxError', 'SyntaxWarning', 'SystemError', 'SystemExit', 'TabError', 'TimeoutError', 'True', 'TypeError', 'UnboundLocalError', 'UnicodeDecodeError', 'UnicodeEncodeError', 'UnicodeError', 'UnicodeTranslateError', 'UnicodeWarning', 'UserWarning', 'ValueError', 'Warning', 'WindowsError', 'ZeroDivisionError', '_IncompleteInputError', '__IPYTHON__', '__build_class__', '__debug__', '__doc__', '__import__', '__loader__', '__name__', '__package__', '__spec__', 'abs', 'aiter', 'all', 'anext', 'any', 'ascii', 'bin', 'bool', 'breakpoint', 'bytearray', 'bytes', 'callable', 'chr', 'classmethod', 'compile', 'complex', 'copyright', 'credits', 'delattr', 'dict', 'dir', 'display', 'divmod', 'enumerate', 'eval', 'exec', 'execfile', 'filter', 'float', 'format', 'frozenset', 'get_ipython', 'getattr', 'globals', 'hasattr', 'hash', 'help', 'hex', 'id', 'input', 'int', 'isinstance', 'issubclass', 'iter', 'len', 'license', 'list', 'locals', 'map', 'max', 'memoryview', 'min', 'next', 'object', 'oct', 'open', 'ord', 'pow', 'print', 'property', 'range', 'repr', 'reversed', 'round', 'runfile', 'set', 'setattr', 'slice', 'sorted', 'staticmethod', 'str', 'sum', 'super', 'tuple', 'type', 'vars', 'zip']\n"
     ]
    }
   ],
   "source": [
    "print(dir(__builtin__))"
   ]
  },
  {
   "cell_type": "code",
   "execution_count": 9,
   "id": "c83d53ca",
   "metadata": {},
   "outputs": [],
   "source": [
    "#  Custom Print Displays\n",
    "\n",
    "\n",
    "# >>> class MyBad(Exception): pass\n",
    "#  ...\n",
    "#  >>> try:\n",
    "#  ...     \n",
    "# raise MyBad('Sorry--my mistake!')\n",
    "#  ... except MyBad as X:\n",
    "#  ...     \n",
    "# print(X)\n",
    "#  ...\n",
    "#  Sorry--my mistake!\n",
    "\n",
    "\n",
    "\n",
    "\n",
    "# >>> class MyBad(Exception):\n",
    "#  ...     \n",
    "# def __str__(self):\n",
    "#  ...         \n",
    "# ...\n",
    "#  >>> try:\n",
    "#  ...     \n",
    "# return 'Always look on the bright side of life...'\n",
    "#  raise MyBad()\n",
    "#  ... except MyBad as X:\n",
    "#  ...     \n",
    "# print(X)"
   ]
  },
  {
   "cell_type": "code",
   "execution_count": 10,
   "id": "0146c3aa",
   "metadata": {},
   "outputs": [],
   "source": [
    "#  __str__ is preferred to __repr__ in some\n",
    "#  contexts—including error message displays. If you define a __repr__,\n",
    "#  printing will happily call the built-in superclass’s __str__ instead!\n",
    "\n",
    "\n",
    "\n",
    "# • Operations that commonly fail should generally be wrapped in try statements. For\n",
    "#  example, operations that interface with system state (file opens, socket calls, and\n",
    "#  the like) are prime candidates for try.\n",
    "# • However, there are exceptions to the prior rule—in a simple script, you may\n",
    "#  want failures of such operations to kill your program instead of being caught and\n",
    "#  ignored. This is especially true if the failure is a showstopper. Failures in Python\n",
    "#  typically result in useful error messages (not hard crashes), and this is the best\n",
    "#  outcome some programs could hope for.\n",
    "# • You should implement termination actions in try/finally statements to guarantee\n",
    "#  their execution, unless a context manager is available as a with/as option. The try/\n",
    "#  finally statement form allows you to run code whether exceptions occur or not\n",
    "#  in arbitrary scenarios."
   ]
  },
  {
   "cell_type": "code",
   "execution_count": null,
   "id": "6b6417d6",
   "metadata": {},
   "outputs": [],
   "source": [
    "#  • It is sometimes more convenient to wrap the call to a large function in a single\n",
    "#  try statement, rather than littering the function itself with many try statements.\n",
    "# That way, all exceptions in the function percolate up to the try around the call,\n",
    "#  and you reduce the amount of code within the function."
   ]
  }
 ],
 "metadata": {
  "kernelspec": {
   "display_name": "base",
   "language": "python",
   "name": "python3"
  },
  "language_info": {
   "codemirror_mode": {
    "name": "ipython",
    "version": 3
   },
   "file_extension": ".py",
   "mimetype": "text/x-python",
   "name": "python",
   "nbconvert_exporter": "python",
   "pygments_lexer": "ipython3",
   "version": "3.13.5"
  }
 },
 "nbformat": 4,
 "nbformat_minor": 5
}
